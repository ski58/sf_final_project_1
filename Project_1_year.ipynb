{
 "cells": [
  {
   "cell_type": "markdown",
   "id": "c9f7e47e",
   "metadata": {},
   "source": [
    "# Проект Агенство недвижимости"
   ]
  },
  {
   "cell_type": "markdown",
   "id": "8a161f65",
   "metadata": {},
   "source": [
    "К вам обратился представитель крупного агентства недвижимости со\n",
    "следующей проблемой:\n",
    "«Мои риелторы тратят катастрофически много времени на сортировку\n",
    "объявлений и поиск выгодных предложений. Поэтому их скорость реакции, да\n",
    "и, сказать по правде, качество анализа не дотягивают до уровня конкурентов.\n",
    "Это сказывается на наших финансовых показателях.\n",
    "\n",
    "Ваша задача — разработать модель, которая позволила бы обойти\n",
    "конкурентов по скорости и качеству совершения сделок. \n",
    "Необходимо разработать сервис для предсказания стоимости\n",
    "домов на основе истории предложений.\n",
    "\n",
    "Для решения поставленной задачи необходимо определять количественную величину(стоимость домов) по определённым параметрам, тип машинного обучения - задача регрессии.\n",
    "\n",
    "**План проекта:**\n",
    "\n",
    "**1. Исследование данных** - оценка характеристик предоставленных данных, определение их достаточность, предложение идеи об их использовать\n",
    "\n",
    "**2. Подготовка данных**  — подготовка обучающей выборки для использования в моделировании после обработки и отбора признаков.\n",
    "\n",
    "**3. Моделирование** - обучение моделей с получением оценок их качества\n",
    "\n",
    "**4. Оценка модели** - анализ результатов моделирования, принятие решения о внедрении\n",
    "\n",
    "**5. Внедрение** - развертывание модели на сервере.\n"
   ]
  },
  {
   "cell_type": "markdown",
   "id": "2d95789e",
   "metadata": {},
   "source": [
    "## 1. Исследование данных"
   ]
  },
  {
   "cell_type": "code",
   "execution_count": 4,
   "id": "3f663b96",
   "metadata": {},
   "outputs": [],
   "source": [
    "%config InlineBackend.figure_format = 'jpeg'\n",
    "%config InlineBackend.print_figure_kwargs = {'dpi': 72}"
   ]
  },
  {
   "cell_type": "code",
   "execution_count": 1,
   "id": "61dad256",
   "metadata": {},
   "outputs": [],
   "source": [
    "import numpy as np\n",
    "import pandas as pd\n",
    "import matplotlib.pyplot as plt\n",
    "import seaborn as sns\n",
    "import plotly.express as px\n",
    "import math\n",
    "import ast\n",
    "import datetime\n",
    "\n",
    "from scipy import stats\n",
    "from scipy.stats import f_oneway, kruskal\n",
    "from sklearn import linear_model\n",
    "from sklearn import preprocessing\n",
    "from sklearn import model_selection\n",
    "from sklearn import tree\n",
    "from sklearn import ensemble\n",
    "from sklearn import metrics\n",
    "from sklearn import feature_selection\n",
    "from sklearn.linear_model import LinearRegression\n",
    "from dmba import AIC_score, stepwise_selection\n",
    "import plotly.graph_objects as go \n",
    "from sklearn.ensemble import AdaBoostRegressor\n",
    "from sklearn.ensemble import GradientBoostingRegressor\n",
    "from catboost import CatBoostRegressor\n",
    "import xgboost as xgb\n",
    "import pickle"
   ]
  },
  {
   "cell_type": "code",
   "execution_count": 2,
   "id": "86aa782c",
   "metadata": {},
   "outputs": [
    {
     "name": "stdout",
     "output_type": "stream",
     "text": [
      "(377185, 18)\n"
     ]
    },
    {
     "data": {
      "text/html": [
       "<div>\n",
       "<style scoped>\n",
       "    .dataframe tbody tr th:only-of-type {\n",
       "        vertical-align: middle;\n",
       "    }\n",
       "\n",
       "    .dataframe tbody tr th {\n",
       "        vertical-align: top;\n",
       "    }\n",
       "\n",
       "    .dataframe thead th {\n",
       "        text-align: right;\n",
       "    }\n",
       "</style>\n",
       "<table border=\"1\" class=\"dataframe\">\n",
       "  <thead>\n",
       "    <tr style=\"text-align: right;\">\n",
       "      <th></th>\n",
       "      <th>status</th>\n",
       "      <th>private pool</th>\n",
       "      <th>propertyType</th>\n",
       "      <th>street</th>\n",
       "      <th>baths</th>\n",
       "      <th>homeFacts</th>\n",
       "      <th>fireplace</th>\n",
       "      <th>city</th>\n",
       "      <th>schools</th>\n",
       "      <th>sqft</th>\n",
       "      <th>zipcode</th>\n",
       "      <th>beds</th>\n",
       "      <th>state</th>\n",
       "      <th>stories</th>\n",
       "      <th>mls-id</th>\n",
       "      <th>PrivatePool</th>\n",
       "      <th>MlsId</th>\n",
       "      <th>target</th>\n",
       "    </tr>\n",
       "  </thead>\n",
       "  <tbody>\n",
       "    <tr>\n",
       "      <th>0</th>\n",
       "      <td>Active</td>\n",
       "      <td>NaN</td>\n",
       "      <td>Single Family Home</td>\n",
       "      <td>240 Heather Ln</td>\n",
       "      <td>3.5</td>\n",
       "      <td>{'atAGlanceFacts': [{'factValue': '2019', 'fac...</td>\n",
       "      <td>Gas Logs</td>\n",
       "      <td>Southern Pines</td>\n",
       "      <td>[{'rating': ['4', '4', '7', 'NR', '4', '7', 'N...</td>\n",
       "      <td>2900</td>\n",
       "      <td>28387</td>\n",
       "      <td>4</td>\n",
       "      <td>NC</td>\n",
       "      <td>NaN</td>\n",
       "      <td>NaN</td>\n",
       "      <td>NaN</td>\n",
       "      <td>611019</td>\n",
       "      <td>$418,000</td>\n",
       "    </tr>\n",
       "    <tr>\n",
       "      <th>1</th>\n",
       "      <td>for sale</td>\n",
       "      <td>NaN</td>\n",
       "      <td>single-family home</td>\n",
       "      <td>12911 E Heroy Ave</td>\n",
       "      <td>3 Baths</td>\n",
       "      <td>{'atAGlanceFacts': [{'factValue': '2019', 'fac...</td>\n",
       "      <td>NaN</td>\n",
       "      <td>Spokane Valley</td>\n",
       "      <td>[{'rating': ['4/10', 'None/10', '4/10'], 'data...</td>\n",
       "      <td>1,947 sqft</td>\n",
       "      <td>99216</td>\n",
       "      <td>3 Beds</td>\n",
       "      <td>WA</td>\n",
       "      <td>2.0</td>\n",
       "      <td>NaN</td>\n",
       "      <td>NaN</td>\n",
       "      <td>201916904</td>\n",
       "      <td>$310,000</td>\n",
       "    </tr>\n",
       "    <tr>\n",
       "      <th>2</th>\n",
       "      <td>for sale</td>\n",
       "      <td>NaN</td>\n",
       "      <td>single-family home</td>\n",
       "      <td>2005 Westridge Rd</td>\n",
       "      <td>2 Baths</td>\n",
       "      <td>{'atAGlanceFacts': [{'factValue': '1961', 'fac...</td>\n",
       "      <td>yes</td>\n",
       "      <td>Los Angeles</td>\n",
       "      <td>[{'rating': ['8/10', '4/10', '8/10'], 'data': ...</td>\n",
       "      <td>3,000 sqft</td>\n",
       "      <td>90049</td>\n",
       "      <td>3 Beds</td>\n",
       "      <td>CA</td>\n",
       "      <td>1.0</td>\n",
       "      <td>NaN</td>\n",
       "      <td>yes</td>\n",
       "      <td>FR19221027</td>\n",
       "      <td>$2,895,000</td>\n",
       "    </tr>\n",
       "    <tr>\n",
       "      <th>3</th>\n",
       "      <td>for sale</td>\n",
       "      <td>NaN</td>\n",
       "      <td>single-family home</td>\n",
       "      <td>4311 Livingston Ave</td>\n",
       "      <td>8 Baths</td>\n",
       "      <td>{'atAGlanceFacts': [{'factValue': '2006', 'fac...</td>\n",
       "      <td>yes</td>\n",
       "      <td>Dallas</td>\n",
       "      <td>[{'rating': ['9/10', '9/10', '10/10', '9/10'],...</td>\n",
       "      <td>6,457 sqft</td>\n",
       "      <td>75205</td>\n",
       "      <td>5 Beds</td>\n",
       "      <td>TX</td>\n",
       "      <td>3.0</td>\n",
       "      <td>NaN</td>\n",
       "      <td>NaN</td>\n",
       "      <td>14191809</td>\n",
       "      <td>$2,395,000</td>\n",
       "    </tr>\n",
       "    <tr>\n",
       "      <th>4</th>\n",
       "      <td>for sale</td>\n",
       "      <td>NaN</td>\n",
       "      <td>lot/land</td>\n",
       "      <td>1524 Kiscoe St</td>\n",
       "      <td>NaN</td>\n",
       "      <td>{'atAGlanceFacts': [{'factValue': '', 'factLab...</td>\n",
       "      <td>NaN</td>\n",
       "      <td>Palm Bay</td>\n",
       "      <td>[{'rating': ['4/10', '5/10', '5/10'], 'data': ...</td>\n",
       "      <td>NaN</td>\n",
       "      <td>32908</td>\n",
       "      <td>NaN</td>\n",
       "      <td>FL</td>\n",
       "      <td>NaN</td>\n",
       "      <td>NaN</td>\n",
       "      <td>NaN</td>\n",
       "      <td>861745</td>\n",
       "      <td>$5,000</td>\n",
       "    </tr>\n",
       "  </tbody>\n",
       "</table>\n",
       "</div>"
      ],
      "text/plain": [
       "     status private pool        propertyType               street    baths  \\\n",
       "0    Active          NaN  Single Family Home       240 Heather Ln      3.5   \n",
       "1  for sale          NaN  single-family home    12911 E Heroy Ave  3 Baths   \n",
       "2  for sale          NaN  single-family home    2005 Westridge Rd  2 Baths   \n",
       "3  for sale          NaN  single-family home  4311 Livingston Ave  8 Baths   \n",
       "4  for sale          NaN            lot/land       1524 Kiscoe St      NaN   \n",
       "\n",
       "                                           homeFacts fireplace  \\\n",
       "0  {'atAGlanceFacts': [{'factValue': '2019', 'fac...  Gas Logs   \n",
       "1  {'atAGlanceFacts': [{'factValue': '2019', 'fac...       NaN   \n",
       "2  {'atAGlanceFacts': [{'factValue': '1961', 'fac...       yes   \n",
       "3  {'atAGlanceFacts': [{'factValue': '2006', 'fac...       yes   \n",
       "4  {'atAGlanceFacts': [{'factValue': '', 'factLab...       NaN   \n",
       "\n",
       "             city                                            schools  \\\n",
       "0  Southern Pines  [{'rating': ['4', '4', '7', 'NR', '4', '7', 'N...   \n",
       "1  Spokane Valley  [{'rating': ['4/10', 'None/10', '4/10'], 'data...   \n",
       "2     Los Angeles  [{'rating': ['8/10', '4/10', '8/10'], 'data': ...   \n",
       "3          Dallas  [{'rating': ['9/10', '9/10', '10/10', '9/10'],...   \n",
       "4        Palm Bay  [{'rating': ['4/10', '5/10', '5/10'], 'data': ...   \n",
       "\n",
       "         sqft zipcode    beds state stories mls-id PrivatePool       MlsId  \\\n",
       "0        2900   28387       4    NC     NaN    NaN         NaN      611019   \n",
       "1  1,947 sqft   99216  3 Beds    WA     2.0    NaN         NaN   201916904   \n",
       "2  3,000 sqft   90049  3 Beds    CA     1.0    NaN         yes  FR19221027   \n",
       "3  6,457 sqft   75205  5 Beds    TX     3.0    NaN         NaN    14191809   \n",
       "4         NaN   32908     NaN    FL     NaN    NaN         NaN      861745   \n",
       "\n",
       "       target  \n",
       "0    $418,000  \n",
       "1    $310,000  \n",
       "2  $2,895,000  \n",
       "3  $2,395,000  \n",
       "4      $5,000  "
      ]
     },
     "execution_count": 2,
     "metadata": {},
     "output_type": "execute_result"
    }
   ],
   "source": [
    "data = pd.read_csv(r'data.csv')\n",
    "\n",
    "data_realt = data.copy()\n",
    "print(data_realt.shape)\n",
    "data_realt.head()"
   ]
  },
  {
   "cell_type": "code",
   "execution_count": 3,
   "id": "cdb6d3a5",
   "metadata": {},
   "outputs": [
    {
     "name": "stdout",
     "output_type": "stream",
     "text": [
      "<class 'pandas.core.frame.DataFrame'>\n",
      "RangeIndex: 377185 entries, 0 to 377184\n",
      "Data columns (total 18 columns):\n",
      " #   Column        Non-Null Count   Dtype \n",
      "---  ------        --------------   ----- \n",
      " 0   status        337267 non-null  object\n",
      " 1   private pool  4181 non-null    object\n",
      " 2   propertyType  342452 non-null  object\n",
      " 3   street        377183 non-null  object\n",
      " 4   baths         270847 non-null  object\n",
      " 5   homeFacts     377185 non-null  object\n",
      " 6   fireplace     103115 non-null  object\n",
      " 7   city          377151 non-null  object\n",
      " 8   schools       377185 non-null  object\n",
      " 9   sqft          336608 non-null  object\n",
      " 10  zipcode       377185 non-null  object\n",
      " 11  beds          285903 non-null  object\n",
      " 12  state         377185 non-null  object\n",
      " 13  stories       226470 non-null  object\n",
      " 14  mls-id        24942 non-null   object\n",
      " 15  PrivatePool   40311 non-null   object\n",
      " 16  MlsId         310305 non-null  object\n",
      " 17  target        374704 non-null  object\n",
      "dtypes: object(18)\n",
      "memory usage: 51.8+ MB\n"
     ]
    }
   ],
   "source": [
    "data_realt.info()"
   ]
  },
  {
   "cell_type": "markdown",
   "id": "913f1d6c",
   "metadata": {},
   "source": [
    "Все признаки представлены типом object, в том числе целевой, также имеются пропуски в большинстве признаков.\n",
    "\n",
    "Сформилируем дальнейшую схему обработки данных на следующем этапе:\n",
    "\n",
    "1. Привести целевой признак(target) к числовому типу\n",
    "2. Обработать пропуски в целевом признаке(target)\n",
    "3. Проанализировать и удалить неинформативные признаки\n",
    "4. Отдельно обработать информацию в признаках homeFacts и school, содержащие пул данных\n",
    "5. Обработать пропуски в остальных признаках\n",
    "6. Спроектировать новые признаки\n",
    "7. Визуализировать данные, найти зависимости, гипотезы\n"
   ]
  },
  {
   "cell_type": "markdown",
   "id": "8a4fe5dc",
   "metadata": {},
   "source": [
    "## 2. Подготовка данных"
   ]
  },
  {
   "cell_type": "markdown",
   "id": "f888ee9d",
   "metadata": {},
   "source": [
    "**target (цена недвижимости)**"
   ]
  },
  {
   "cell_type": "code",
   "execution_count": 4,
   "id": "b207d140",
   "metadata": {},
   "outputs": [],
   "source": [
    "# приведем целевой признак target (цена недвижимости) к числовому типу\n",
    "def target_change(target):\n",
    "    \"\"\" Очищает целевую переменную от посторонних символов и\n",
    "        возвращает  в формате integer.\n",
    "        Пропущенные значения оставляет без изменений.\n",
    "    \"\"\"\n",
    "    \n",
    "    number_list = ['1', '2', '3', '4', '5', '6', '7', '8', '9', '0']\n",
    "    # создаём новый лист, куда добавляем символы, если они присутствуют в number_list\n",
    "    target_new = []\n",
    "    # если нет пропуска, то разбиваем посимвольно и проверяем каждый символ на соответствие number_list\n",
    "    if target is not np.nan:\n",
    "        target_list = list(str(target))\n",
    "        for i in target_list:\n",
    "            if i in number_list:\n",
    "               target_new.append(i)\n",
    "        # соединяем все цифры воедино и преобразуем в формат integer\n",
    "        target_int = int(''.join(target_new))        \n",
    "        return target_int\n",
    "    # если имеется пропущенное значение, то преобразований не проводим\n",
    "    else:\n",
    "        return target\n",
    "    \n",
    "data_realt['target_clear'] = data_realt['target'].apply(target_change)\n",
    "# удаляем признак target\n",
    "data_realt = data_realt.drop(['target'], axis=1)\n"
   ]
  },
  {
   "cell_type": "code",
   "execution_count": 5,
   "id": "c9539241",
   "metadata": {},
   "outputs": [
    {
     "name": "stdout",
     "output_type": "stream",
     "text": [
      "Число пропусков в target_clear = 2481.\n"
     ]
    }
   ],
   "source": [
    "# подсчитываем число пропусков в target_clear\n",
    "print(f'Число пропусков в target_clear = {data_realt[\"target_clear\"].isnull().sum()}.')"
   ]
  },
  {
   "cell_type": "code",
   "execution_count": 6,
   "id": "43a451d0",
   "metadata": {},
   "outputs": [
    {
     "name": "stdout",
     "output_type": "stream",
     "text": [
      "Количество пропусков = 0.\n"
     ]
    }
   ],
   "source": [
    "# поскольку число пропусков не велико,  заменим их медианным значением по столбцу\n",
    "data_realt['target_clear'] = data_realt['target_clear'].fillna(data_realt['target_clear'].median())\n",
    "print(f'Количество пропусков = {data_realt[\"target_clear\"].isnull().sum()}.')  "
   ]
  },
  {
   "cell_type": "code",
   "execution_count": 7,
   "id": "f8c94dea",
   "metadata": {},
   "outputs": [
    {
     "data": {
      "text/plain": [
       "count    3.771850e+05\n",
       "mean     6.426214e+05\n",
       "std      1.835553e+06\n",
       "min      1.000000e+00\n",
       "25%      1.889000e+05\n",
       "50%      3.200000e+05\n",
       "75%      5.790000e+05\n",
       "max      1.950000e+08\n",
       "Name: target_clear, dtype: float64"
      ]
     },
     "execution_count": 7,
     "metadata": {},
     "output_type": "execute_result"
    }
   ],
   "source": [
    "# получим описательные статистики по целевой переменной\n",
    "data_realt['target_clear'].describe()"
   ]
  },
  {
   "cell_type": "markdown",
   "id": "3a2ad1e2",
   "metadata": {},
   "source": [
    "Имеется недвижимость стоимостью $1, что явно является выбросом. Средняя стоимость недвижимости 642621,4 больше чем в 2 раза медианной 320000.  За меру центральной тенденции будем понимать именно медианное значение цены, так как эта характеристика является устойчивой к выбросам.  "
   ]
  },
  {
   "cell_type": "code",
   "execution_count": null,
   "id": "cb82ce59",
   "metadata": {},
   "outputs": [],
   "source": [
    "# построим распределение целевой переменной\n",
    "fig = px.histogram(\n",
    "    data_frame=data_realt,\n",
    "    x='target_clear',    \n",
    "    title='Distribution of the  target variable',\n",
    "    text_auto=True,    \n",
    "    height=600,    \n",
    "    width=1000,\n",
    "    nbins=400           \n",
    ")\n",
    "fig.show()"
   ]
  },
  {
   "cell_type": "markdown",
   "id": "034f2ca6",
   "metadata": {},
   "source": [
    "Распределение целевой переменной не дало понимания общей картины из-за большого диапазона цен и выбросов. Создадим новый признак на основе логарифмирования целевого, приведя исходное распределение к подобию нормального для удобства."
   ]
  },
  {
   "cell_type": "code",
   "execution_count": 10,
   "id": "f7bf27cc",
   "metadata": {},
   "outputs": [],
   "source": [
    "data_realt['target_clear_log'] = np.log(data_realt['target_clear'])"
   ]
  },
  {
   "cell_type": "code",
   "execution_count": null,
   "id": "42d0f77d",
   "metadata": {},
   "outputs": [],
   "source": [
    "fig = px.histogram(\n",
    "    data_frame=data_realt,\n",
    "    x='target_clear_log',    \n",
    "    title='Distribution of the target variable',\n",
    "    text_auto=True,    \n",
    "    height=800,    \n",
    "    width=1000, \n",
    "    nbins=100,\n",
    "    marginal='box'   \n",
    ")\n",
    "fig.show()"
   ]
  },
  {
   "cell_type": "markdown",
   "id": "84599cee",
   "metadata": {},
   "source": [
    "Избавимся от выбросов по целевому признаку, для этого воспользуемся методом Тьюки, применив его к логарифмированному признаку:"
   ]
  },
  {
   "cell_type": "code",
   "execution_count": 12,
   "id": "34a020ba",
   "metadata": {},
   "outputs": [],
   "source": [
    "def outliers_iqr(df, feature):\n",
    "    \"\"\" избавление признака feature из датафрейма df от выбросов по методу Тьюки(межквартильный размах)\n",
    "        возвращает два датафрейма - outliers с выбросами и cleaned очищенный датасет\n",
    "    \"\"\"\n",
    "    x = df[feature]\n",
    "    quartile_1, quartile_3 = x.quantile(0.25), x.quantile(0.75),\n",
    "    iqr = quartile_3 - quartile_1\n",
    "    lower_bound = quartile_1 - (iqr * 1.5)\n",
    "    upper_bound = quartile_3 + (iqr * 1.5)\n",
    "    outliers = df[(x<lower_bound) | (x > upper_bound)]\n",
    "    cleaned = df[(x>lower_bound) & (x < upper_bound)].reset_index()\n",
    "    cleaned = cleaned.drop([feature, 'index'], axis=1)\n",
    "    return outliers, cleaned\n",
    "\n",
    "outliers, data_realt = outliers_iqr(data_realt, 'target_clear_log')"
   ]
  },
  {
   "cell_type": "code",
   "execution_count": 13,
   "id": "8d1ecb89",
   "metadata": {},
   "outputs": [
    {
     "name": "stdout",
     "output_type": "stream",
     "text": [
      "Число наблюдений 349020.\n"
     ]
    },
    {
     "data": {
      "text/plain": [
       "count    3.490200e+05\n",
       "mean     4.823370e+05\n",
       "std      4.757567e+05\n",
       "min      3.525000e+04\n",
       "25%      2.039500e+05\n",
       "50%      3.250000e+05\n",
       "75%      5.690000e+05\n",
       "max      3.104956e+06\n",
       "Name: target_clear, dtype: float64"
      ]
     },
     "execution_count": 13,
     "metadata": {},
     "output_type": "execute_result"
    }
   ],
   "source": [
    "print(f'Число наблюдений {data_realt.shape[0]}.')\n",
    "data_realt['target_clear'].describe()"
   ]
  },
  {
   "cell_type": "markdown",
   "id": "f35e6b29",
   "metadata": {},
   "source": [
    "После очистки число наблюдений уменьшилось до 349020, ушли аномальные значения в виде 1 или 195 млн, средняя цена стала больше медианной  только в 1.5 раза."
   ]
  },
  {
   "cell_type": "markdown",
   "id": "3045b4f2",
   "metadata": {},
   "source": [
    "### неинформативные признаки"
   ]
  },
  {
   "cell_type": "markdown",
   "id": "5956f5f2",
   "metadata": {},
   "source": [
    "Признаки MlsId и mls-id, которые являются уникальными номерами в базе данных в системе множественного листинга цен недвижимости и никакой информативности не несут. Признаки наличия частного бассейна  private pool и PrivatePool, а также признак fireplace содержат порядка 70-90% пропусков и они кандидаты на удаление. Удалим перечисленные признаки:"
   ]
  },
  {
   "cell_type": "code",
   "execution_count": 14,
   "id": "9b18d0c8",
   "metadata": {},
   "outputs": [],
   "source": [
    "data_realt = data_realt.drop(['MlsId', 'mls-id', 'private pool', 'PrivatePool', 'fireplace'], axis=1)"
   ]
  },
  {
   "cell_type": "code",
   "execution_count": 15,
   "id": "3a07f8cd",
   "metadata": {},
   "outputs": [
    {
     "name": "stdout",
     "output_type": "stream",
     "text": [
      "<class 'pandas.core.frame.DataFrame'>\n",
      "RangeIndex: 349020 entries, 0 to 349019\n",
      "Data columns (total 13 columns):\n",
      " #   Column        Non-Null Count   Dtype  \n",
      "---  ------        --------------   -----  \n",
      " 0   status        310616 non-null  object \n",
      " 1   propertyType  319262 non-null  object \n",
      " 2   street        349018 non-null  object \n",
      " 3   baths         259061 non-null  object \n",
      " 4   homeFacts     349020 non-null  object \n",
      " 5   city          349000 non-null  object \n",
      " 6   schools       349020 non-null  object \n",
      " 7   sqft          318875 non-null  object \n",
      " 8   zipcode       349020 non-null  object \n",
      " 9   beds          273997 non-null  object \n",
      " 10  state         349020 non-null  object \n",
      " 11  stories       218559 non-null  object \n",
      " 12  target_clear  349020 non-null  float64\n",
      "dtypes: float64(1), object(12)\n",
      "memory usage: 34.6+ MB\n"
     ]
    }
   ],
   "source": [
    "data_realt.info()"
   ]
  },
  {
   "cell_type": "markdown",
   "id": "243f20c6",
   "metadata": {},
   "source": [
    "**status (статус продажи), propertyType (тип недвижимости), street (улица)**"
   ]
  },
  {
   "cell_type": "code",
   "execution_count": 16,
   "id": "d58d5770",
   "metadata": {},
   "outputs": [
    {
     "data": {
      "text/plain": [
       "count       310616\n",
       "unique         157\n",
       "top       for sale\n",
       "freq        144745\n",
       "Name: status, dtype: object"
      ]
     },
     "execution_count": 16,
     "metadata": {},
     "output_type": "execute_result"
    }
   ],
   "source": [
    "# определим наиболее распространенное значение для заполнения пропусков признака status\n",
    "data_realt['status'].describe()"
   ]
  },
  {
   "cell_type": "code",
   "execution_count": 17,
   "id": "0b31dcde",
   "metadata": {},
   "outputs": [],
   "source": [
    "# заполним пропуски значением for sale\n",
    "data_realt['status'] = data_realt['status'].fillna(data_realt['status'].describe().top)"
   ]
  },
  {
   "cell_type": "code",
   "execution_count": 18,
   "id": "bcd46bd9",
   "metadata": {},
   "outputs": [
    {
     "data": {
      "text/plain": [
       "count                 319262\n",
       "unique                  1251\n",
       "top       single-family home\n",
       "freq                   88107\n",
       "Name: propertyType, dtype: object"
      ]
     },
     "execution_count": 18,
     "metadata": {},
     "output_type": "execute_result"
    }
   ],
   "source": [
    "# определим наиболее распространенное значение для заполнения пропусков признака propertyType\n",
    "data_realt['propertyType'].describe()"
   ]
  },
  {
   "cell_type": "code",
   "execution_count": 19,
   "id": "31573d97",
   "metadata": {},
   "outputs": [],
   "source": [
    "# заполним пропуски значением single-family home\n",
    "data_realt['propertyType'] = data_realt['propertyType'].fillna(data_realt['propertyType'].describe().top)"
   ]
  },
  {
   "cell_type": "code",
   "execution_count": 20,
   "id": "c990eed6",
   "metadata": {},
   "outputs": [
    {
     "data": {
      "text/plain": [
       "count                    349018\n",
       "unique                   311427\n",
       "top       Address Not Disclosed\n",
       "freq                        648\n",
       "Name: street, dtype: object"
      ]
     },
     "execution_count": 20,
     "metadata": {},
     "output_type": "execute_result"
    }
   ],
   "source": [
    "# определим наиболее распространенное значение для заполнения пропусков признака street\n",
    "data_realt['street'].describe()"
   ]
  },
  {
   "cell_type": "code",
   "execution_count": 21,
   "id": "b9dabaa7",
   "metadata": {},
   "outputs": [],
   "source": [
    "# заполним пропуски значением Address Not Disclosed\n",
    "data_realt['street'] = data_realt['street'].fillna(data_realt['street'].describe().top)"
   ]
  },
  {
   "cell_type": "code",
   "execution_count": 22,
   "id": "0ecc17bf",
   "metadata": {},
   "outputs": [],
   "source": [
    "# для удобства работы переведём данные в признаках status, propertyType, street в нижний регистр\n",
    "data_realt['status'] = data_realt['status'].apply(lambda x: x.lower())\n",
    "data_realt['propertyType'] = data_realt['propertyType'].apply(lambda x: x.lower())\n",
    "data_realt['street'] = data_realt['street'].apply(lambda x: x.lower())"
   ]
  },
  {
   "cell_type": "code",
   "execution_count": 23,
   "id": "e38ae45d",
   "metadata": {},
   "outputs": [
    {
     "data": {
      "text/plain": [
       "for sale                   224782\n",
       "active                      94337\n",
       "foreclosure                  5542\n",
       "new construction             5323\n",
       "pending                      4370\n",
       "                            ...  \n",
       "coming soon: dec 15.            1\n",
       "pending w/backup wanted         1\n",
       "coming soon: dec 25.            1\n",
       "pending fe                      1\n",
       "coming soon: dec 23.            1\n",
       "Name: status, Length: 150, dtype: int64"
      ]
     },
     "execution_count": 23,
     "metadata": {},
     "output_type": "execute_result"
    }
   ],
   "source": [
    "data_realt['status'].value_counts()"
   ]
  },
  {
   "cell_type": "markdown",
   "id": "a4eccccd",
   "metadata": {},
   "source": [
    "Большая часть  признака status заполнена 5-ю первыми категориями,\n",
    "оставим их без изменения, остальные заменим на категорию other"
   ]
  },
  {
   "cell_type": "code",
   "execution_count": 24,
   "id": "745ca51c",
   "metadata": {},
   "outputs": [],
   "source": [
    "status_list = list(data_realt['status'].value_counts()[:5].index)\n",
    "data_realt['status'] = data_realt['status'].apply(lambda x: x if x in status_list else 'other')"
   ]
  },
  {
   "cell_type": "code",
   "execution_count": 25,
   "id": "234afa44",
   "metadata": {},
   "outputs": [
    {
     "data": {
      "text/plain": [
       "single-family home               117865\n",
       "single family                     60789\n",
       "condo                             40749\n",
       "single family home                30988\n",
       "townhouse                         18017\n",
       "lot/land                          14281\n",
       "condo/townhome/row home/co-op      7609\n",
       "multi-family                       7298\n",
       "land                               5887\n",
       "traditional                        5843\n",
       "coop                               3071\n",
       "multi family                       2620\n",
       "ranch                              1757\n",
       "high rise                          1724\n",
       "detached, one story                1597\n",
       "single detached, traditional       1569\n",
       "contemporary                       1533\n",
       "multi-family home                  1347\n",
       "mobile/manufactured                1342\n",
       "1 story                            1233\n",
       "colonial                           1132\n",
       "contemporary/modern                 988\n",
       "mobile / manufactured               932\n",
       "2 stories                           911\n",
       "Name: propertyType, dtype: int64"
      ]
     },
     "execution_count": 25,
     "metadata": {},
     "output_type": "execute_result"
    }
   ],
   "source": [
    "data_realt['propertyType'].value_counts()[:24]"
   ]
  },
  {
   "cell_type": "code",
   "execution_count": 26,
   "id": "5c5fb80c",
   "metadata": {},
   "outputs": [
    {
     "data": {
      "text/plain": [
       "0.8862701277863734"
      ]
     },
     "execution_count": 26,
     "metadata": {},
     "output_type": "execute_result"
    }
   ],
   "source": [
    "sum(data_realt['propertyType'].value_counts()[:10]/data_realt.shape[0])"
   ]
  },
  {
   "cell_type": "markdown",
   "id": "a0512cd7",
   "metadata": {},
   "source": [
    "Первые наиболее часто встречающие  10 категорий признака propertyType занимают  89 % всех записей\n",
    "Оставим их без изменения, остальные обозначим other"
   ]
  },
  {
   "cell_type": "code",
   "execution_count": 27,
   "id": "1658ea3e",
   "metadata": {},
   "outputs": [],
   "source": [
    "# лист с категориями\n",
    "propertyType_list = list(data_realt['propertyType'].value_counts()[:10].index)\n",
    "data_realt['propertyType'] = data_realt['propertyType'].apply(lambda x: x if x in propertyType_list else 'other')"
   ]
  },
  {
   "cell_type": "code",
   "execution_count": 28,
   "id": "94e211ae",
   "metadata": {},
   "outputs": [
    {
     "data": {
      "text/plain": [
       "single-family home               117865\n",
       "single family                     60789\n",
       "condo                             40749\n",
       "other                             39694\n",
       "single family home                30988\n",
       "townhouse                         18017\n",
       "lot/land                          14281\n",
       "condo/townhome/row home/co-op      7609\n",
       "multi-family                       7298\n",
       "land                               5887\n",
       "traditional                        5843\n",
       "Name: propertyType, dtype: int64"
      ]
     },
     "execution_count": 28,
     "metadata": {},
     "output_type": "execute_result"
    }
   ],
   "source": [
    "data_realt['propertyType'].value_counts()"
   ]
  },
  {
   "cell_type": "code",
   "execution_count": 29,
   "id": "f2f4319b",
   "metadata": {},
   "outputs": [],
   "source": [
    "# проводим удаление(замену) ненужных символов \n",
    "data_realt['propertyType'] = data_realt['propertyType'].apply(lambda x: ' '.join(x.replace('-', ' ').replace('/', ' ').split(' ')[0:2]))\n",
    "data_realt['propertyType'] = data_realt['propertyType'].replace('condo townhome', 'condo').replace('lot land', 'land')\n"
   ]
  },
  {
   "cell_type": "code",
   "execution_count": 30,
   "id": "506bc089",
   "metadata": {},
   "outputs": [
    {
     "data": {
      "text/plain": [
       "0                   240 heather ln\n",
       "1                12911 e heroy ave\n",
       "2                2005 westridge rd\n",
       "3              4311 livingston ave\n",
       "4                1624 s newkirk st\n",
       "                    ...           \n",
       "349015       2238 11th st nw apt 2\n",
       "349016           20800 ne 23rd ave\n",
       "349017    3530 n lake shore dr #4b\n",
       "349018           15509 linden blvd\n",
       "349019            5983 midcrown dr\n",
       "Name: street, Length: 349020, dtype: object"
      ]
     },
     "execution_count": 30,
     "metadata": {},
     "output_type": "execute_result"
    }
   ],
   "source": [
    "data_realt['street']"
   ]
  },
  {
   "cell_type": "markdown",
   "id": "ac7beca1",
   "metadata": {},
   "source": [
    "Преобразуем признак улица(street), избавившись от номеров домов и оставив только наименование улиц - подразумевая, что стоимость недвижимость привязана к местоположению, а наименование улицы один из способов привязаться к этому местоположению. Далее те улицы, которые будут в единственном экземпляре объединим в категорию other."
   ]
  },
  {
   "cell_type": "code",
   "execution_count": 31,
   "id": "2325d7ef",
   "metadata": {},
   "outputs": [],
   "source": [
    "# приведем подобные по смыслу выражения об отсуствии адреса к  одному выражению\n",
    "data_realt['street'] = data_realt['street'].replace('undisclosed address', 'address not disclosed').replace('(undisclosed address)', 'address not disclosed')\\\n",
    "    .replace('address not available', 'address not disclosed').replace('unknown address', 'address not disclosed')\n",
    "    \n",
    "data_realt['street_new'] = data_realt['street'].apply(lambda x: ' '.join(x.split(' ')[1:4])).replace('', 'address not disclosed').replace('address not disclosed', 'not disclosed')\n",
    "data_realt = data_realt.drop(['street'], axis=1)\n"
   ]
  },
  {
   "cell_type": "code",
   "execution_count": 32,
   "id": "e497e9b4",
   "metadata": {},
   "outputs": [
    {
     "name": "stderr",
     "output_type": "stream",
     "text": [
      "C:\\Users\\user\\AppData\\Local\\Temp/ipykernel_17840/1496137909.py:3: SettingWithCopyWarning:\n",
      "\n",
      "\n",
      "A value is trying to be set on a copy of a slice from a DataFrame.\n",
      "Try using .loc[row_indexer,col_indexer] = value instead\n",
      "\n",
      "See the caveats in the documentation: https://pandas.pydata.org/pandas-docs/stable/user_guide/indexing.html#returning-a-view-versus-a-copy\n",
      "\n"
     ]
    }
   ],
   "source": [
    "street_list = list(data_realt['street_new'].value_counts()[data_realt['street_new'].value_counts()==1].index)\n",
    "data_street_one = data_realt[data_realt['street_new'].isin(street_list)]\n",
    "data_street_one['street_new'] = data_street_one['street_new'].apply(lambda x: 'other')\n",
    "data_realt = pd.concat(\n",
    "    [data_realt[~data_realt['street_new'].isin(street_list)], data_street_one],\n",
    "    ignore_index=True,\n",
    "    axis=0\n",
    ")"
   ]
  },
  {
   "cell_type": "markdown",
   "id": "83c9910a",
   "metadata": {},
   "source": [
    "**city (город)**"
   ]
  },
  {
   "cell_type": "code",
   "execution_count": 33,
   "id": "2abf7900",
   "metadata": {},
   "outputs": [
    {
     "data": {
      "text/plain": [
       "20"
      ]
     },
     "execution_count": 33,
     "metadata": {},
     "output_type": "execute_result"
    }
   ],
   "source": [
    "# найдем число пропусков в признаке city\n",
    "data_realt['city'].isnull().sum()"
   ]
  },
  {
   "cell_type": "markdown",
   "id": "37863cd3",
   "metadata": {},
   "source": [
    "Спарсим данные по городам/штатам/округам/zip-code с сайта http://amerikos.com/geo/?pageNumber=1&pageLimit=120, полученную таблицу, содержащую признаки: Город, Штат, Округ, Индекс, Телефонный код, Часовой пояс, Широта, Долгота, запишем в файл для последующего использования, не прибегая к парсингу"
   ]
  },
  {
   "cell_type": "code",
   "execution_count": 34,
   "id": "de323fa2",
   "metadata": {},
   "outputs": [
    {
     "name": "stdout",
     "output_type": "stream",
     "text": [
      "Парсим 1 страницу\n",
      "Парсим 2 страницу\n",
      "Парсим 3 страницу\n",
      "Парсим 4 страницу\n",
      "Парсим 5 страницу\n",
      "Парсим 6 страницу\n",
      "Парсим 7 страницу\n",
      "Парсим 8 страницу\n",
      "Парсим 9 страницу\n",
      "Парсим 10 страницу\n",
      "Парсим 11 страницу\n",
      "Парсим 12 страницу\n",
      "Парсим 13 страницу\n",
      "Парсим 14 страницу\n",
      "Парсим 15 страницу\n",
      "Парсим 16 страницу\n",
      "Парсим 17 страницу\n",
      "Парсим 18 страницу\n",
      "Парсим 19 страницу\n",
      "Парсим 20 страницу\n",
      "Парсим 21 страницу\n",
      "Парсим 22 страницу\n",
      "Парсим 23 страницу\n",
      "Парсим 24 страницу\n",
      "Парсим 25 страницу\n",
      "Парсим 26 страницу\n",
      "Парсим 27 страницу\n",
      "Парсим 28 страницу\n",
      "Парсим 29 страницу\n",
      "Парсим 30 страницу\n",
      "Парсим 31 страницу\n",
      "Парсим 32 страницу\n",
      "Парсим 33 страницу\n",
      "Парсим 34 страницу\n",
      "Парсим 35 страницу\n",
      "Парсим 36 страницу\n",
      "Парсим 37 страницу\n",
      "Парсим 38 страницу\n",
      "Парсим 39 страницу\n",
      "Парсим 40 страницу\n",
      "Парсим 41 страницу\n",
      "Парсим 42 страницу\n",
      "Парсим 43 страницу\n",
      "Парсим 44 страницу\n",
      "Парсим 45 страницу\n",
      "Парсим 46 страницу\n",
      "Парсим 47 страницу\n",
      "Парсим 48 страницу\n",
      "Парсим 49 страницу\n",
      "Парсим 50 страницу\n",
      "Парсим 51 страницу\n",
      "Парсим 52 страницу\n",
      "Парсим 53 страницу\n",
      "Парсим 54 страницу\n",
      "Парсим 55 страницу\n",
      "Парсим 56 страницу\n",
      "Парсим 57 страницу\n",
      "Парсим 58 страницу\n",
      "Парсим 59 страницу\n",
      "Парсим 60 страницу\n",
      "Парсим 61 страницу\n",
      "Парсим 62 страницу\n",
      "Парсим 63 страницу\n",
      "Парсим 64 страницу\n",
      "Парсим 65 страницу\n",
      "Парсим 66 страницу\n",
      "Парсим 67 страницу\n",
      "Парсим 68 страницу\n",
      "Парсим 69 страницу\n",
      "Парсим 70 страницу\n",
      "Парсим 71 страницу\n",
      "Парсим 72 страницу\n",
      "Парсим 73 страницу\n",
      "Парсим 74 страницу\n",
      "Парсим 75 страницу\n",
      "Парсим 76 страницу\n",
      "Парсим 77 страницу\n",
      "Парсим 78 страницу\n",
      "Парсим 79 страницу\n",
      "Парсим 80 страницу\n",
      "Парсим 81 страницу\n",
      "Парсим 82 страницу\n",
      "Парсим 83 страницу\n",
      "Парсим 84 страницу\n",
      "Парсим 85 страницу\n",
      "Парсим 86 страницу\n",
      "Парсим 87 страницу\n",
      "Парсим 88 страницу\n",
      "Парсим 89 страницу\n",
      "Парсим 90 страницу\n",
      "Парсим 91 страницу\n",
      "Парсим 92 страницу\n",
      "Парсим 93 страницу\n",
      "Парсим 94 страницу\n",
      "Парсим 95 страницу\n",
      "Парсим 96 страницу\n",
      "Парсим 97 страницу\n",
      "Парсим 98 страницу\n",
      "Парсим 99 страницу\n",
      "Парсим 100 страницу\n",
      "Парсим 101 страницу\n",
      "Парсим 102 страницу\n",
      "Парсим 103 страницу\n",
      "Парсим 104 страницу\n",
      "Парсим 105 страницу\n",
      "Парсим 106 страницу\n",
      "Парсим 107 страницу\n",
      "Парсим 108 страницу\n",
      "Парсим 109 страницу\n",
      "Парсим 110 страницу\n",
      "Парсим 111 страницу\n",
      "Парсим 112 страницу\n",
      "Парсим 113 страницу\n",
      "Парсим 114 страницу\n",
      "Парсим 115 страницу\n",
      "Парсим 116 страницу\n",
      "Парсим 117 страницу\n",
      "Парсим 118 страницу\n",
      "Парсим 119 страницу\n",
      "Парсим 120 страницу\n",
      "Парсим 121 страницу\n",
      "Парсим 122 страницу\n",
      "Парсим 123 страницу\n",
      "Парсим 124 страницу\n",
      "Парсим 125 страницу\n",
      "Парсим 126 страницу\n",
      "Парсим 127 страницу\n",
      "Парсим 128 страницу\n",
      "Парсим 129 страницу\n",
      "Парсим 130 страницу\n",
      "Парсим 131 страницу\n",
      "Парсим 132 страницу\n",
      "Парсим 133 страницу\n",
      "Парсим 134 страницу\n",
      "Парсим 135 страницу\n",
      "Парсим 136 страницу\n",
      "Парсим 137 страницу\n",
      "Парсим 138 страницу\n",
      "Парсим 139 страницу\n",
      "Парсим 140 страницу\n",
      "Парсим 141 страницу\n",
      "Парсим 142 страницу\n",
      "Парсим 143 страницу\n",
      "Парсим 144 страницу\n",
      "Парсим 145 страницу\n",
      "Парсим 146 страницу\n",
      "Парсим 147 страницу\n",
      "Парсим 148 страницу\n",
      "Парсим 149 страницу\n",
      "Парсим 150 страницу\n",
      "Парсим 151 страницу\n",
      "Парсим 152 страницу\n",
      "Парсим 153 страницу\n",
      "Парсим 154 страницу\n",
      "Парсим 155 страницу\n",
      "Парсим 156 страницу\n",
      "Парсим 157 страницу\n",
      "Парсим 158 страницу\n",
      "Парсим 159 страницу\n",
      "Парсим 160 страницу\n",
      "Парсим 161 страницу\n",
      "Парсим 162 страницу\n",
      "Парсим 163 страницу\n",
      "Парсим 164 страницу\n",
      "Парсим 165 страницу\n",
      "Парсим 166 страницу\n",
      "Парсим 167 страницу\n",
      "Парсим 168 страницу\n",
      "Парсим 169 страницу\n",
      "Парсим 170 страницу\n",
      "Парсим 171 страницу\n",
      "Парсим 172 страницу\n",
      "Парсим 173 страницу\n",
      "Парсим 174 страницу\n",
      "Парсим 175 страницу\n",
      "Парсим 176 страницу\n",
      "Парсим 177 страницу\n",
      "Парсим 178 страницу\n",
      "Парсим 179 страницу\n",
      "Парсим 180 страницу\n",
      "Парсим 181 страницу\n",
      "Парсим 182 страницу\n",
      "Парсим 183 страницу\n",
      "Парсим 184 страницу\n",
      "Парсим 185 страницу\n",
      "Парсим 186 страницу\n",
      "Парсим 187 страницу\n",
      "Парсим 188 страницу\n",
      "Парсим 189 страницу\n",
      "Парсим 190 страницу\n",
      "Парсим 191 страницу\n",
      "Парсим 192 страницу\n",
      "Парсим 193 страницу\n",
      "Парсим 194 страницу\n",
      "Парсим 195 страницу\n",
      "Парсим 196 страницу\n",
      "Парсим 197 страницу\n",
      "Парсим 198 страницу\n",
      "Парсим 199 страницу\n",
      "Парсим 200 страницу\n",
      "Парсим 201 страницу\n",
      "Парсим 202 страницу\n",
      "Парсим 203 страницу\n",
      "Парсим 204 страницу\n",
      "Парсим 205 страницу\n",
      "Парсим 206 страницу\n",
      "Парсим 207 страницу\n",
      "Парсим 208 страницу\n",
      "Парсим 209 страницу\n",
      "Парсим 210 страницу\n",
      "Парсим 211 страницу\n",
      "Парсим 212 страницу\n",
      "Парсим 213 страницу\n",
      "Парсим 214 страницу\n",
      "Парсим 215 страницу\n",
      "Парсим 216 страницу\n",
      "Парсим 217 страницу\n",
      "Парсим 218 страницу\n",
      "Парсим 219 страницу\n",
      "Парсим 220 страницу\n",
      "Парсим 221 страницу\n",
      "Парсим 222 страницу\n",
      "Парсим 223 страницу\n",
      "Парсим 224 страницу\n",
      "Парсим 225 страницу\n",
      "Парсим 226 страницу\n",
      "Парсим 227 страницу\n",
      "Парсим 228 страницу\n",
      "Парсим 229 страницу\n",
      "Парсим 230 страницу\n",
      "Парсим 231 страницу\n",
      "Парсим 232 страницу\n",
      "Парсим 233 страницу\n",
      "Парсим 234 страницу\n",
      "Парсим 235 страницу\n",
      "Парсим 236 страницу\n",
      "Парсим 237 страницу\n",
      "Парсим 238 страницу\n",
      "Парсим 239 страницу\n",
      "Парсим 240 страницу\n",
      "Парсим 241 страницу\n",
      "Парсим 242 страницу\n",
      "Парсим 243 страницу\n",
      "Парсим 244 страницу\n",
      "Парсим 245 страницу\n",
      "Парсим 246 страницу\n",
      "Парсим 247 страницу\n",
      "Парсим 248 страницу\n",
      "Парсим 249 страницу\n",
      "Парсим 250 страницу\n",
      "Парсим 251 страницу\n",
      "Парсим 252 страницу\n",
      "Парсим 253 страницу\n",
      "Парсим 254 страницу\n",
      "Парсим 255 страницу\n",
      "Парсим 256 страницу\n",
      "Парсим 257 страницу\n",
      "Парсим 258 страницу\n",
      "Парсим 259 страницу\n",
      "Парсим 260 страницу\n",
      "Парсим 261 страницу\n",
      "Парсим 262 страницу\n",
      "Парсим 263 страницу\n",
      "Парсим 264 страницу\n",
      "Парсим 265 страницу\n",
      "Парсим 266 страницу\n",
      "Парсим 267 страницу\n",
      "Парсим 268 страницу\n",
      "Парсим 269 страницу\n",
      "Парсим 270 страницу\n",
      "Парсим 271 страницу\n",
      "Парсим 272 страницу\n",
      "Парсим 273 страницу\n",
      "Парсим 274 страницу\n",
      "Парсим 275 страницу\n",
      "Парсим 276 страницу\n",
      "Парсим 277 страницу\n",
      "Парсим 278 страницу\n",
      "Парсим 279 страницу\n",
      "Парсим 280 страницу\n",
      "Парсим 281 страницу\n",
      "Парсим 282 страницу\n",
      "Парсим 283 страницу\n",
      "Парсим 284 страницу\n",
      "Парсим 285 страницу\n",
      "Парсим 286 страницу\n",
      "Парсим 287 страницу\n",
      "Парсим 288 страницу\n",
      "Парсим 289 страницу\n",
      "Парсим 290 страницу\n",
      "Парсим 291 страницу\n",
      "Парсим 292 страницу\n",
      "Парсим 293 страницу\n",
      "Парсим 294 страницу\n",
      "Парсим 295 страницу\n",
      "Парсим 296 страницу\n",
      "Парсим 297 страницу\n",
      "Парсим 298 страницу\n",
      "Парсим 299 страницу\n",
      "Парсим 300 страницу\n",
      "Парсим 301 страницу\n",
      "Парсим 302 страницу\n",
      "Парсим 303 страницу\n",
      "Парсим 304 страницу\n",
      "Парсим 305 страницу\n",
      "Парсим 306 страницу\n",
      "Парсим 307 страницу\n",
      "Парсим 308 страницу\n",
      "Парсим 309 страницу\n",
      "Парсим 310 страницу\n",
      "Парсим 311 страницу\n",
      "Парсим 312 страницу\n",
      "Парсим 313 страницу\n",
      "Парсим 314 страницу\n",
      "Парсим 315 страницу\n",
      "Парсим 316 страницу\n",
      "Парсим 317 страницу\n",
      "Парсим 318 страницу\n",
      "Парсим 319 страницу\n",
      "Парсим 320 страницу\n",
      "Парсим 321 страницу\n",
      "Парсим 322 страницу\n",
      "Парсим 323 страницу\n",
      "Парсим 324 страницу\n",
      "Парсим 325 страницу\n",
      "Парсим 326 страницу\n",
      "Парсим 327 страницу\n",
      "Парсим 328 страницу\n",
      "Парсим 329 страницу\n",
      "Парсим 330 страницу\n",
      "Парсим 331 страницу\n",
      "Парсим 332 страницу\n",
      "Парсим 333 страницу\n",
      "Парсим 334 страницу\n",
      "Парсим 335 страницу\n",
      "Парсим 336 страницу\n",
      "Парсим 337 страницу\n",
      "Парсим 338 страницу\n",
      "Парсим 339 страницу\n",
      "Парсим 340 страницу\n",
      "Парсим 341 страницу\n",
      "Парсим 342 страницу\n",
      "Парсим 343 страницу\n",
      "Парсим 344 страницу\n",
      "Парсим 345 страницу\n",
      "Парсим 346 страницу\n",
      "Парсим 347 страницу\n",
      "Парсим 348 страницу\n",
      "Парсим 349 страницу\n",
      "Парсим 350 страницу\n",
      "Парсим 351 страницу\n",
      "Парсим 352 страницу\n",
      "Парсим 353 страницу\n"
     ]
    },
    {
     "data": {
      "text/html": [
       "<div>\n",
       "<style scoped>\n",
       "    .dataframe tbody tr th:only-of-type {\n",
       "        vertical-align: middle;\n",
       "    }\n",
       "\n",
       "    .dataframe tbody tr th {\n",
       "        vertical-align: top;\n",
       "    }\n",
       "\n",
       "    .dataframe thead th {\n",
       "        text-align: right;\n",
       "    }\n",
       "</style>\n",
       "<table border=\"1\" class=\"dataframe\">\n",
       "  <thead>\n",
       "    <tr style=\"text-align: right;\">\n",
       "      <th></th>\n",
       "      <th>Город</th>\n",
       "      <th>Штат</th>\n",
       "      <th>Округ</th>\n",
       "      <th>Индекс</th>\n",
       "      <th>Телефонный код</th>\n",
       "      <th>Часовой пояс</th>\n",
       "      <th>Широта</th>\n",
       "      <th>Долгота</th>\n",
       "    </tr>\n",
       "  </thead>\n",
       "  <tbody>\n",
       "    <tr>\n",
       "      <th>0</th>\n",
       "      <td>65th Infantry</td>\n",
       "      <td>PR</td>\n",
       "      <td>San Juan</td>\n",
       "      <td>923</td>\n",
       "      <td>787</td>\n",
       "      <td>EST+1</td>\n",
       "      <td>18.4125</td>\n",
       "      <td>-66.0374</td>\n",
       "    </tr>\n",
       "    <tr>\n",
       "      <th>1</th>\n",
       "      <td>Aaronsburg</td>\n",
       "      <td>PA</td>\n",
       "      <td>Centre</td>\n",
       "      <td>16820</td>\n",
       "      <td>814</td>\n",
       "      <td>EST</td>\n",
       "      <td>40.8639</td>\n",
       "      <td>-77.3918</td>\n",
       "    </tr>\n",
       "    <tr>\n",
       "      <th>2</th>\n",
       "      <td>Abbeville</td>\n",
       "      <td>GA</td>\n",
       "      <td>Wilcox</td>\n",
       "      <td>31001</td>\n",
       "      <td>229</td>\n",
       "      <td>EST</td>\n",
       "      <td>31.9896</td>\n",
       "      <td>-83.3111</td>\n",
       "    </tr>\n",
       "    <tr>\n",
       "      <th>3</th>\n",
       "      <td>Abbeville</td>\n",
       "      <td>MS</td>\n",
       "      <td>Lafayette</td>\n",
       "      <td>38601</td>\n",
       "      <td>662</td>\n",
       "      <td>CST</td>\n",
       "      <td>34.4719</td>\n",
       "      <td>-89.5985</td>\n",
       "    </tr>\n",
       "    <tr>\n",
       "      <th>4</th>\n",
       "      <td>Abbeville</td>\n",
       "      <td>AL</td>\n",
       "      <td>Henry</td>\n",
       "      <td>36310</td>\n",
       "      <td>334</td>\n",
       "      <td>CST</td>\n",
       "      <td>31.555</td>\n",
       "      <td>-85.2655</td>\n",
       "    </tr>\n",
       "  </tbody>\n",
       "</table>\n",
       "</div>"
      ],
      "text/plain": [
       "           Город Штат      Округ Индекс Телефонный код Часовой пояс   Широта  \\\n",
       "0  65th Infantry   PR   San Juan    923            787        EST+1  18.4125   \n",
       "1     Aaronsburg   PA     Centre  16820            814          EST  40.8639   \n",
       "2      Abbeville   GA     Wilcox  31001            229          EST  31.9896   \n",
       "3      Abbeville   MS  Lafayette  38601            662          CST  34.4719   \n",
       "4      Abbeville   AL      Henry  36310            334          CST   31.555   \n",
       "\n",
       "   Долгота  \n",
       "0 -66.0374  \n",
       "1 -77.3918  \n",
       "2 -83.3111  \n",
       "3 -89.5985  \n",
       "4 -85.2655  "
      ]
     },
     "execution_count": 34,
     "metadata": {},
     "output_type": "execute_result"
    }
   ],
   "source": [
    "def get_city_inf():\n",
    "    \"\"\" Парсит сайт http://amerikos.com/geo/?pageNumber=1&pageLimit=120 \n",
    "    с данными по городам/штатам/округам/zip-code\n",
    "\n",
    "    и возвращает спарсенные данные, упакованные в датафрейм \"\"\"\n",
    "    \n",
    "    # начинаем парсить с первой страницы\n",
    "    page = 1\n",
    "    # адрес сайта, в котором будет меняться переменная pageNumber\n",
    "    url = f'http://amerikos.com/geo/?pageNumber={page}&pageLimit=120'\n",
    "    # вывод информации о номере страницы\n",
    "    print(f'Парсим {page} страницу')\n",
    "    # считываем инфо со страницы - тип данных - лист, в котором необходим элемент 2\n",
    "    df = pd.read_html(url)[2]\n",
    "    # временный датафрейм\n",
    "    df_temp = df    \n",
    "    # запускаем цикл останавливающийся по условию\n",
    "    while df_temp['Город'].iloc[0] != 'Не удалось найти города.':\n",
    "        # увеличиваем счётчик страниц\n",
    "        page += 1\n",
    "        # выводим информацию на какой странице находимся\n",
    "        print(f'Парсим {page} страницу')\n",
    "        # обновляем адрес страницы\n",
    "        url = f'http://amerikos.com/geo/?pageNumber={page}&pageLimit=120' \n",
    "        # данные записываем во временный датафрейм      \n",
    "        df_temp = pd.read_html(url)[2]\n",
    "        # производим объединение датафреймов(основоного и временного) построчно\n",
    "        df = pd.concat(\n",
    "            [df, df_temp],\n",
    "            ignore_index=True,\n",
    "            axis=0\n",
    "        )\n",
    "    # удаляем последнюю неинформативную строку    \n",
    "    df = df.drop(axis=0, index=(df.shape[0]-1))\n",
    "    return df\n",
    "df_pars = get_city_inf()\n",
    "\n",
    "df_pars.head()"
   ]
  },
  {
   "cell_type": "code",
   "execution_count": 35,
   "id": "d99ccd36",
   "metadata": {},
   "outputs": [],
   "source": [
    "# Сохраним DataFrame в CSV-файл - промежуточный результата\n",
    "df_pars.to_csv('df_pars.csv', index=False)"
   ]
  },
  {
   "cell_type": "code",
   "execution_count": 36,
   "id": "71e6185d",
   "metadata": {},
   "outputs": [
    {
     "data": {
      "text/html": [
       "<div>\n",
       "<style scoped>\n",
       "    .dataframe tbody tr th:only-of-type {\n",
       "        vertical-align: middle;\n",
       "    }\n",
       "\n",
       "    .dataframe tbody tr th {\n",
       "        vertical-align: top;\n",
       "    }\n",
       "\n",
       "    .dataframe thead th {\n",
       "        text-align: right;\n",
       "    }\n",
       "</style>\n",
       "<table border=\"1\" class=\"dataframe\">\n",
       "  <thead>\n",
       "    <tr style=\"text-align: right;\">\n",
       "      <th></th>\n",
       "      <th>Город</th>\n",
       "      <th>Штат</th>\n",
       "      <th>Округ</th>\n",
       "      <th>Индекс</th>\n",
       "      <th>Телефонный код</th>\n",
       "      <th>Часовой пояс</th>\n",
       "      <th>Широта</th>\n",
       "      <th>Долгота</th>\n",
       "    </tr>\n",
       "  </thead>\n",
       "  <tbody>\n",
       "    <tr>\n",
       "      <th>0</th>\n",
       "      <td>65th Infantry</td>\n",
       "      <td>PR</td>\n",
       "      <td>San Juan</td>\n",
       "      <td>923</td>\n",
       "      <td>787</td>\n",
       "      <td>EST+1</td>\n",
       "      <td>18.4125</td>\n",
       "      <td>-66.0374</td>\n",
       "    </tr>\n",
       "    <tr>\n",
       "      <th>1</th>\n",
       "      <td>Aaronsburg</td>\n",
       "      <td>PA</td>\n",
       "      <td>Centre</td>\n",
       "      <td>16820</td>\n",
       "      <td>814</td>\n",
       "      <td>EST</td>\n",
       "      <td>40.8639</td>\n",
       "      <td>-77.3918</td>\n",
       "    </tr>\n",
       "    <tr>\n",
       "      <th>2</th>\n",
       "      <td>Abbeville</td>\n",
       "      <td>GA</td>\n",
       "      <td>Wilcox</td>\n",
       "      <td>31001</td>\n",
       "      <td>229</td>\n",
       "      <td>EST</td>\n",
       "      <td>31.9896</td>\n",
       "      <td>-83.3111</td>\n",
       "    </tr>\n",
       "    <tr>\n",
       "      <th>3</th>\n",
       "      <td>Abbeville</td>\n",
       "      <td>MS</td>\n",
       "      <td>Lafayette</td>\n",
       "      <td>38601</td>\n",
       "      <td>662</td>\n",
       "      <td>CST</td>\n",
       "      <td>34.4719</td>\n",
       "      <td>-89.5985</td>\n",
       "    </tr>\n",
       "    <tr>\n",
       "      <th>4</th>\n",
       "      <td>Abbeville</td>\n",
       "      <td>AL</td>\n",
       "      <td>Henry</td>\n",
       "      <td>36310</td>\n",
       "      <td>334</td>\n",
       "      <td>CST</td>\n",
       "      <td>31.5550</td>\n",
       "      <td>-85.2655</td>\n",
       "    </tr>\n",
       "  </tbody>\n",
       "</table>\n",
       "</div>"
      ],
      "text/plain": [
       "           Город Штат      Округ  Индекс  Телефонный код Часовой пояс  \\\n",
       "0  65th Infantry   PR   San Juan     923             787        EST+1   \n",
       "1     Aaronsburg   PA     Centre   16820             814          EST   \n",
       "2      Abbeville   GA     Wilcox   31001             229          EST   \n",
       "3      Abbeville   MS  Lafayette   38601             662          CST   \n",
       "4      Abbeville   AL      Henry   36310             334          CST   \n",
       "\n",
       "    Широта  Долгота  \n",
       "0  18.4125 -66.0374  \n",
       "1  40.8639 -77.3918  \n",
       "2  31.9896 -83.3111  \n",
       "3  34.4719 -89.5985  \n",
       "4  31.5550 -85.2655  "
      ]
     },
     "execution_count": 36,
     "metadata": {},
     "output_type": "execute_result"
    }
   ],
   "source": [
    "df = pd.read_csv('df_pars.csv')\n",
    "df.head()"
   ]
  },
  {
   "cell_type": "markdown",
   "id": "a135de33",
   "metadata": {},
   "source": [
    "Используем только столбцы - Город, Округ, Индекс, Широта и Долгота, остальные удалим. Далее соединим таблицы по признаку индекс(zipcode). Обратим внимание на присутствие в признаке индекс(zipcode) значение с пропуском '--', заменим его на 0"
   ]
  },
  {
   "cell_type": "code",
   "execution_count": 37,
   "id": "b4e14cb4",
   "metadata": {},
   "outputs": [],
   "source": [
    "df = df[['Город', 'Округ', 'Индекс', 'Широта', 'Долгота']]\n",
    "\n",
    "data_realt['zipcode'] = data_realt['zipcode'].apply(lambda x: str(0) if x== '--' else x)\n",
    "data_realt['zipcode'] = data_realt['zipcode'].apply(lambda x: int(x) if len(x.split('-')) < 2  else int(x.split('-')[0]))\n",
    "# объединяем\n",
    "data_realt = data_realt.merge(\n",
    "    df,\n",
    "    left_on='zipcode',\n",
    "    right_on='Индекс',    \n",
    "    how='left'\n",
    ")\n",
    "\n",
    "data_realt['city'] = data_realt.apply(lambda x: x.Город if x.city is np.nan else x.city, axis=1)\n",
    "data_realt['city'] = data_realt['city'].apply(lambda x: data_realt['city'].describe().top if (x=='--') | (x==' ') else x)\n",
    "# удаляем ненужные столбцы, переименовываем новые\n",
    "data_realt = (data_realt.drop(['Город', 'Индекс'], axis=1)).rename(columns={'Округ':'county', 'Широта':'latitude', 'Долгота':'longitude'})"
   ]
  },
  {
   "cell_type": "code",
   "execution_count": 38,
   "id": "614cc761",
   "metadata": {},
   "outputs": [
    {
     "name": "stdout",
     "output_type": "stream",
     "text": [
      "<class 'pandas.core.frame.DataFrame'>\n",
      "Int64Index: 349020 entries, 0 to 349019\n",
      "Data columns (total 16 columns):\n",
      " #   Column        Non-Null Count   Dtype  \n",
      "---  ------        --------------   -----  \n",
      " 0   status        349020 non-null  object \n",
      " 1   propertyType  349020 non-null  object \n",
      " 2   baths         259061 non-null  object \n",
      " 3   homeFacts     349020 non-null  object \n",
      " 4   city          349020 non-null  object \n",
      " 5   schools       349020 non-null  object \n",
      " 6   sqft          318875 non-null  object \n",
      " 7   zipcode       349020 non-null  int64  \n",
      " 8   beds          273997 non-null  object \n",
      " 9   state         349020 non-null  object \n",
      " 10  stories       218559 non-null  object \n",
      " 11  target_clear  349020 non-null  float64\n",
      " 12  street_new    349020 non-null  object \n",
      " 13  county        344845 non-null  object \n",
      " 14  latitude      344845 non-null  float64\n",
      " 15  longitude     344845 non-null  float64\n",
      "dtypes: float64(3), int64(1), object(12)\n",
      "memory usage: 45.3+ MB\n"
     ]
    }
   ],
   "source": [
    "data_realt.info()"
   ]
  },
  {
   "cell_type": "code",
   "execution_count": 39,
   "id": "3b9828d9",
   "metadata": {},
   "outputs": [],
   "source": [
    "# заменим пропуски в цифровых признаках на среднее значение\n",
    "data_realt['longitude'] = data_realt['longitude'].fillna(data_realt['longitude'].mean())\n",
    "data_realt['latitude'] = data_realt['latitude'].fillna(data_realt['latitude'].mean())\n",
    "# заменим пропуски в признаке округ на частовстречающееся значение\n",
    "data_realt['county'] = data_realt['county'].fillna(data_realt['county'].describe().top)"
   ]
  },
  {
   "cell_type": "markdown",
   "id": "1674b2f2",
   "metadata": {},
   "source": [
    "**baths (число ванных комнат)**\n",
    "\n",
    "Преобразуем признак число ваных(baths),который содержит строковые значения и символы, которые требуют обработки, также имеется в числовых значениях(представленых в виде строкового) имеется символ ',' вместо точки. Его  заменим на точку для корректного преобразования в числовой формат(float). Пропущенные значения заменим на медианное."
   ]
  },
  {
   "cell_type": "code",
   "execution_count": 40,
   "id": "06d31fe8",
   "metadata": {},
   "outputs": [],
   "source": [
    "def convert_baths(df):\n",
    "    \"\"\" Обработчик признака baths  \"\"\"\n",
    "\n",
    "        # проверяем на пропущенное значение\n",
    "    if df  is not np.nan:\n",
    "        # производим замену симвволов, производим сплит, преобразуем в лист\n",
    "        df = df.replace(',', '.').split(' ')\n",
    "        # проходим по каждому элементу листа\n",
    "        for i in df:\n",
    "            try:\n",
    "                i = float(i)\n",
    "                return i\n",
    "            # обрабатываем исключение - если элемент невозможно преобразовать в float, то пропускаем\n",
    "            except ValueError:\n",
    "                continue  \n",
    "    else:\n",
    "        return df\n",
    "    \n",
    "data_realt['baths'] = data_realt['baths'].apply(convert_baths)\n",
    "data_realt['baths'] = data_realt['baths'].fillna(data_realt['baths'].median())"
   ]
  },
  {
   "cell_type": "code",
   "execution_count": 41,
   "id": "23868ff1",
   "metadata": {},
   "outputs": [
    {
     "data": {
      "text/plain": [
       "count    349020.000000\n",
       "mean          3.056014\n",
       "std          19.421259\n",
       "min           0.000000\n",
       "25%           2.000000\n",
       "50%           2.250000\n",
       "75%           3.000000\n",
       "max         750.000000\n",
       "Name: baths, dtype: float64"
      ]
     },
     "execution_count": 41,
     "metadata": {},
     "output_type": "execute_result"
    }
   ],
   "source": [
    "data_realt['baths'].describe()"
   ]
  },
  {
   "cell_type": "markdown",
   "id": "e2f9a365",
   "metadata": {},
   "source": [
    "Возможно в признаке baths есть выбросы (число ванных 750!), ограничим их 20."
   ]
  },
  {
   "cell_type": "code",
   "execution_count": 42,
   "id": "3eb3131e",
   "metadata": {},
   "outputs": [
    {
     "data": {
      "text/plain": [
       "(348754, 16)"
      ]
     },
     "execution_count": 42,
     "metadata": {},
     "output_type": "execute_result"
    }
   ],
   "source": [
    "data_realt = data_realt[data_realt['baths'] < 21].reset_index().drop(['index'], axis=1)\n",
    "data_realt.shape"
   ]
  },
  {
   "cell_type": "markdown",
   "id": "02c9ae12",
   "metadata": {},
   "source": [
    "**sqft (квадратный фут)**\n",
    "\n",
    "Преобразуем признак квадратный фут (sqft) в числовую форму, учитыавая при обработке, что  в значениях имеются записи в формате: '--', '2500 sqft', '-- sqft', 'Total interior livable area: 2,533 sqft'. Пропущенные значения заменим на медианное."
   ]
  },
  {
   "cell_type": "code",
   "execution_count": 43,
   "id": "69e71015",
   "metadata": {},
   "outputs": [],
   "source": [
    "def convert_sqft(df):\n",
    "    \"\"\" Обрабатывает признак sqft \"\"\"\n",
    "\n",
    "    if df is np.nan or df=='--' or df.replace(',', '').split(' ')[0]=='--':\n",
    "        return np.nan\n",
    "    if df.replace(',', '').split(' ')[0].lower()=='total':\n",
    "        df = float(df.replace(',', '').split(' ')[-2])\n",
    "    else:\n",
    "        df = float(df.replace(',', '').split(' ')[0])        \n",
    "    return df\n",
    "\n",
    "data_realt['sqft_new'] = data_realt['sqft'].apply(convert_sqft)\n",
    "data_realt['sqft_new'] = data_realt['sqft_new'].fillna(data_realt['sqft_new'].median())\n",
    "data_realt = data_realt.drop(['sqft'], axis=1)"
   ]
  },
  {
   "cell_type": "markdown",
   "id": "662d5715",
   "metadata": {},
   "source": [
    "**stories (число этажей)**\n",
    "\n",
    "Преобразуем признак число этажей (stories) в числовую форму, учитыавая при обработке, что в нём данные представлены в строковом формате, некоторые признаки прописаны словами, так, например, первый этаж может быть прописан 'One', 'One,' '1 Story', '1.0', есть пропущенные значения, спец. символы, например, '+', записи не содержащие никакие отсылки к этажности(неинформативные) - их заменим на медианное значение."
   ]
  },
  {
   "cell_type": "code",
   "execution_count": 44,
   "id": "66073cbf",
   "metadata": {},
   "outputs": [],
   "source": [
    "def convert_stories(df):\n",
    "    \"\"\" Обработчик признака stories  \"\"\"\n",
    "\n",
    "    # словарь для замены номеров этажей\n",
    "    stories_dict = {'One':1, 'Two':2, 'Three':3, 'Tri-Level':3, 'One,':1, '1-2':1.5, 'Bi-Level':2, '3-4':3.5, 'Two,':2, 'Tri':3}\n",
    "    \n",
    "    if df is not np.nan:\n",
    "        df = df.replace('+', '').split(' ')[0]\n",
    "        if df in stories_dict.keys():\n",
    "            df = stories_dict[df]\n",
    "            try:\n",
    "                df = float(df)\n",
    "                return df\n",
    "            except ValueError:\n",
    "                df = np.nan\n",
    "                return df\n",
    "        else:\n",
    "            try:\n",
    "                df = float(df)\n",
    "                return df\n",
    "            except ValueError:\n",
    "                df = np.nan\n",
    "                return df\n",
    "    else:\n",
    "        return df\n",
    "    \n",
    "data_realt['stories_new'] = data_realt['stories'].apply(convert_stories)\n",
    "data_realt = data_realt.drop(['stories'], axis=1)"
   ]
  },
  {
   "cell_type": "code",
   "execution_count": 45,
   "id": "edcedecc",
   "metadata": {},
   "outputs": [
    {
     "data": {
      "text/plain": [
       "count    348754.000000\n",
       "mean          1.533221\n",
       "std           3.211153\n",
       "min           0.000000\n",
       "25%           1.000000\n",
       "50%           1.000000\n",
       "75%           2.000000\n",
       "max        1120.000000\n",
       "Name: stories_new, dtype: float64"
      ]
     },
     "execution_count": 45,
     "metadata": {},
     "output_type": "execute_result"
    }
   ],
   "source": [
    "data_realt['stories_new'] = data_realt['stories_new'].fillna(data_realt['stories_new'].median())\n",
    "data_realt['stories_new'].describe()"
   ]
  },
  {
   "cell_type": "markdown",
   "id": "87e577b6",
   "metadata": {},
   "source": [
    "В признаке stories_new явно имеются выбросы (число этажей 1120), ограничим признак значением менее 100 этажей, удалив записи, неудовлетворяющие этому условию"
   ]
  },
  {
   "cell_type": "code",
   "execution_count": 46,
   "id": "5e47ac28",
   "metadata": {},
   "outputs": [
    {
     "data": {
      "text/plain": [
       "count    348752.000000\n",
       "mean          1.527145\n",
       "std           1.963282\n",
       "min           0.000000\n",
       "25%           1.000000\n",
       "50%           1.000000\n",
       "75%           2.000000\n",
       "max          91.000000\n",
       "Name: stories_new, dtype: float64"
      ]
     },
     "execution_count": 46,
     "metadata": {},
     "output_type": "execute_result"
    }
   ],
   "source": [
    "data_realt = data_realt[data_realt['stories_new'] < 100].reset_index().drop(['index'], axis=1)\n",
    "data_realt['stories_new'].describe()"
   ]
  },
  {
   "cell_type": "markdown",
   "id": "06e7fdcb",
   "metadata": {},
   "source": [
    "**beds (число комнат)**\n",
    "\n",
    "Преобразуем признак число комнат (beds) в числовую форму, пропущенные значения заменим на медианное"
   ]
  },
  {
   "cell_type": "code",
   "execution_count": 47,
   "id": "e8251203",
   "metadata": {},
   "outputs": [],
   "source": [
    "def convert_beds(df):\n",
    "    \"\"\" Обработчик признака beds \"\"\"\n",
    "\n",
    "    beds_list = list(range(0,16))\n",
    "    if df is not np.nan:\n",
    "        try:\n",
    "            df = float(df.replace(',', '.').split(' ')[0])\n",
    "            if df in beds_list:\n",
    "                return df\n",
    "            else:\n",
    "                return np.nan  \n",
    "        except ValueError:\n",
    "            return np.nan    \n",
    "    else:\n",
    "        return df\n",
    "    \n",
    "data_realt['beds_new'] = data_realt['beds'].apply(convert_beds)      \n",
    "data_realt = data_realt.drop(['beds'], axis=1)\n",
    "data_realt['beds_new'] = data_realt['beds_new'].fillna(data_realt['beds_new'].median())    "
   ]
  },
  {
   "cell_type": "markdown",
   "id": "0f58e797",
   "metadata": {},
   "source": [
    "**Сведения о доме (homeFacts)**"
   ]
  },
  {
   "cell_type": "code",
   "execution_count": 48,
   "id": "bda4c3c8",
   "metadata": {},
   "outputs": [
    {
     "data": {
      "text/plain": [
       "\"{'atAGlanceFacts': [{'factValue': '2019', 'factLabel': 'Year built'}, {'factValue': '', 'factLabel': 'Remodeled year'}, {'factValue': 'Central A/C, Heat Pump', 'factLabel': 'Heating'}, {'factValue': '', 'factLabel': 'Cooling'}, {'factValue': '', 'factLabel': 'Parking'}, {'factValue': None, 'factLabel': 'lotsize'}, {'factValue': '$144', 'factLabel': 'Price/sqft'}]}\""
      ]
     },
     "execution_count": 48,
     "metadata": {},
     "output_type": "execute_result"
    }
   ],
   "source": [
    "data_realt.iloc[0]['homeFacts']"
   ]
  },
  {
   "cell_type": "markdown",
   "id": "332053a9",
   "metadata": {},
   "source": [
    "Признак homeFacts содержит словарьс ключом atAGlanceFacts, значением которого является список словарей. В каждом словаре содержится два ключа - factLabel (наименование параметра)  и factValue (значение параметра)ю\n",
    "Имеются следующие виды параметров:\n",
    "- Year built(год постройки дома)\n",
    "- Remodeled year(год реконструкции)\n",
    "- Heating(отопление)\n",
    "- Cooling(охлаждение)\n",
    "- Parking(паркинг)\n",
    "- otsize(дом с участком)\n",
    "- Price/sqft(цена за квадратный фут)\n",
    "Разместим все параметры по отдельным признакам с последующим преобразованием\n"
   ]
  },
  {
   "cell_type": "code",
   "execution_count": 49,
   "id": "d55861cb",
   "metadata": {},
   "outputs": [],
   "source": [
    "# преобразование строки в словарь\n",
    "data_realt['homeFacts_new'] = data_realt['homeFacts'].apply(lambda x: ast.literal_eval(x))\n",
    "# создание новых признаков\n",
    "data_realt['year_built'] = data_realt['homeFacts_new'].apply(lambda x: x['atAGlanceFacts'][0]['factValue'])\n",
    "data_realt['remodeled_year'] = data_realt['homeFacts_new'].apply(lambda x: x['atAGlanceFacts'][1]['factValue'])\n",
    "data_realt['heating'] = data_realt['homeFacts_new'].apply(lambda x: x['atAGlanceFacts'][2]['factValue'])\n",
    "data_realt['cooling'] = data_realt['homeFacts_new'].apply(lambda x: x['atAGlanceFacts'][3]['factValue'])\n",
    "data_realt['parking'] = data_realt['homeFacts_new'].apply(lambda x: x['atAGlanceFacts'][4]['factValue'])\n",
    "data_realt['lotsize'] = data_realt['homeFacts_new'].apply(lambda x: x['atAGlanceFacts'][5]['factValue'])\n",
    "data_realt['price_sqft'] = data_realt['homeFacts_new'].apply(lambda x: x['atAGlanceFacts'][6]['factValue'])\n",
    "# удаление первначального признака\n",
    "data_realt = data_realt.drop(['homeFacts'], axis=1)"
   ]
  },
  {
   "cell_type": "markdown",
   "id": "358a0f5e",
   "metadata": {},
   "source": [
    "**year_built (год постройки дома)**"
   ]
  },
  {
   "cell_type": "code",
   "execution_count": 50,
   "id": "ec82105e",
   "metadata": {},
   "outputs": [
    {
     "data": {
      "text/plain": [
       "3078"
      ]
     },
     "execution_count": 50,
     "metadata": {},
     "output_type": "execute_result"
    }
   ],
   "source": [
    "data_realt['year_built'].isnull().sum()"
   ]
  },
  {
   "cell_type": "code",
   "execution_count": 51,
   "id": "e468e7f1",
   "metadata": {},
   "outputs": [
    {
     "data": {
      "text/plain": [
       "        43967\n",
       "2019    31377\n",
       "2006     7837\n",
       "2005     7319\n",
       "2007     6942\n",
       "2018     6450\n",
       "2004     5361\n",
       "2017     4938\n",
       "2016     4788\n",
       "2008     4755\n",
       "2003     4416\n",
       "1950     4361\n",
       "2002     4123\n",
       "2001     4063\n",
       "1920     4007\n",
       "1925     3876\n",
       "2015     3682\n",
       "1955     3589\n",
       "1960     3574\n",
       "2000     3494\n",
       "Name: year_built, dtype: int64"
      ]
     },
     "execution_count": 51,
     "metadata": {},
     "output_type": "execute_result"
    }
   ],
   "source": [
    "data_realt['year_built'].value_counts()[:20]"
   ]
  },
  {
   "cell_type": "markdown",
   "id": "0a0193dd",
   "metadata": {},
   "source": [
    "имеем 3078(+43967) незаполненных значений. Преобразуем признак в числовой формат и заполним пропуски медианным значением. Также заменим на медианные значения дома года постройки > 2023 года и раньше 1700 года."
   ]
  },
  {
   "cell_type": "code",
   "execution_count": 52,
   "id": "f222db75",
   "metadata": {},
   "outputs": [],
   "source": [
    "data_realt['year_built'] = data_realt['year_built'].apply(lambda x: np.nan if x == '' else np.nan if x == 'No Data' else np.nan if x is None else x)\n",
    "data_realt['year_built'] = data_realt['year_built'].apply(lambda x: int(x) if x is not np.nan else x)\n",
    "data_realt['year_built'] = data_realt['year_built'].fillna(data_realt['year_built'].median())\n",
    "data_realt['year_built'] = data_realt['year_built'].apply(lambda x: data_realt['year_built'].median() if x > 2023 else data_realt['year_built'].median() if x < 1700 else x)"
   ]
  },
  {
   "cell_type": "code",
   "execution_count": 53,
   "id": "7d2a98d3",
   "metadata": {},
   "outputs": [
    {
     "data": {
      "text/plain": [
       "count    348752.000000\n",
       "mean       1980.609476\n",
       "std          30.739684\n",
       "min        1700.000000\n",
       "25%        1962.000000\n",
       "50%        1985.000000\n",
       "75%        2005.000000\n",
       "max        2022.000000\n",
       "Name: year_built, dtype: float64"
      ]
     },
     "execution_count": 53,
     "metadata": {},
     "output_type": "execute_result"
    }
   ],
   "source": [
    "data_realt['year_built'].describe()"
   ]
  },
  {
   "cell_type": "markdown",
   "id": "ca11abec",
   "metadata": {},
   "source": [
    "Вместо года постройки введем новый признак - возраст"
   ]
  },
  {
   "cell_type": "code",
   "execution_count": 54,
   "id": "71eea8f3",
   "metadata": {},
   "outputs": [],
   "source": [
    "# текущий год\n",
    "year_current = datetime.datetime.now().year\n",
    "data_realt['age'] = year_current - data_realt['year_built']"
   ]
  },
  {
   "cell_type": "markdown",
   "id": "5550023a",
   "metadata": {},
   "source": [
    "**remodeled_year (год реконструкции)**"
   ]
  },
  {
   "cell_type": "code",
   "execution_count": 55,
   "id": "82361a85",
   "metadata": {},
   "outputs": [
    {
     "data": {
      "text/plain": [
       "25024"
      ]
     },
     "execution_count": 55,
     "metadata": {},
     "output_type": "execute_result"
    }
   ],
   "source": [
    "data_realt['remodeled_year'].isnull().sum()"
   ]
  },
  {
   "cell_type": "code",
   "execution_count": 56,
   "id": "7dbaef31",
   "metadata": {},
   "outputs": [],
   "source": [
    "data_realt['remodeled_year'] = data_realt['remodeled_year'].apply(lambda x: np.nan if (x == '') | (x == None) else x)\n",
    "data_realt['remodeled_year'] = data_realt['remodeled_year'].apply(lambda x: int(x) if x is not np.nan else x)"
   ]
  },
  {
   "cell_type": "code",
   "execution_count": 57,
   "id": "42548af9",
   "metadata": {},
   "outputs": [
    {
     "data": {
      "text/plain": [
       "count    145942.000000\n",
       "mean       1979.480122\n",
       "std          84.362853\n",
       "min           0.000000\n",
       "25%        1968.000000\n",
       "50%        1986.000000\n",
       "75%        2004.000000\n",
       "max        2021.000000\n",
       "Name: remodeled_year, dtype: float64"
      ]
     },
     "execution_count": 57,
     "metadata": {},
     "output_type": "execute_result"
    }
   ],
   "source": [
    "data_realt['remodeled_year'].describe()"
   ]
  },
  {
   "cell_type": "markdown",
   "id": "47bcfb41",
   "metadata": {},
   "source": [
    "признак содержит 25024 пропусков, заменим их на медианное значение"
   ]
  },
  {
   "cell_type": "code",
   "execution_count": 58,
   "id": "65974d7f",
   "metadata": {},
   "outputs": [],
   "source": [
    "data_realt['remodeled_year'] = data_realt['remodeled_year'].fillna(data_realt['remodeled_year'].median())"
   ]
  },
  {
   "cell_type": "markdown",
   "id": "52d37157",
   "metadata": {},
   "source": [
    "Дата реконструции не может быть раньше(либо равно) даты постройки, поэтому все значения в признаке remodeled_year, которые не будут соответствовать этому условию заменим на нули."
   ]
  },
  {
   "cell_type": "code",
   "execution_count": 59,
   "id": "b592ce9e",
   "metadata": {},
   "outputs": [],
   "source": [
    "data_realt['remodeled_year'] = data_realt.apply(lambda x: 0 if x.remodeled_year <= x.year_built else x.remodeled_year, axis=1)"
   ]
  },
  {
   "cell_type": "markdown",
   "id": "2d4c063e",
   "metadata": {},
   "source": [
    "Cоздадим признак на основе remodeled_year - число лет, прошедших с реконструкции(age_remodeled). Обратим внимание, что если в признаке remodeled_year имеется 0, то тогда время реставрации считается с даты постройки дома"
   ]
  },
  {
   "cell_type": "code",
   "execution_count": 60,
   "id": "f5d09ab9",
   "metadata": {},
   "outputs": [],
   "source": [
    "data_realt['age_remodeled'] = data_realt.apply(lambda x: (year_current - x.remodeled_year) if x.remodeled_year != 0 else (year_current - x.year_built), axis=1)"
   ]
  },
  {
   "cell_type": "markdown",
   "id": "48250ef2",
   "metadata": {},
   "source": [
    "Удалим  признаки year_built и remodeled_year."
   ]
  },
  {
   "cell_type": "code",
   "execution_count": 61,
   "id": "4284f83f",
   "metadata": {},
   "outputs": [],
   "source": [
    "data_realt = data_realt.drop(['year_built', 'remodeled_year'], axis=1)"
   ]
  },
  {
   "cell_type": "markdown",
   "id": "2139c9eb",
   "metadata": {},
   "source": [
    "**heating (отопление)**"
   ]
  },
  {
   "cell_type": "code",
   "execution_count": 62,
   "id": "a004dd7d",
   "metadata": {},
   "outputs": [
    {
     "data": {
      "text/plain": [
       "3078"
      ]
     },
     "execution_count": 62,
     "metadata": {},
     "output_type": "execute_result"
    }
   ],
   "source": [
    "data_realt['heating'].isnull().sum()"
   ]
  },
  {
   "cell_type": "code",
   "execution_count": 63,
   "id": "cd6489f8",
   "metadata": {},
   "outputs": [
    {
     "data": {
      "text/plain": [
       "              89144\n",
       "Forced Air    78786\n",
       "Forced air    49594\n",
       "Other         28556\n",
       "Electric       8851\n",
       "Name: heating, dtype: int64"
      ]
     },
     "execution_count": 63,
     "metadata": {},
     "output_type": "execute_result"
    }
   ],
   "source": [
    "data_realt['heating'].value_counts()[:5]"
   ]
  },
  {
   "cell_type": "markdown",
   "id": "507564a2",
   "metadata": {},
   "source": [
    "В признаке 3078(+89144) пропущенных значений. Так как значения признака текстовые, то приведём их для удобства в нижний регистр:"
   ]
  },
  {
   "cell_type": "code",
   "execution_count": 64,
   "id": "da3b0536",
   "metadata": {},
   "outputs": [],
   "source": [
    "data_realt['heating'] = data_realt['heating'].apply(lambda x: x.lower() if (type(x) is not float) and (x is not None) else x)\n",
    "data_realt['heating'] = data_realt['heating'].apply(lambda x: np.nan if (x is None) | (x == 'none') | (x == '') else x)"
   ]
  },
  {
   "cell_type": "markdown",
   "id": "b15d224d",
   "metadata": {},
   "source": [
    "Избавимся от ненужных символов, возьмём только первые два элемента:"
   ]
  },
  {
   "cell_type": "code",
   "execution_count": 65,
   "id": "c208cac0",
   "metadata": {},
   "outputs": [],
   "source": [
    "data_realt['heating'] = data_realt['heating'].apply(lambda x: x.replace(',', '') if type(x) is not float else x)\n",
    "data_realt['heating'] = data_realt['heating'].apply(lambda x: x if (x is np.nan) | (type(x) is float) else ' '.join(x.split(' ')[:2]))"
   ]
  },
  {
   "cell_type": "markdown",
   "id": "60fc8d8b",
   "metadata": {},
   "source": [
    "Посмотрим 50 самых распространённых значения:"
   ]
  },
  {
   "cell_type": "code",
   "execution_count": 66,
   "id": "72e4f9ec",
   "metadata": {},
   "outputs": [
    {
     "data": {
      "text/plain": [
       "forced air               133837\n",
       "other                     28556\n",
       "central electric          13732\n",
       "central air                9728\n",
       "heat pump                  8912\n",
       "electric                   8856\n",
       "gas                        8771\n",
       "no data                    8236\n",
       "central                    6197\n",
       "baseboard                  3727\n",
       "electric heat              3390\n",
       "wall                       3213\n",
       "heating system             2673\n",
       "natural gas                1590\n",
       "radiant                    1410\n",
       " gas                       1286\n",
       "central gas                1175\n",
       "central furnace             909\n",
       "central heating             822\n",
       "gas heat                    788\n",
       " heat                       546\n",
       "electric gas                364\n",
       "central heat                323\n",
       "refrigeration ceiling       287\n",
       "refrigeration               254\n",
       "oil                         213\n",
       "heat pump(s)                206\n",
       "baseboard forced            193\n",
       "baseboard hot               186\n",
       "gas hot                     178\n",
       " electric                   153\n",
       "hot water                   145\n",
       "ceiling fan(s)              145\n",
       "electric forced             136\n",
       "wall/window unit(s)         128\n",
       "central cooling             127\n",
       "window units                126\n",
       "central natural             125\n",
       "wall heater                 114\n",
       "hot water/steam             100\n",
       "radiator                     97\n",
       "wall furnace                 94\n",
       " multizone                   93\n",
       "hot air                      92\n",
       "90% forced                   90\n",
       "no cooling/vent              87\n",
       "forced warm                  82\n",
       "ceiling fan                  79\n",
       "gas -                        79\n",
       "stove                        72\n",
       "Name: heating, dtype: int64"
      ]
     },
     "execution_count": 66,
     "metadata": {},
     "output_type": "execute_result"
    }
   ],
   "source": [
    "data_realt['heating'].value_counts()[:50]"
   ]
  },
  {
   "cell_type": "markdown",
   "id": "c0db8e0c",
   "metadata": {},
   "source": [
    "Унифицируем данные, проведя необходимые замены, далее отберём первые 9 популярных значений, а остальные заменим на other. Пропущенные значения заменим самой распространённой категорией."
   ]
  },
  {
   "cell_type": "code",
   "execution_count": 67,
   "id": "67f11754",
   "metadata": {},
   "outputs": [],
   "source": [
    "data_realt['heating'] = data_realt['heating'].replace('central electric', 'electric').replace(' electric', 'electric').replace('no data', np.nan).replace('electric heat', 'electric')\\\n",
    "    .replace('natural gas', 'gas').replace(' gas', 'gas').replace('central gas', 'gas').replace('gas heat', 'gas').replace('electric gas', 'gas').replace('gas hot', 'gas')\\\n",
    "        .replace('gas -', 'gas').replace('propane', 'gas').replace(' heat', 'heat pump').replace('heating system', 'central').replace('central furnace', 'central')\\\n",
    "            .replace('central heating', 'central').replace('central heat', 'central').replace('heat pump(s)', 'heat pump').replace('radiant', 'central').replace('baseboard forced', 'baseboard')\\\n",
    "                .replace('baseboard hot', 'baseboard')"
   ]
  },
  {
   "cell_type": "code",
   "execution_count": 68,
   "id": "ac95d34d",
   "metadata": {},
   "outputs": [],
   "source": [
    "# лист из 9 самых распространенных категорий\n",
    "heating_list = list(data_realt['heating'].value_counts()[:9].index)\n",
    "\n",
    "data_realt['heating'] = data_realt['heating'].apply(lambda x: x if x is np.nan else x if x in heating_list else 'other')\n",
    "data_realt['heating'] = data_realt['heating'].fillna(data_realt['heating'].describe().top)"
   ]
  },
  {
   "cell_type": "code",
   "execution_count": 69,
   "id": "f988785a",
   "metadata": {},
   "outputs": [
    {
     "data": {
      "text/plain": [
       "forced air     234367\n",
       "other           34906\n",
       "electric        26131\n",
       "gas             14303\n",
       "central         12334\n",
       "central air      9728\n",
       "heat pump        9664\n",
       "baseboard        4106\n",
       "wall             3213\n",
       "Name: heating, dtype: int64"
      ]
     },
     "execution_count": 69,
     "metadata": {},
     "output_type": "execute_result"
    }
   ],
   "source": [
    "data_realt['heating'].value_counts()"
   ]
  },
  {
   "cell_type": "markdown",
   "id": "807463a8",
   "metadata": {},
   "source": [
    "**cooling (охлаждение)**"
   ]
  },
  {
   "cell_type": "code",
   "execution_count": 70,
   "id": "28b2c2bc",
   "metadata": {},
   "outputs": [
    {
     "data": {
      "text/plain": [
       "3078"
      ]
     },
     "execution_count": 70,
     "metadata": {},
     "output_type": "execute_result"
    }
   ],
   "source": [
    "data_realt['cooling'].isnull().sum()"
   ]
  },
  {
   "cell_type": "code",
   "execution_count": 71,
   "id": "8944c90d",
   "metadata": {},
   "outputs": [],
   "source": [
    "data_realt['cooling'] = data_realt['cooling'].apply(lambda x: x.lower() if (x is not np.nan) & (x is not None) else x)\n",
    "data_realt['cooling'] = data_realt['cooling'].apply(lambda x: np.nan if (x is None) | (x == 'none') | (x == '') else x)"
   ]
  },
  {
   "cell_type": "code",
   "execution_count": 72,
   "id": "0e3ba8c3",
   "metadata": {},
   "outputs": [
    {
     "data": {
      "text/plain": [
       "central                                              153436\n",
       "central air                                           14256\n",
       "no data                                               10251\n",
       "has cooling                                            9276\n",
       "central electric                                       6107\n",
       "wall                                                   3908\n",
       "central gas                                            3547\n",
       "central heating                                        2800\n",
       "cooling system                                         2665\n",
       "central a/c                                            1908\n",
       "other                                                  1723\n",
       "central a/c (electric), central heat (gas)             1579\n",
       "central a/c (electric), central heat (electric)        1350\n",
       "refrigeration                                          1072\n",
       "central, electric                                      1060\n",
       "evaporative                                            1008\n",
       "electric                                               1001\n",
       "central air, gas hot air/furnace                        825\n",
       "refrigeration, ceiling fan(s)                           787\n",
       "central, wall                                           703\n",
       "central gas, zoned                                      684\n",
       "air conditioning-central                                630\n",
       "2 or more units, central, electric                      570\n",
       "central air, gas (hot air)                              503\n",
       "has heating                                             447\n",
       "central electric, zoned                                 428\n",
       "solar, refrigeration                                    420\n",
       "central air, zoned                                      409\n",
       "central, other                                          401\n",
       "ceiling fan, central electric                           400\n",
       "electric heating                                        397\n",
       "central cooling                                         394\n",
       "heat pump                                               377\n",
       "gas heating                                             333\n",
       "central electric, heat pump                             276\n",
       "central a/c (electric), central heat (gas), zoned       267\n",
       "gas heating, forced air heating                         262\n",
       "heat pump - ac                                          252\n",
       "central air, gas hot air/furnace, multizone a/c         229\n",
       "central electric, central gas                           223\n",
       "Name: cooling, dtype: int64"
      ]
     },
     "execution_count": 72,
     "metadata": {},
     "output_type": "execute_result"
    }
   ],
   "source": [
    "data_realt['cooling'].value_counts()[:40]"
   ]
  },
  {
   "cell_type": "code",
   "execution_count": 73,
   "id": "633f3f32",
   "metadata": {},
   "outputs": [],
   "source": [
    "data_realt['cooling'] = data_realt['cooling'].replace('no data', np.nan).replace('none', np.nan)\n",
    "data_realt['cooling'] = data_realt['cooling'].apply(lambda x: x if x is np.nan else ' '.join(x.split(' ')[:2]))\n",
    "data_realt['cooling'] = data_realt['cooling'].apply(lambda x: x.replace(',', '') if type(x) is not float else x)\n",
    "data_realt['cooling'] = data_realt['cooling'].replace('has cooling', 'cooling').replace('central a/c', 'central air')"
   ]
  },
  {
   "cell_type": "markdown",
   "id": "a2f2e724",
   "metadata": {},
   "source": [
    "Все значения, которые не войдут в 10 самых распространенных категорий обозначим как other, а пропущенные значение заменим самым распространённым значением."
   ]
  },
  {
   "cell_type": "code",
   "execution_count": 74,
   "id": "c276aab6",
   "metadata": {},
   "outputs": [],
   "source": [
    "cooling_list = list(data_realt['cooling'].value_counts()[:10].index)\n",
    "data_realt['cooling'] = data_realt['cooling'].apply(lambda x: x if x is np.nan else x if x in cooling_list else 'other')\n",
    "data_realt['cooling'] = data_realt['cooling'].fillna(data_realt['cooling'].describe().top)"
   ]
  },
  {
   "cell_type": "code",
   "execution_count": 75,
   "id": "0ac379d3",
   "metadata": {},
   "outputs": [
    {
     "data": {
      "text/plain": [
       "central             274329\n",
       "central air          24118\n",
       "other                17520\n",
       "cooling               9276\n",
       "central electric      8294\n",
       "central gas           4252\n",
       "wall                  3908\n",
       "central heating       3318\n",
       "cooling system        2665\n",
       "refrigeration         1072\n",
       "Name: cooling, dtype: int64"
      ]
     },
     "execution_count": 75,
     "metadata": {},
     "output_type": "execute_result"
    }
   ],
   "source": [
    "data_realt['cooling'].value_counts()"
   ]
  },
  {
   "cell_type": "markdown",
   "id": "5c96742f",
   "metadata": {},
   "source": [
    "**parking (паркинг)**"
   ]
  },
  {
   "cell_type": "code",
   "execution_count": 76,
   "id": "3c8d6e24",
   "metadata": {},
   "outputs": [
    {
     "data": {
      "text/plain": [
       "3078"
      ]
     },
     "execution_count": 76,
     "metadata": {},
     "output_type": "execute_result"
    }
   ],
   "source": [
    "data_realt['parking'].isnull().sum()"
   ]
  },
  {
   "cell_type": "code",
   "execution_count": 77,
   "id": "779237af",
   "metadata": {},
   "outputs": [
    {
     "data": {
      "text/plain": [
       "                                    151547\n",
       "Attached Garage                      68334\n",
       "2 spaces                             27607\n",
       "1 space                              13951\n",
       "No Data                              12732\n",
       "Detached Garage                      12380\n",
       "Carport                               7530\n",
       "3 spaces                              4502\n",
       "Off Street                            3484\n",
       "Carport, Attached Garage              2894\n",
       "1                                     2847\n",
       "4 spaces                              2718\n",
       "2                                     2683\n",
       "None                                  2221\n",
       "Off street                            1581\n",
       "On Street                             1205\n",
       "Attached Garage, Detached Garage      1105\n",
       "0                                      949\n",
       "Attached Garage, Carport               941\n",
       "Parking Desc                           875\n",
       "Driveway                               688\n",
       "6 spaces                               670\n",
       "Detached Garage, Attached Garage       594\n",
       "4                                      580\n",
       "5 spaces                               556\n",
       "On street                              450\n",
       "Parking Type                           446\n",
       "Off Street, Attached Garage            429\n",
       "Off street parking                     423\n",
       "3                                      415\n",
       "Attached Garage, Garage - 2 Car        392\n",
       "Carport, Detached Garage               388\n",
       "Garage Type                            371\n",
       "Parking YN                             355\n",
       "Driveway, Garage Door Opener           340\n",
       "Garage - 2 Car                         292\n",
       "Garage Door Opener                     262\n",
       "Attached Garage, Off Street            236\n",
       "Attached - FRONT                       233\n",
       "Slab Parking Spaces                    229\n",
       "Detached Garage, Carport               209\n",
       "Off Street, On Street                  205\n",
       "6                                      197\n",
       "Off Street, Detached Garage            188\n",
       "888                                    180\n",
       "Garage-Attached                        179\n",
       "8 spaces                               178\n",
       "Electric Door Opener                   176\n",
       "Attached - SIDE                        161\n",
       "Attached                               153\n",
       "Name: parking, dtype: int64"
      ]
     },
     "execution_count": 77,
     "metadata": {},
     "output_type": "execute_result"
    }
   ],
   "source": [
    "data_realt['parking'].value_counts()[:50]"
   ]
  },
  {
   "cell_type": "markdown",
   "id": "0ba10af1",
   "metadata": {},
   "source": [
    "В признаке 3078(+151547) пропусков и очень много уникальных записей.\n",
    "Проведём преобразование признака и унификацию категорий, далее оставим 15 самых распространенных, остальные обозначим как other, пропуски заполним топовым значением."
   ]
  },
  {
   "cell_type": "code",
   "execution_count": 78,
   "id": "f8cd97f5",
   "metadata": {},
   "outputs": [],
   "source": [
    "data_realt['parking'] = data_realt['parking'].apply(lambda x: x.lower() if (x is not np.nan) & (x is not None) else x)\n",
    "data_realt['parking'] = data_realt['parking'].apply(lambda x: np.nan if (x is None) | (x == '') else x)\n",
    "data_realt['parking'] = data_realt['parking'].replace('no data', np.nan).replace('none', np.nan)\n",
    "data_realt['parking'] = data_realt['parking'].apply(lambda x: x if x is np.nan else x.replace('+', '').replace(',', '').split(' ')[0])\n",
    "data_realt['parking'] = data_realt['parking'].replace('driveway', 'off').replace('garage', 'detached')\n",
    "\n",
    "parking_list = list(data_realt['parking'].value_counts()[:15].index)\n",
    "\n",
    "data_realt['parking'] = data_realt['parking'].apply(lambda x: x if x is np.nan else x if x in parking_list else 'other')\n",
    "data_realt['parking'] = data_realt['parking'].fillna(data_realt['parking'].describe().top)"
   ]
  },
  {
   "cell_type": "code",
   "execution_count": 79,
   "id": "1ee008bf",
   "metadata": {},
   "outputs": [
    {
     "data": {
      "text/plain": [
       "attached    243381\n",
       "2            31051\n",
       "1            17048\n",
       "detached     15329\n",
       "carport      11499\n",
       "off           8987\n",
       "3             5050\n",
       "other         4650\n",
       "4             3309\n",
       "on            2190\n",
       "parking       2182\n",
       "0              949\n",
       "6              867\n",
       "electric       821\n",
       "assigned       724\n",
       "5              715\n",
       "Name: parking, dtype: int64"
      ]
     },
     "execution_count": 79,
     "metadata": {},
     "output_type": "execute_result"
    }
   ],
   "source": [
    "data_realt['parking'].value_counts()"
   ]
  },
  {
   "cell_type": "markdown",
   "id": "6a162141",
   "metadata": {},
   "source": [
    "**lotsize (дом с участком)**"
   ]
  },
  {
   "cell_type": "code",
   "execution_count": 80,
   "id": "fb7151e9",
   "metadata": {},
   "outputs": [
    {
     "data": {
      "text/plain": [
       "26942"
      ]
     },
     "execution_count": 80,
     "metadata": {},
     "output_type": "execute_result"
    }
   ],
   "source": [
    "data_realt['lotsize'].isnull().sum()"
   ]
  },
  {
   "cell_type": "code",
   "execution_count": 81,
   "id": "84fc1aa2",
   "metadata": {},
   "outputs": [
    {
     "data": {
      "text/plain": [
       "               31001\n",
       "—              22999\n",
       "No Data         5272\n",
       "-- sqft lot     3692\n",
       "0.26 acres      2224\n",
       "0.28 acres      1912\n",
       "0.25 acres      1871\n",
       "0.27 acres      1816\n",
       "0.29 acres      1715\n",
       "0.34 acres      1479\n",
       "6,098 sqft      1469\n",
       "0.3 acres       1336\n",
       "7,405 sqft      1328\n",
       "6,534 sqft      1250\n",
       "0.31 acres      1231\n",
       "0.32 acres      1158\n",
       "10,000 sqft     1152\n",
       "5,000 sqft      1098\n",
       "0.33 acres      1033\n",
       "5,227 sqft      1011\n",
       "Name: lotsize, dtype: int64"
      ]
     },
     "execution_count": 81,
     "metadata": {},
     "output_type": "execute_result"
    }
   ],
   "source": [
    "data_realt['lotsize'].value_counts()[:20]"
   ]
  },
  {
   "cell_type": "markdown",
   "id": "2751e66e",
   "metadata": {},
   "source": [
    "В признаке 26942(+31001)пропущенных значений, но на самом деле их больше, так как имеются неявные пропуски в виде \"—\", \"No Data\", \"-- sqft lot\". Видно, что значения занесены в разных единицах измерения - акры(acres) и квадратные футы(sqft) - переведём всё к одному виду - sqft. Обратим внимание, что где-то имеется разделитель в виде точки, а где-то в виде запятой. После обработки заменим пропущенные значения медианным."
   ]
  },
  {
   "cell_type": "code",
   "execution_count": 82,
   "id": "44960587",
   "metadata": {},
   "outputs": [],
   "source": [
    "def acr_change(acr):\n",
    "    \"\"\" Переводит акры в квадратные фунты \"\"\"\n",
    "\n",
    "    sqft = 43560 * float(acr)\n",
    "    return sqft\n",
    "\n",
    "def convert_lotsize(df):\n",
    "    \"\"\" Обработчик признака lotsize\n",
    "\n",
    "        Возвращает признак в виде float/str\n",
    "    \"\"\"\n",
    "    \n",
    "    # заменяем пропуски на No и приводим разделитель к общему виду - точки\n",
    "    df = df.replace('—', 'No').replace('No Data', 'No').replace('-- sqft lot', 'No').replace(',', '')\n",
    "    \n",
    "    if df != 'No':\n",
    "        # приводим строку к нижнему регистру\n",
    "        df = df.lower()\n",
    "        # создаём лист со значениями \n",
    "        list_temp = df.split(' ')\n",
    "        # если строка состоит из более чем одного значения, и второе значение 'acres' или 'acre', то переводим в кв фунты\n",
    "        if (len(list_temp) > 1) and (df.split(' ')[1] == 'acres' or df.split(' ')[1] == 'acre'):\n",
    "            df = acr_change(list_temp[0])\n",
    "            return df\n",
    "        else:\n",
    "            df = float(list_temp[0])\n",
    "            return df\n",
    "    return df"
   ]
  },
  {
   "cell_type": "code",
   "execution_count": 83,
   "id": "7d317dbe",
   "metadata": {},
   "outputs": [],
   "source": [
    "# меняем все пропущенные значения для удобства на No\n",
    "data_realt['lotsize'] = data_realt['lotsize'].apply(lambda x: 'No' if (x is np.nan) | (x is None) | (x == '') else x)  \n",
    "# применяем функцию обработчик\n",
    "data_realt['lotsize'] = data_realt['lotsize'].apply(convert_lotsize)\n",
    "# все No меняем на np.nan, отрицательные значения на 0\n",
    "data_realt['lotsize'] = data_realt['lotsize'].apply(lambda x: np.nan if x == 'No' else 0 if x < 0 else x)\n",
    "# пропуски заменяем на медианное значение\n",
    "data_realt['lotsize'] = data_realt['lotsize'].fillna(data_realt['lotsize'].describe().median())"
   ]
  },
  {
   "cell_type": "markdown",
   "id": "e7470d50",
   "metadata": {},
   "source": [
    "**price_sqft (цена за квадратный фут)**"
   ]
  },
  {
   "cell_type": "code",
   "execution_count": 84,
   "id": "cc907d78",
   "metadata": {},
   "outputs": [
    {
     "data": {
      "text/plain": [
       "42723"
      ]
     },
     "execution_count": 84,
     "metadata": {},
     "output_type": "execute_result"
    }
   ],
   "source": [
    "data_realt['price_sqft'].isnull().sum()"
   ]
  },
  {
   "cell_type": "code",
   "execution_count": 85,
   "id": "f0c4b02c",
   "metadata": {},
   "outputs": [
    {
     "data": {
      "text/plain": [
       "             5004\n",
       "No Data      1164\n",
       "No Info       865\n",
       "$125/sqft     797\n",
       "$115/sqft     769\n",
       "$132/sqft     768\n",
       "$120/sqft     762\n",
       "$119/sqft     762\n",
       "$128/sqft     760\n",
       "$122/sqft     756\n",
       "$121/sqft     751\n",
       "$130/sqft     748\n",
       "$127/sqft     743\n",
       "$117/sqft     742\n",
       "$139/sqft     741\n",
       "$123/sqft     738\n",
       "$124/sqft     731\n",
       "$135/sqft     729\n",
       "$116/sqft     727\n",
       "$118/sqft     724\n",
       "Name: price_sqft, dtype: int64"
      ]
     },
     "execution_count": 85,
     "metadata": {},
     "output_type": "execute_result"
    }
   ],
   "source": [
    "data_realt['price_sqft'].value_counts()[:20]"
   ]
  },
  {
   "cell_type": "markdown",
   "id": "f06b5440",
   "metadata": {},
   "source": [
    "В признаке имеется явный 42723(+5004) пропуск значений и не явный в виде записей 'No Data', 'No Info', которые заменим на np.nan, которые затем заменим медианным значением. "
   ]
  },
  {
   "cell_type": "code",
   "execution_count": 86,
   "id": "13d6b9e1",
   "metadata": {},
   "outputs": [],
   "source": [
    "data_realt['price_sqft'] = data_realt['price_sqft'].apply(lambda x: np.nan if (x == 'No Data') | (x == 'No Info') | (x is None) | (x == '') else x)\n",
    "data_realt['price_sqft'] = data_realt['price_sqft'].apply(lambda x: x if x is np.nan else float(x.replace('$', '').replace('/', ' ').replace(',', '').split(' ')[0]))\n",
    "\n",
    "data_realt['price_sqft'] = data_realt['price_sqft'].fillna(data_realt['price_sqft'].median())"
   ]
  },
  {
   "cell_type": "code",
   "execution_count": 87,
   "id": "2cdfbd22",
   "metadata": {},
   "outputs": [],
   "source": [
    "# удаляем признак homeFacts_new\n",
    "data_realt = data_realt.drop(['homeFacts_new'], axis=1)\n",
    "# для удобства переименовываем признаки\n",
    "data_realt = data_realt.rename(columns={'street_new':'street', 'sqft_new':'sqft', 'stories_new':'stories', 'beds_new':'beds'})"
   ]
  },
  {
   "cell_type": "markdown",
   "id": "0cc435cf",
   "metadata": {},
   "source": [
    "**schools (школы)**"
   ]
  },
  {
   "cell_type": "code",
   "execution_count": 88,
   "id": "44be7502",
   "metadata": {},
   "outputs": [
    {
     "data": {
      "text/plain": [
       "'[{\\'rating\\': [\\'4\\', \\'4\\', \\'7\\', \\'NR\\', \\'4\\', \\'7\\', \\'NR\\', \\'NR\\'], \\'data\\': {\\'Distance\\': [\\'2.7 mi\\', \\'3.6 mi\\', \\'5.1 mi\\', \\'4.0 mi\\', \\'10.5 mi\\', \\'12.6 mi\\', \\'2.7 mi\\', \\'3.1 mi\\'], \\'Grades\\': [\\'3–5\\', \\'6–8\\', \\'9–12\\', \\'PK–2\\', \\'6–8\\', \\'9–12\\', \\'PK–5\\', \\'K–12\\']}, \\'name\\': [\\'Southern Pines Elementary School\\', \\'Southern Middle School\\', \\'Pinecrest High School\\', \\'Southern Pines Primary School\\', \"Crain\\'s Creek Middle School\", \\'Union Pines High School\\', \\'Episcopal Day Private School\\', \\'Calvary Christian Private School\\']}]'"
      ]
     },
     "execution_count": 88,
     "metadata": {},
     "output_type": "execute_result"
    }
   ],
   "source": [
    "data_realt.iloc[0]['schools']"
   ]
  },
  {
   "cell_type": "markdown",
   "id": "853f9f09",
   "metadata": {},
   "source": [
    "Признак schools(школы) по структуре похож на признак homeFacts - формат json файла с вложенными словарями и списками в списке содержатся следующие данные:\n",
    " - rating(рейтинг школ)\n",
    " - data, содержащий сведения:\n",
    "     - Distance(дистанции до школ, в милях)\n",
    "     - Grades(уровень школы - младшая/средняя/старшая/и тд)\n",
    "     - name(наименование школы)\n",
    "\n",
    "Интерес представляют только признаки rating(рейтинг школ) и Distance(дистанции до школ, в милях). Вначале преобразуем строковое значение в словарь и выделим необходимые данные для создадим двух новых признаков."
   ]
  },
  {
   "cell_type": "code",
   "execution_count": 89,
   "id": "c31f9f9e",
   "metadata": {},
   "outputs": [],
   "source": [
    "data_realt['rating'] = data_realt['schools'].apply(lambda x: ast.literal_eval(x)[0]['rating'])\n",
    "data_realt['distance'] = data_realt['schools'].apply(lambda x: ast.literal_eval(x)[0]['data']['Distance'])\n",
    "data_realt = data_realt.drop(['schools'], axis=1)"
   ]
  },
  {
   "cell_type": "markdown",
   "id": "8d20bdcb",
   "metadata": {},
   "source": [
    "**rating (рейтинг школ)**\n",
    "\n",
    "Признак rating представлен в виде списка с рейтингами школ, который  может быть пустым, либо содержать 'NR'(нет рейтинга), 'NA'(нет данных). Создадим обобщающий признак - среднее значение рейтинга школ в данном районе - rating_mean."
   ]
  },
  {
   "cell_type": "code",
   "execution_count": 90,
   "id": "c8e88073",
   "metadata": {},
   "outputs": [],
   "source": [
    "def convert_rating(df):\n",
    "    \"\"\" Обработчик признака rating\n",
    "\n",
    "         Возвращает признак в виде   float/np.nan\n",
    "    \"\"\"\n",
    "    temp_list = []\n",
    "    list_rating = ['1', '2', '3', '4', '5', '6', '7', '8', '9', '10']\n",
    "    \n",
    "    if df == []:\n",
    "        return np.nan\n",
    "    else:\n",
    "        for i in df:\n",
    "            i = i.split('/')[0]\n",
    "            if i in list_rating:\n",
    "                temp_list.append(float(i))\n",
    "        if len(temp_list) ==0:\n",
    "            rating_mean =0\n",
    "        else:\n",
    "            rating_mean = round(np.mean(temp_list), 2)\n",
    "        return rating_mean   "
   ]
  },
  {
   "cell_type": "code",
   "execution_count": 91,
   "id": "f06d9275",
   "metadata": {},
   "outputs": [],
   "source": [
    "data_realt['rating_mean'] = data_realt['rating'].apply(convert_rating)\n",
    "data_realt['rating_mean'] = data_realt['rating_mean'].fillna(round(data_realt['rating_mean'].mean(), 2))\n",
    "data_realt = data_realt.drop(['rating'], axis=1)"
   ]
  },
  {
   "cell_type": "markdown",
   "id": "72144997",
   "metadata": {},
   "source": [
    "**distance (расстояние до  школ)**\n",
    "\n",
    "Из данного признака, представленного в виде списка из расстояний до школ создадим два признака - среднее расстояние до школы(distance_mean) и количество школ на районе(schools_count)."
   ]
  },
  {
   "cell_type": "code",
   "execution_count": 92,
   "id": "bfa70acc",
   "metadata": {},
   "outputs": [],
   "source": [
    "def convert_distance(df):\n",
    "    \"\"\" Обработчик признака distance\n",
    "\n",
    "         возвращет список, содержащий  среднюю дистанцию и количество школ\n",
    "    \"\"\"\n",
    "    temp_list = []\n",
    "    \n",
    "    for i in df:\n",
    "        i = i.split('mi')[0]\n",
    "        temp_list.append(float(i))\n",
    "    dist_mean = round(np.mean(temp_list), 2)\n",
    "    schools_count = len(temp_list)\n",
    "    return [dist_mean, schools_count]"
   ]
  },
  {
   "cell_type": "code",
   "execution_count": 93,
   "id": "aaace9c4",
   "metadata": {},
   "outputs": [
    {
     "name": "stderr",
     "output_type": "stream",
     "text": [
      "C:\\Users\\user\\AppData\\Roaming\\Python\\Python38\\site-packages\\numpy\\core\\fromnumeric.py:3464: RuntimeWarning:\n",
      "\n",
      "Mean of empty slice.\n",
      "\n",
      "C:\\Users\\user\\AppData\\Roaming\\Python\\Python38\\site-packages\\numpy\\core\\fromnumeric.py:3464: RuntimeWarning:\n",
      "\n",
      "Mean of empty slice.\n",
      "\n"
     ]
    }
   ],
   "source": [
    "data_realt['distance_mean'] = data_realt['distance'].apply(lambda x: convert_distance(x)[0])\n",
    "data_realt['schools_count'] = data_realt['distance'].apply(lambda x: convert_distance(x)[1])\n",
    "data_realt['schools_count'] = data_realt['schools_count'].apply(lambda x: data_realt['schools_count'].median() if x==0 else x)\n",
    "data_realt['distance_mean'] = data_realt['distance_mean'].fillna(round(data_realt['distance_mean'].mean(), 2))                                                 \n",
    "data_realt = data_realt.drop(['distance'], axis=1)"
   ]
  },
  {
   "cell_type": "code",
   "execution_count": 94,
   "id": "4dcb2c52",
   "metadata": {},
   "outputs": [
    {
     "name": "stdout",
     "output_type": "stream",
     "text": [
      "<class 'pandas.core.frame.DataFrame'>\n",
      "RangeIndex: 348752 entries, 0 to 348751\n",
      "Data columns (total 24 columns):\n",
      " #   Column         Non-Null Count   Dtype  \n",
      "---  ------         --------------   -----  \n",
      " 0   status         348752 non-null  object \n",
      " 1   propertyType   348752 non-null  object \n",
      " 2   baths          348752 non-null  float64\n",
      " 3   city           348752 non-null  object \n",
      " 4   zipcode        348752 non-null  int64  \n",
      " 5   state          348752 non-null  object \n",
      " 6   target_clear   348752 non-null  float64\n",
      " 7   street         348752 non-null  object \n",
      " 8   county         348752 non-null  object \n",
      " 9   latitude       348752 non-null  float64\n",
      " 10  longitude      348752 non-null  float64\n",
      " 11  sqft           348752 non-null  float64\n",
      " 12  stories        348752 non-null  float64\n",
      " 13  beds           348752 non-null  float64\n",
      " 14  heating        348752 non-null  object \n",
      " 15  cooling        348752 non-null  object \n",
      " 16  parking        348752 non-null  object \n",
      " 17  lotsize        348752 non-null  float64\n",
      " 18  price_sqft     348752 non-null  float64\n",
      " 19  age            348752 non-null  float64\n",
      " 20  age_remodeled  348752 non-null  float64\n",
      " 21  rating_mean    348752 non-null  float64\n",
      " 22  distance_mean  348752 non-null  float64\n",
      " 23  schools_count  348752 non-null  float64\n",
      "dtypes: float64(14), int64(1), object(9)\n",
      "memory usage: 63.9+ MB\n"
     ]
    }
   ],
   "source": [
    "data_realt.info()"
   ]
  },
  {
   "cell_type": "markdown",
   "id": "67a0981f",
   "metadata": {},
   "source": [
    "В очищенном датасете осталось 348752 наблюдения, посмотрим ещё раз на целевую переменную, а далее попытаемся найти зависимости в признаках и сформировать гипотезы/выводы."
   ]
  },
  {
   "cell_type": "code",
   "execution_count": null,
   "id": "40e93a4e",
   "metadata": {},
   "outputs": [],
   "source": [
    "fig = px.histogram(\n",
    "    data_frame=data_realt,\n",
    "    x='target_clear',    \n",
    "    title='Distribution of the target_clear',\n",
    "    text_auto=True,    \n",
    "    height=800,    \n",
    "    width=1000,\n",
    "    marginal='box'     \n",
    ")\n",
    "fig.show()"
   ]
  },
  {
   "cell_type": "code",
   "execution_count": 96,
   "id": "a16d9bf3",
   "metadata": {},
   "outputs": [
    {
     "name": "stdout",
     "output_type": "stream",
     "text": [
      "2.513574840815391\n"
     ]
    }
   ],
   "source": [
    "# асимметрия \n",
    "print(data_realt['target_clear'].skew())"
   ]
  },
  {
   "cell_type": "code",
   "execution_count": 97,
   "id": "fa6c8152",
   "metadata": {},
   "outputs": [
    {
     "data": {
      "text/plain": [
       "count    3.487520e+05\n",
       "mean     4.821910e+05\n",
       "std      4.756453e+05\n",
       "min      3.525000e+04\n",
       "25%      2.037500e+05\n",
       "50%      3.250000e+05\n",
       "75%      5.690000e+05\n",
       "max      3.104956e+06\n",
       "Name: target_clear, dtype: float64"
      ]
     },
     "execution_count": 97,
     "metadata": {},
     "output_type": "execute_result"
    }
   ],
   "source": [
    "data_realt['target_clear'].describe()"
   ]
  },
  {
   "cell_type": "markdown",
   "id": "69001ca3",
   "metadata": {},
   "source": [
    "Распределение целевой переменной стало иметь визуально читаемый вид, но признак ассиметричный - коэффициент ассиметрии положительный(2.51), что говорит о смещении вправо - на графике имеем длинный правый хвост - в котором имеются наблюдения с большим диапазоном разброса цен:\n",
    "- Медианное значение увеличилось до $325000\n",
    "- Минимальное - $35250\n",
    "- Максимальное - $3104956"
   ]
  },
  {
   "cell_type": "markdown",
   "id": "f733cb7c",
   "metadata": {},
   "source": [
    "Связь целевой переменной **target_clear** и **статуса status**"
   ]
  },
  {
   "cell_type": "code",
   "execution_count": null,
   "id": "b0ebb19b",
   "metadata": {},
   "outputs": [],
   "source": [
    "fig = px.histogram(\n",
    "    data_frame=data_realt.groupby(['status'], as_index=False)['target_clear'].count(),\n",
    "    x='status',\n",
    "    y= ['target_clear'],\n",
    "    color='status',\n",
    "    height=500, \n",
    "    width=1000, \n",
    "    title='Distribution of the attribute status',\n",
    "    text_auto=True   \n",
    ")\n",
    "\n",
    "fig.show()"
   ]
  },
  {
   "cell_type": "code",
   "execution_count": null,
   "id": "24685496",
   "metadata": {},
   "outputs": [],
   "source": [
    "fig = px.bar(\n",
    "    data_frame= data_realt.groupby(['status'], as_index=False)['target_clear'].median(),\n",
    "    x='status',\n",
    "    y='target_clear',\n",
    "    color='status',\n",
    "    text='target_clear', \n",
    "    orientation='v',\n",
    "    title='Median value of the price from the status',\n",
    "    height=500, \n",
    "    width=1000   \n",
    ")\n",
    "\n",
    "fig.show()"
   ]
  },
  {
   "cell_type": "code",
   "execution_count": null,
   "id": "49a64c68",
   "metadata": {},
   "outputs": [],
   "source": [
    "fig = px.bar(\n",
    "    data_frame= data_realt.groupby(['status'], as_index=False)['distance_mean'].median(),\n",
    "    x='status',\n",
    "    y='distance_mean',\n",
    "    color='status',\n",
    "    text='distance_mean', \n",
    "    orientation='v',\n",
    "    title='Average distance to school by status',\n",
    "    height=500, \n",
    "    width=1000   \n",
    ")\n",
    "\n",
    "fig.show()"
   ]
  },
  {
   "cell_type": "markdown",
   "id": "5a548e21",
   "metadata": {},
   "source": [
    "В данных основная масса объявлений это со статусом for sale(224754), наименьшая группа pending(4369).\n",
    "Медианная стоимость недвижимости в зависимости от статуса разнится - наибольшая зафиксирована в категории new construction(449761), что вполне объяснимо - новое, более современное жильё и строится в более перспективных районах города. Стоит отметить и категории foreclosure - недвижимость должников для продажи ниже рынка(242742) и категории незавершенного строительства pending (234900)- возможно недвижимость в непристижных районах/либо далеко от инфраструктуры/школ - на графике видно, что среднее расстояние до школы (1,99 мили) больше, чему у других категорий."
   ]
  },
  {
   "cell_type": "markdown",
   "id": "95aea8b1",
   "metadata": {},
   "source": [
    "Проведем статистические тесты"
   ]
  },
  {
   "cell_type": "code",
   "execution_count": 101,
   "id": "418342fd",
   "metadata": {},
   "outputs": [],
   "source": [
    "# сформируем массивы под каждую категорию\n",
    "for_sale = data_realt[data_realt['status']=='for sale']['target_clear'].values\n",
    "active = data_realt[data_realt['status']=='active']['target_clear'].values\n",
    "foreclosure = data_realt[data_realt['status']=='foreclosure']['target_clear'].values\n",
    "new_construction = data_realt[data_realt['status']=='new construction']['target_clear'].values\n",
    "pending = data_realt[data_realt['status']=='pending']['target_clear'].values\n",
    "other = data_realt[data_realt['status']=='other']['target_clear'].values"
   ]
  },
  {
   "cell_type": "code",
   "execution_count": 102,
   "id": "7b7799aa",
   "metadata": {},
   "outputs": [
    {
     "name": "stdout",
     "output_type": "stream",
     "text": [
      "0.0 <= 0.05 отвергаем нулевую гипотезу. Есть значимая разница между ценой недвижимости с разными статусами продажи\n"
     ]
    }
   ],
   "source": [
    "# тест Краскела-Уоллиса \n",
    "H0 = 'Нет значимой разницы между ценой недвижимости с разными статусами продажи'\n",
    "H1 = 'Есть значимая разница между ценой недвижимости с разными статусами продажи'\n",
    "\n",
    "_, p = kruskal(for_sale, active, foreclosure, new_construction, pending, other)\n",
    "\n",
    "alpha = 0.05\n",
    "\n",
    "if p > alpha:\n",
    "    print(f'{p} > {alpha} не можем отвергнуть нулевую гипотезу. {H0}')\n",
    "else:\n",
    "    print(f'{p} <= {alpha} отвергаем нулевую гипотезу. {H1}')"
   ]
  },
  {
   "cell_type": "code",
   "execution_count": 103,
   "id": "ac80b8d4",
   "metadata": {},
   "outputs": [
    {
     "data": {
      "text/html": [
       "<div>\n",
       "<style scoped>\n",
       "    .dataframe tbody tr th:only-of-type {\n",
       "        vertical-align: middle;\n",
       "    }\n",
       "\n",
       "    .dataframe tbody tr th {\n",
       "        vertical-align: top;\n",
       "    }\n",
       "\n",
       "    .dataframe thead th {\n",
       "        text-align: right;\n",
       "    }\n",
       "</style>\n",
       "<table border=\"1\" class=\"dataframe\">\n",
       "  <thead>\n",
       "    <tr style=\"text-align: right;\">\n",
       "      <th></th>\n",
       "      <th>1</th>\n",
       "      <th>2</th>\n",
       "      <th>3</th>\n",
       "      <th>4</th>\n",
       "      <th>5</th>\n",
       "      <th>6</th>\n",
       "    </tr>\n",
       "  </thead>\n",
       "  <tbody>\n",
       "    <tr>\n",
       "      <th>1</th>\n",
       "      <td>NaN</td>\n",
       "      <td>NaN</td>\n",
       "      <td>0.000000e+00</td>\n",
       "      <td>2.635393e-211</td>\n",
       "      <td>3.981281e-169</td>\n",
       "      <td>3.668940e-80</td>\n",
       "    </tr>\n",
       "    <tr>\n",
       "      <th>2</th>\n",
       "      <td>NaN</td>\n",
       "      <td>NaN</td>\n",
       "      <td>1.668191e-296</td>\n",
       "      <td>2.610910e-210</td>\n",
       "      <td>2.580254e-160</td>\n",
       "      <td>8.919671e-69</td>\n",
       "    </tr>\n",
       "    <tr>\n",
       "      <th>3</th>\n",
       "      <td>0.000000e+00</td>\n",
       "      <td>1.668191e-296</td>\n",
       "      <td>NaN</td>\n",
       "      <td>0.000000e+00</td>\n",
       "      <td>1.118504e-04</td>\n",
       "      <td>1.087807e-109</td>\n",
       "    </tr>\n",
       "    <tr>\n",
       "      <th>4</th>\n",
       "      <td>2.635393e-211</td>\n",
       "      <td>2.610910e-210</td>\n",
       "      <td>0.000000e+00</td>\n",
       "      <td>NaN</td>\n",
       "      <td>0.000000e+00</td>\n",
       "      <td>1.136027e-300</td>\n",
       "    </tr>\n",
       "    <tr>\n",
       "      <th>5</th>\n",
       "      <td>3.981281e-169</td>\n",
       "      <td>2.580254e-160</td>\n",
       "      <td>1.118504e-04</td>\n",
       "      <td>0.000000e+00</td>\n",
       "      <td>NaN</td>\n",
       "      <td>4.667388e-51</td>\n",
       "    </tr>\n",
       "    <tr>\n",
       "      <th>6</th>\n",
       "      <td>3.668940e-80</td>\n",
       "      <td>8.919671e-69</td>\n",
       "      <td>1.087807e-109</td>\n",
       "      <td>1.136027e-300</td>\n",
       "      <td>4.667388e-51</td>\n",
       "      <td>NaN</td>\n",
       "    </tr>\n",
       "  </tbody>\n",
       "</table>\n",
       "</div>"
      ],
      "text/plain": [
       "               1              2              3              4              5  \\\n",
       "1            NaN            NaN   0.000000e+00  2.635393e-211  3.981281e-169   \n",
       "2            NaN            NaN  1.668191e-296  2.610910e-210  2.580254e-160   \n",
       "3   0.000000e+00  1.668191e-296            NaN   0.000000e+00   1.118504e-04   \n",
       "4  2.635393e-211  2.610910e-210   0.000000e+00            NaN   0.000000e+00   \n",
       "5  3.981281e-169  2.580254e-160   1.118504e-04   0.000000e+00            NaN   \n",
       "6   3.668940e-80   8.919671e-69  1.087807e-109  1.136027e-300   4.667388e-51   \n",
       "\n",
       "               6  \n",
       "1   3.668940e-80  \n",
       "2   8.919671e-69  \n",
       "3  1.087807e-109  \n",
       "4  1.136027e-300  \n",
       "5   4.667388e-51  \n",
       "6            NaN  "
      ]
     },
     "execution_count": 103,
     "metadata": {},
     "output_type": "execute_result"
    }
   ],
   "source": [
    "# тест Данна (NaN означает превышение alpha )\n",
    "import scikit_posthocs as sp\n",
    "data = [for_sale, active, foreclosure, new_construction, pending, other]\n",
    "sp.posthoc_dunn (data, p_adjust = 'bonferroni')[sp.posthoc_dunn (data, p_adjust = 'bonferroni') < 0.05]"
   ]
  },
  {
   "cell_type": "markdown",
   "id": "b33233eb",
   "metadata": {},
   "source": [
    "Статистические тесты показали, что для статуса active нет статистической разницы между active и for sale - но с другими статусами разница имеется."
   ]
  },
  {
   "cell_type": "markdown",
   "id": "e78907a4",
   "metadata": {},
   "source": [
    "Связь целевой переменной **target_clear** и типа недвижимости **propertyType**"
   ]
  },
  {
   "cell_type": "code",
   "execution_count": null,
   "id": "4b53eadc",
   "metadata": {},
   "outputs": [],
   "source": [
    "fig = px.histogram(\n",
    "    data_frame=data_realt.groupby(['propertyType'], as_index=False)['target_clear'].count().sort_values(by=['target_clear'], ascending=False),\n",
    "    x='propertyType',\n",
    "    y= ['target_clear'],\n",
    "    color='propertyType',\n",
    "    height=500, \n",
    "    width=1000, \n",
    "    title='Distribution of the attribute propertyType',\n",
    "    text_auto=True   \n",
    ")\n",
    "\n",
    "fig.show()"
   ]
  },
  {
   "cell_type": "code",
   "execution_count": 105,
   "id": "c6d74f91",
   "metadata": {},
   "outputs": [
    {
     "data": {
      "text/plain": [
       "single family    209593\n",
       "condo             48356\n",
       "other             39493\n",
       "land              20168\n",
       "townhouse         18016\n",
       "multi family       7284\n",
       "traditional        5842\n",
       "Name: propertyType, dtype: int64"
      ]
     },
     "execution_count": 105,
     "metadata": {},
     "output_type": "execute_result"
    }
   ],
   "source": [
    "data_realt['propertyType'].value_counts()"
   ]
  },
  {
   "cell_type": "code",
   "execution_count": null,
   "id": "aaf0f4c5",
   "metadata": {},
   "outputs": [],
   "source": [
    "fig = px.bar(\n",
    "    data_frame= data_realt.groupby(['propertyType'], as_index=False)['target_clear'].median().sort_values(by=['target_clear'], ascending=False),\n",
    "    x='propertyType',\n",
    "    y='target_clear',\n",
    "    color='propertyType',\n",
    "    text='target_clear', \n",
    "    orientation='v',\n",
    "    title='Median value of the price from the propertyType',\n",
    "    height=500, \n",
    "    width=1000   \n",
    ")\n",
    "\n",
    "fig.show()"
   ]
  },
  {
   "cell_type": "markdown",
   "id": "97b82250",
   "metadata": {},
   "source": [
    "60% объявлений о продаже недвижимости приходится на категорию single family(на одну семью), также видим, что данный признак существенно влияет на цену недвижимости, для земельных участков(land) она наименьшая - $158000."
   ]
  },
  {
   "cell_type": "markdown",
   "id": "5ba96bcb",
   "metadata": {},
   "source": [
    "Связь целевой переменной **target_clear** и штата **state**"
   ]
  },
  {
   "cell_type": "markdown",
   "id": "d7d6a123",
   "metadata": {},
   "source": [
    "Рассмотрим на распределение объявлений в штатах и зависимость целевой переменной от данного признака."
   ]
  },
  {
   "cell_type": "code",
   "execution_count": null,
   "id": "8c598fee",
   "metadata": {},
   "outputs": [],
   "source": [
    "fig = px.histogram(\n",
    "    data_frame=data_realt.groupby(['state'], as_index=False)['target_clear'].count().sort_values(by=['target_clear'], ascending=False),\n",
    "    x='state',\n",
    "    y= ['target_clear'],\n",
    "    color='state',\n",
    "    height=500, \n",
    "    width=1000, \n",
    "    title='Distribution of the attribute propertyType',\n",
    "    text_auto=True   \n",
    ")\n",
    "\n",
    "fig.show()"
   ]
  },
  {
   "cell_type": "code",
   "execution_count": null,
   "id": "ec20b4f4",
   "metadata": {},
   "outputs": [],
   "source": [
    "fig = px.bar(\n",
    "    data_frame= data_realt.groupby(['state'], as_index=False)['target_clear'].median().sort_values(by=['target_clear'], ascending=False),\n",
    "    x='state',\n",
    "    y='target_clear',\n",
    "    color='state',\n",
    "    text='target_clear', \n",
    "    orientation='v',\n",
    "    title='Median value of the price from the state',\n",
    "    height=500, \n",
    "    width=1000   \n",
    ")\n",
    "\n",
    "fig.show()"
   ]
  },
  {
   "cell_type": "markdown",
   "id": "492f08ba",
   "metadata": {},
   "source": [
    "Объявления представлены из 39 разных штатов(из 50), болше всего предложиний из штата Флорида(FL) - более 102 тыс. и штата Техас(TX) - более 81 тыс.\n",
    "\n",
    "Наибольшая  медианная цена недвижимостив штатах:\n",
    "- Нью-Йорк (NY) - $725000\n",
    "- Массачусетс (MA) - $655870\n",
    "- Калифорния (CA) - $650000\n",
    "- Округ Колумбия (DC) - $623101\n",
    "Наменьшая медианная цена недвижимостив штатах:\n",
    "- Алабама (AL) - $72000\n",
    "- Монтана (MT) - $82900\n",
    "- Оклахома (OK) - $114750\n",
    "- Округ Осэйдж (OS) - $125000\n",
    "Обоснованно предполагаем о влиянии данного признака на цену недвижимости."
   ]
  },
  {
   "cell_type": "markdown",
   "id": "f57d5403",
   "metadata": {},
   "source": [
    "Связь целевой переменной **target_clear** и числом комнат **beds**"
   ]
  },
  {
   "cell_type": "code",
   "execution_count": null,
   "id": "4c12c748",
   "metadata": {},
   "outputs": [],
   "source": [
    "fig = px.histogram(\n",
    "    data_frame=data_realt,\n",
    "    x='beds',    \n",
    "    title='Distribution of the beds',\n",
    "    text_auto=True,    \n",
    "    height=500,    \n",
    "    width=1000      \n",
    ")\n",
    "fig.show()"
   ]
  },
  {
   "cell_type": "code",
   "execution_count": null,
   "id": "13a64939",
   "metadata": {},
   "outputs": [],
   "source": [
    "fig = px.scatter(\n",
    "    data_frame=data_realt.groupby(['beds'], as_index=False)['target_clear'].median(),\n",
    "    x='beds',   \n",
    "    y='target_clear',\n",
    "    color='beds',\n",
    "    title='Scatterplot between beds and target_clear(median)',       \n",
    "    height=500,    \n",
    "    width=1000,\n",
    "    size='target_clear'       \n",
    ")\n",
    "fig.show()"
   ]
  },
  {
   "cell_type": "markdown",
   "id": "d35692eb",
   "metadata": {},
   "source": [
    "Видим зависимость цены недвижимости от числа комнат - при чём до трёх включительно разница небольшая, после трёх видно ускорение в увеличении стоимости: особенно скачок после 4 комнат, после 10 комнат. Опять же с 7 до 10 комнат разница несущественна - возможна связано, с небольшой разницей в общей площади дома и более меньшими площадями самих комнат. Топовое количество комнат - 3(более 197 тыс. объектов). Интересны объекты с 1/9/13 комнатами, где стоимость ниже аналогичных объектов с меньшим количеством комнат."
   ]
  },
  {
   "cell_type": "markdown",
   "id": "1f2e7788",
   "metadata": {},
   "source": [
    "Связь целевой переменной **target_clear** и числом ванных **baths**"
   ]
  },
  {
   "cell_type": "code",
   "execution_count": null,
   "id": "7184ab46",
   "metadata": {},
   "outputs": [],
   "source": [
    "fig = px.histogram(\n",
    "    data_frame=data_realt,\n",
    "    x='baths',    \n",
    "    title='Distribution of the baths',\n",
    "    text_auto=True,    \n",
    "    height=500,    \n",
    "    width=1000,\n",
    "    nbins=20     \n",
    ")\n",
    "fig.show()"
   ]
  },
  {
   "cell_type": "code",
   "execution_count": null,
   "id": "5cf8d8ac",
   "metadata": {},
   "outputs": [],
   "source": [
    "fig = px.scatter(\n",
    "    data_frame=data_realt.groupby(['baths'], as_index=False)['target_clear'].median(),\n",
    "    x='baths',   \n",
    "    y='target_clear',\n",
    "    color='baths',\n",
    "    title='Scatterplot between baths and target_clear(median)',       \n",
    "    height=500,    \n",
    "    width=1000,\n",
    "    size='target_clear'       \n",
    ")\n",
    "fig.show()"
   ]
  },
  {
   "cell_type": "code",
   "execution_count": 113,
   "id": "852b2bec",
   "metadata": {},
   "outputs": [
    {
     "data": {
      "text/plain": [
       "count    348752.000000\n",
       "mean          2.549674\n",
       "std           1.008295\n",
       "min           0.000000\n",
       "25%           2.000000\n",
       "50%           2.250000\n",
       "75%           3.000000\n",
       "max          20.000000\n",
       "Name: baths, dtype: float64"
      ]
     },
     "execution_count": 113,
     "metadata": {},
     "output_type": "execute_result"
    }
   ],
   "source": [
    "data_realt['baths'].describe()"
   ]
  },
  {
   "cell_type": "markdown",
   "id": "a033c445",
   "metadata": {},
   "source": [
    "Основная доля объектов приходится с количеством ванных комнат от 2 до 4(медианное значение 2.25).\n",
    "Картинка неоднозначная - да, видим, что при увеличении количества ванных комнат растёт и медианная стоимость недвижимости, но интересны некоторые значения, которые выпадают из общего тренда:\n",
    "участок с 10 по 13 включительно цена наоборот снижается,\n",
    "значения baths с 17/19/20 - череcчур низкие,\n",
    "значения 5.2, 4.75, 3.2 - череcчур высокие.\n",
    "Эти отклонения от тренда возможно связаны с различием цены на недвижимость и количеством предложений по штатам. "
   ]
  },
  {
   "cell_type": "markdown",
   "id": "383c27a4",
   "metadata": {},
   "source": [
    "Связь целевой переменной **target_clear** и квадратных футов **sqft**"
   ]
  },
  {
   "cell_type": "code",
   "execution_count": 114,
   "id": "53c252f5",
   "metadata": {},
   "outputs": [
    {
     "data": {
      "text/plain": [
       "count    3.487520e+05\n",
       "mean     4.050166e+03\n",
       "std      7.736118e+05\n",
       "min      0.000000e+00\n",
       "25%      1.313000e+03\n",
       "50%      1.800000e+03\n",
       "75%      2.453000e+03\n",
       "max      4.566025e+08\n",
       "Name: sqft, dtype: float64"
      ]
     },
     "execution_count": 114,
     "metadata": {},
     "output_type": "execute_result"
    }
   ],
   "source": [
    "data_realt['sqft'].describe()"
   ]
  },
  {
   "cell_type": "markdown",
   "id": "ce6f7255",
   "metadata": {},
   "source": [
    "Признак sqft имеет большой разброс(квадратичное отклонение 736118) - от 0 до 456602500 квадратных фунтов, при этом медианное значение равняется 1800. "
   ]
  },
  {
   "cell_type": "code",
   "execution_count": null,
   "id": "8406f965",
   "metadata": {},
   "outputs": [],
   "source": [
    "# оценим влияние возраста недвижимости на sqft\n",
    "fig = px.scatter(\n",
    "    data_frame=data_realt.groupby(['age'], as_index=False)['sqft'].median(),\n",
    "    y='sqft',   \n",
    "    x='age',\n",
    "    color='sqft',\n",
    "    title='Scatterplot between age and sqft(median)',       \n",
    "    height=500,    \n",
    "    width=1000,\n",
    "    #size='sqft'       \n",
    ")\n",
    "fig.show()"
   ]
  },
  {
   "cell_type": "markdown",
   "id": "864ffef2",
   "metadata": {},
   "source": [
    "По диаграмме видно:\n",
    "- старые дома(более 120 лет - старше 1900 г) имеют более большой диапазон в площадях домов, они разнятся от года к году, много домов большой площади, далее они приходят к более единой медианной площади. Отметим, что если необходим дом с большой площадью, то стоит его подыскивать именно в этой категории.\n",
    "- период 30-90 лет характеризуется колебанием от1100 до 1900 футов\n",
    "- более современный период до 30 лет имеет тенденцию к небольшому росту от 2000 до 2600 футов"
   ]
  },
  {
   "cell_type": "code",
   "execution_count": null,
   "id": "02b6e9c4",
   "metadata": {},
   "outputs": [],
   "source": [
    "fig = px.scatter(\n",
    "    data_frame=data_realt.groupby(['baths'], as_index=False)['sqft'].median(),\n",
    "    y='sqft',   \n",
    "    x='baths',\n",
    "    color='baths',\n",
    "    title='Scatterplot between baths and sqft(median)',       \n",
    "    height=500,    \n",
    "    width=1000,\n",
    "    size='sqft'       \n",
    ")\n",
    "fig.show()"
   ]
  },
  {
   "cell_type": "markdown",
   "id": "72d96ae3",
   "metadata": {},
   "source": [
    "На диаграмме  имеется участок от 11 до 15 числа комнат, где уменьшается медианная площадь. Это дает объяснение выше рассмотренной зависимости целевой переменной от количества ванных комнат для объектов, у которых стоимость недвижимости снижалось после достижения ванных комнат 9 и до 15. "
   ]
  },
  {
   "cell_type": "code",
   "execution_count": null,
   "id": "e73edae5",
   "metadata": {},
   "outputs": [],
   "source": [
    "fig = px.bar(\n",
    "    data_frame= data_realt.groupby(['propertyType'], as_index=False)['sqft'].median().sort_values(by=['sqft'], ascending=False),\n",
    "    x='propertyType',\n",
    "    y='sqft',\n",
    "    color='propertyType',\n",
    "    text='sqft', \n",
    "    orientation='v',\n",
    "    title='Median value of the sqft from the propertyType',\n",
    "    height=500, \n",
    "    width=1000   \n",
    ")\n",
    "\n",
    "fig.show()"
   ]
  },
  {
   "cell_type": "markdown",
   "id": "6d2cfbb7",
   "metadata": {},
   "source": [
    "Среди типов недвижимости наибольшее по плащади ожидается у multi family, наименьшее - condo."
   ]
  },
  {
   "cell_type": "markdown",
   "id": "6842596a",
   "metadata": {},
   "source": [
    "Связь целевой переменной **target_clear** и этажности **stories**"
   ]
  },
  {
   "cell_type": "code",
   "execution_count": null,
   "id": "97cc007d",
   "metadata": {},
   "outputs": [],
   "source": [
    "fig = px.histogram(\n",
    "    data_frame=data_realt,\n",
    "    x='stories',    \n",
    "    title='Distribution of the stories',\n",
    "    text_auto=True,    \n",
    "    height=500,    \n",
    "    width=1000,\n",
    "    nbins=40     \n",
    ")\n",
    "fig.show()"
   ]
  },
  {
   "cell_type": "code",
   "execution_count": null,
   "id": "2e1147dd",
   "metadata": {},
   "outputs": [],
   "source": [
    "fig = px.scatter(\n",
    "    data_frame=data_realt.groupby(['stories'], as_index=False)['target_clear'].median(),\n",
    "    x='stories',   \n",
    "    y='target_clear',\n",
    "    color='stories',\n",
    "    title='Scatterplot between stories and target_clear(median)',       \n",
    "    height=500,    \n",
    "    width=1000,\n",
    "    size='target_clear'       \n",
    ")\n",
    "fig.show()"
   ]
  },
  {
   "cell_type": "markdown",
   "id": "decbdd31",
   "metadata": {},
   "source": [
    "Основная часть недвижимости расположена на 2-3 этажах, медианное значение - 1 этаж, что вполне объяснимо так как это частные дома. Имеется плавная прямая зависимость стоимости от этажности строения."
   ]
  },
  {
   "cell_type": "markdown",
   "id": "70433256",
   "metadata": {},
   "source": [
    "Связь целевой переменной **target_clear** и **heating**"
   ]
  },
  {
   "cell_type": "code",
   "execution_count": null,
   "id": "2f1a62f1",
   "metadata": {},
   "outputs": [],
   "source": [
    "fig = px.histogram(\n",
    "    data_frame=data_realt,\n",
    "    x='heating',    \n",
    "    title='Distribution of the heating',\n",
    "    text_auto=True,    \n",
    "    height=500,    \n",
    "    width=1000        \n",
    ")\n",
    "fig.show()"
   ]
  },
  {
   "cell_type": "code",
   "execution_count": null,
   "id": "64407e8c",
   "metadata": {},
   "outputs": [],
   "source": [
    "fig = px.bar(\n",
    "    data_frame= data_realt.groupby(['heating'], as_index=False)['target_clear'].median().sort_values(by=['target_clear'], ascending=False),\n",
    "    x='heating',\n",
    "    y='target_clear',\n",
    "    color='heating',\n",
    "    text='target_clear', \n",
    "    orientation='v',\n",
    "    title='Median value of the target_clear from the heating',\n",
    "    height=500, \n",
    "    width=1000   \n",
    ")\n",
    "\n",
    "fig.show()"
   ]
  },
  {
   "cell_type": "markdown",
   "id": "19c54d6d",
   "metadata": {},
   "source": [
    "Самая дорогая недвижимость с отоплением central air, самая дешевая - electric"
   ]
  },
  {
   "cell_type": "markdown",
   "id": "565d3c8b",
   "metadata": {},
   "source": [
    "Связь целевой переменной **target_clear** и **cooling**"
   ]
  },
  {
   "cell_type": "code",
   "execution_count": null,
   "id": "51548d29",
   "metadata": {},
   "outputs": [],
   "source": [
    "fig = px.histogram(\n",
    "    data_frame=data_realt,\n",
    "    x='cooling',    \n",
    "    title='Distribution of the cooling',\n",
    "    text_auto=True,    \n",
    "    height=500,    \n",
    "    width=1000        \n",
    ")\n",
    "fig.show()"
   ]
  },
  {
   "cell_type": "code",
   "execution_count": null,
   "id": "9e4d7bcc",
   "metadata": {},
   "outputs": [],
   "source": [
    "fig = px.bar(\n",
    "    data_frame= data_realt.groupby(['cooling'], as_index=False)['target_clear'].median().sort_values(by=['target_clear'], ascending=False),\n",
    "    x='cooling',\n",
    "    y='target_clear',\n",
    "    color='cooling',\n",
    "    text='target_clear', \n",
    "    orientation='v',\n",
    "    title='Median value of the target_clear from the cooling',\n",
    "    height=500, \n",
    "    width=1000   \n",
    ")\n",
    "\n",
    "fig.show()"
   ]
  },
  {
   "cell_type": "markdown",
   "id": "617a95c0",
   "metadata": {},
   "source": [
    "Очевидные выводы следуют из диаграмм аналогично предыдущему случаю с признаком heating"
   ]
  },
  {
   "cell_type": "markdown",
   "id": "e1936839",
   "metadata": {},
   "source": [
    "Связь целевой переменной **target_clear** и **parking**"
   ]
  },
  {
   "cell_type": "code",
   "execution_count": null,
   "id": "13dae096",
   "metadata": {},
   "outputs": [],
   "source": [
    "fig = px.histogram(\n",
    "    data_frame=data_realt,\n",
    "    x='parking',    \n",
    "    title='Distribution of the parking',\n",
    "    text_auto=True,    \n",
    "    height=500,    \n",
    "    width=1000        \n",
    ")\n",
    "fig.show()"
   ]
  },
  {
   "cell_type": "code",
   "execution_count": null,
   "id": "a90f6856",
   "metadata": {},
   "outputs": [],
   "source": [
    "fig = px.bar(\n",
    "    data_frame= data_realt.groupby(['parking'], as_index=False)['target_clear'].median().sort_values(by=['target_clear'], ascending=False),\n",
    "    x='parking',\n",
    "    y='target_clear',\n",
    "    color='parking',\n",
    "    text='target_clear', \n",
    "    orientation='v',\n",
    "    title='Median value of the target_clear from the parking',\n",
    "    height=500, \n",
    "    width=1000   \n",
    ")\n",
    "\n",
    "fig.show()"
   ]
  },
  {
   "cell_type": "markdown",
   "id": "491b0702",
   "metadata": {},
   "source": [
    "Более 2/3 недвижимости в признаке parking представлены attached(пристроенный гараж) с медианной стоимостью 324966"
   ]
  },
  {
   "cell_type": "code",
   "execution_count": 126,
   "id": "c3ce171a",
   "metadata": {},
   "outputs": [
    {
     "name": "stdout",
     "output_type": "stream",
     "text": [
      "<class 'pandas.core.frame.DataFrame'>\n",
      "RangeIndex: 348752 entries, 0 to 348751\n",
      "Data columns (total 24 columns):\n",
      " #   Column         Non-Null Count   Dtype  \n",
      "---  ------         --------------   -----  \n",
      " 0   status         348752 non-null  object \n",
      " 1   propertyType   348752 non-null  object \n",
      " 2   baths          348752 non-null  float64\n",
      " 3   city           348752 non-null  object \n",
      " 4   zipcode        348752 non-null  int64  \n",
      " 5   state          348752 non-null  object \n",
      " 6   target_clear   348752 non-null  float64\n",
      " 7   street         348752 non-null  object \n",
      " 8   county         348752 non-null  object \n",
      " 9   latitude       348752 non-null  float64\n",
      " 10  longitude      348752 non-null  float64\n",
      " 11  sqft           348752 non-null  float64\n",
      " 12  stories        348752 non-null  float64\n",
      " 13  beds           348752 non-null  float64\n",
      " 14  heating        348752 non-null  object \n",
      " 15  cooling        348752 non-null  object \n",
      " 16  parking        348752 non-null  object \n",
      " 17  lotsize        348752 non-null  float64\n",
      " 18  price_sqft     348752 non-null  float64\n",
      " 19  age            348752 non-null  float64\n",
      " 20  age_remodeled  348752 non-null  float64\n",
      " 21  rating_mean    348752 non-null  float64\n",
      " 22  distance_mean  348752 non-null  float64\n",
      " 23  schools_count  348752 non-null  float64\n",
      "dtypes: float64(14), int64(1), object(9)\n",
      "memory usage: 63.9+ MB\n"
     ]
    }
   ],
   "source": [
    "data_realt.info()"
   ]
  },
  {
   "cell_type": "markdown",
   "id": "6ea71a6e",
   "metadata": {},
   "source": [
    "Связь целевой переменной **target_clear** и **rating_mean/schools_count/distance_mean**"
   ]
  },
  {
   "cell_type": "code",
   "execution_count": null,
   "id": "4f22991b",
   "metadata": {},
   "outputs": [],
   "source": [
    "fig = px.histogram(\n",
    "    data_frame=data_realt,\n",
    "    x='rating_mean',    \n",
    "    title='Distribution of the rating_mean',\n",
    "    text_auto=True,    \n",
    "    height=500,    \n",
    "    width=1000,\n",
    "    nbins=40      \n",
    ")\n",
    "fig.show()"
   ]
  },
  {
   "cell_type": "code",
   "execution_count": null,
   "id": "7892e4ec",
   "metadata": {},
   "outputs": [],
   "source": [
    "fig = px.histogram(\n",
    "    data_frame=data_realt,\n",
    "    x='schools_count',    \n",
    "    title='Distribution of the schools_count',\n",
    "    text_auto=True,    \n",
    "    height=500,    \n",
    "    width=1000,\n",
    "    nbins=40        \n",
    ")\n",
    "fig.show()"
   ]
  },
  {
   "cell_type": "code",
   "execution_count": null,
   "id": "6db27f67",
   "metadata": {},
   "outputs": [],
   "source": [
    "fig = px.scatter(\n",
    "    data_frame=data_realt.groupby(['rating_mean'], as_index=False)['target_clear'].median().sort_values(by=['target_clear'], ascending=False),\n",
    "    x='rating_mean',   \n",
    "    y='target_clear',\n",
    "    color='rating_mean',\n",
    "    title='Scatterplot between rating_mean and target_clear(median)',       \n",
    "    height=500,    \n",
    "    width=1000,\n",
    "    size='target_clear'       \n",
    ")\n",
    "fig.show()"
   ]
  },
  {
   "cell_type": "code",
   "execution_count": null,
   "id": "8b033edc",
   "metadata": {},
   "outputs": [],
   "source": [
    "fig = px.scatter(\n",
    "    data_frame=data_realt.groupby(['schools_count'], as_index=False)['target_clear'].median().sort_values(by=['target_clear'], ascending=False),\n",
    "    x='schools_count',   \n",
    "    y='target_clear',\n",
    "    color='schools_count',\n",
    "    title='Scatterplot between schools_count and target_clear(median)',       \n",
    "    height=500,    \n",
    "    width=1000,\n",
    "    size='target_clear'       \n",
    ")\n",
    "fig.show()"
   ]
  },
  {
   "cell_type": "code",
   "execution_count": 131,
   "id": "30190611",
   "metadata": {},
   "outputs": [
    {
     "data": {
      "text/plain": [
       "count    348752.000000\n",
       "mean          5.161618\n",
       "std           1.934145\n",
       "min           0.000000\n",
       "25%           3.670000\n",
       "50%           5.160000\n",
       "75%           6.500000\n",
       "max          10.000000\n",
       "Name: rating_mean, dtype: float64"
      ]
     },
     "execution_count": 131,
     "metadata": {},
     "output_type": "execute_result"
    }
   ],
   "source": [
    "data_realt['rating_mean'].describe()"
   ]
  },
  {
   "cell_type": "code",
   "execution_count": 132,
   "id": "79448ec5",
   "metadata": {},
   "outputs": [
    {
     "data": {
      "text/plain": [
       "count    348752.000000\n",
       "mean          2.787196\n",
       "std           5.960129\n",
       "min           0.020000\n",
       "25%           1.040000\n",
       "50%           1.750000\n",
       "75%           3.110000\n",
       "max        1590.830000\n",
       "Name: distance_mean, dtype: float64"
      ]
     },
     "execution_count": 132,
     "metadata": {},
     "output_type": "execute_result"
    }
   ],
   "source": [
    "data_realt['distance_mean'].describe()\n"
   ]
  },
  {
   "cell_type": "code",
   "execution_count": 133,
   "id": "dbafe84c",
   "metadata": {},
   "outputs": [
    {
     "data": {
      "text/plain": [
       "count    348752.000000\n",
       "mean          4.186927\n",
       "std           4.349835\n",
       "min           1.000000\n",
       "25%           3.000000\n",
       "50%           3.000000\n",
       "75%           4.000000\n",
       "max          65.000000\n",
       "Name: schools_count, dtype: float64"
      ]
     },
     "execution_count": 133,
     "metadata": {},
     "output_type": "execute_result"
    }
   ],
   "source": [
    "data_realt['schools_count'].describe()"
   ]
  },
  {
   "cell_type": "markdown",
   "id": "71d118be",
   "metadata": {},
   "source": [
    "Средний рейтинг школ - 5.16, медианное количество школ около объекта недвижимости - 3, расстояние до которых 1.75 мили. От рейтинга школы зависимость целевой переменной прослеживается. Количество школ в общем не влияет на цену недвижимости, но имеются отдельные выбросы, отклоняющиеся от общего тренда."
   ]
  },
  {
   "cell_type": "markdown",
   "id": "f44bd0ca",
   "metadata": {},
   "source": [
    "Связь целевой переменной **target_clear** и возраста недвижимости **age**"
   ]
  },
  {
   "cell_type": "code",
   "execution_count": null,
   "id": "a63c52c5",
   "metadata": {},
   "outputs": [],
   "source": [
    "fig = px.histogram(\n",
    "    data_frame=data_realt,\n",
    "    x='age',    \n",
    "    title='Distribution of the age',\n",
    "    text_auto=True,    \n",
    "    height=500,    \n",
    "    width=1000,\n",
    "    nbins=50,\n",
    "    marginal='box'     \n",
    ")\n",
    "fig.show()"
   ]
  },
  {
   "cell_type": "code",
   "execution_count": null,
   "id": "9ecd7903",
   "metadata": {},
   "outputs": [],
   "source": [
    "fig = px.scatter(\n",
    "    data_frame=data_realt.groupby(['age'], as_index=False)['target_clear'].median(),\n",
    "    x='age',   \n",
    "    y='target_clear',\n",
    "    color='age',\n",
    "    title='Scatterplot between age and target_clear(median)',       \n",
    "    height=500,    \n",
    "    width=1000,\n",
    "    #size='target_clear'       \n",
    ")\n",
    "fig.show()"
   ]
  },
  {
   "cell_type": "code",
   "execution_count": 136,
   "id": "fa2db1a3",
   "metadata": {},
   "outputs": [
    {
     "data": {
      "text/plain": [
       "count    348752.000000\n",
       "mean         44.390524\n",
       "std          30.739684\n",
       "min           3.000000\n",
       "25%          20.000000\n",
       "50%          40.000000\n",
       "75%          63.000000\n",
       "max         325.000000\n",
       "Name: age, dtype: float64"
      ]
     },
     "execution_count": 136,
     "metadata": {},
     "output_type": "execute_result"
    }
   ],
   "source": [
    "data_realt['age'].describe()"
   ]
  },
  {
   "cell_type": "markdown",
   "id": "3014d2c8",
   "metadata": {},
   "source": [
    "По возрасту недвижимости преобладают объекты 40-49 лет(средний возраст - 44 года). В среднем с увеличением возраста недвижимости прослеживается тенденция к уменьшению её стоимости. Что касается объектов старше 110 лет, то их можно разделить на два класса - те которые имеют цену ниже рыночной - возможно это объекты требующие вложений/реставрации/расположенных в непристижных районах и второй класс - те, которые стоят существенно дороже - какие-то экслюзивные варианты, также имеющие большую площадь/либо большой земельный участок/лучшую локацию."
   ]
  },
  {
   "cell_type": "code",
   "execution_count": 137,
   "id": "6bdca4f9",
   "metadata": {},
   "outputs": [
    {
     "name": "stdout",
     "output_type": "stream",
     "text": [
      "<class 'pandas.core.frame.DataFrame'>\n",
      "RangeIndex: 348752 entries, 0 to 348751\n",
      "Data columns (total 24 columns):\n",
      " #   Column         Non-Null Count   Dtype  \n",
      "---  ------         --------------   -----  \n",
      " 0   status         348752 non-null  object \n",
      " 1   propertyType   348752 non-null  object \n",
      " 2   baths          348752 non-null  float64\n",
      " 3   city           348752 non-null  object \n",
      " 4   zipcode        348752 non-null  int64  \n",
      " 5   state          348752 non-null  object \n",
      " 6   target_clear   348752 non-null  float64\n",
      " 7   street         348752 non-null  object \n",
      " 8   county         348752 non-null  object \n",
      " 9   latitude       348752 non-null  float64\n",
      " 10  longitude      348752 non-null  float64\n",
      " 11  sqft           348752 non-null  float64\n",
      " 12  stories        348752 non-null  float64\n",
      " 13  beds           348752 non-null  float64\n",
      " 14  heating        348752 non-null  object \n",
      " 15  cooling        348752 non-null  object \n",
      " 16  parking        348752 non-null  object \n",
      " 17  lotsize        348752 non-null  float64\n",
      " 18  price_sqft     348752 non-null  float64\n",
      " 19  age            348752 non-null  float64\n",
      " 20  age_remodeled  348752 non-null  float64\n",
      " 21  rating_mean    348752 non-null  float64\n",
      " 22  distance_mean  348752 non-null  float64\n",
      " 23  schools_count  348752 non-null  float64\n",
      "dtypes: float64(14), int64(1), object(9)\n",
      "memory usage: 63.9+ MB\n"
     ]
    }
   ],
   "source": [
    "data_realt.info()"
   ]
  },
  {
   "cell_type": "markdown",
   "id": "c343ee36",
   "metadata": {},
   "source": [
    "В нашем датасете сформировано 24 признака, 9 из которых имеют тип object, закодируем их, далее полученные признаки будем приводить к одному виду - нормировать/стандартизировать. Для начала построим матрицу корреляции для обнаружения линейной связи между целевым признаком и предикторами, а также признаки, которые сильно коррелируют между собой:"
   ]
  },
  {
   "cell_type": "code",
   "execution_count": 138,
   "id": "625a87aa",
   "metadata": {},
   "outputs": [
    {
     "data": {
      "text/plain": [
       "<AxesSubplot:>"
      ]
     },
     "execution_count": 138,
     "metadata": {},
     "output_type": "execute_result"
    },
    {
     "data": {
      "image/jpeg": "[encoded data removed]",
      "text/plain": [
       "<Figure size 1728x720 with 2 Axes>"
      ]
     },
     "metadata": {
      "needs_background": "light"
     },
     "output_type": "display_data"
    }
   ],
   "source": [
    "# строим матрицу корреляции\n",
    "fig, axes = plt.subplots(figsize=(24, 10))\n",
    "sns.heatmap(round(data_realt.corr(method='spearman'), 2), annot=True)"
   ]
  },
  {
   "cell_type": "markdown",
   "id": "07c31b6a",
   "metadata": {},
   "source": [
    "Отметим корреляцию целевого признака с:\n",
    "price_sqft - 0.66\n",
    "sqft - 0.48\n",
    "baths - 0.39\n",
    "rating_mean - 0.33\n",
    "beds - 0.24\n",
    "Заметны сильноскореллированные признаки, такие как, age/age_remodeled(0.83), zip_code/longitude(-0.93) - часть из них придётся убрать. Удалим признак price_sqft - через который происходит утечка информации о целевом признаке.\n",
    "В данных имеются несколько признаков ниже, которые сообщают нам одну и ту же информацию, а именно о локации объекта недвижимости - данный фактор существенен для определения стоимости недвижимости:\n",
    "city,\n",
    "state,\n",
    "zipcode,\n",
    "county,\n",
    "latitude,\n",
    "longitude,\n",
    "street.\n",
    "Все признаки типа object, кроме zipcode, latitude, longitude - оставим эти три признака, опеределяющих местоположение, остальные удалим.\n",
    "Подготовим данные: удалим часть предикторов, необходимые закодируем, далее выборку разделим на тренировочную и тестовую в соотношении 70/30, далее нормализуем данные."
   ]
  },
  {
   "cell_type": "code",
   "execution_count": 139,
   "id": "cc0c43e9",
   "metadata": {},
   "outputs": [],
   "source": [
    "X = data_realt.drop(['city', 'street', 'state', 'county', 'age_remodeled', 'price_sqft', 'target_clear'], axis=1)\n",
    "y = data_realt['target_clear']\n",
    "object_columns = [s for s in X.columns if X[s].dtypes == 'object']\n",
    "X = pd.get_dummies(X, columns=object_columns, drop_first=True)\n",
    "\n",
    "X_train, X_test, y_train, y_test = model_selection.train_test_split(\n",
    "    X, y, \n",
    "    test_size=0.30, \n",
    "    random_state=42,\n",
    "    shuffle=True\n",
    ")\n",
    "\n",
    "# инициализируем нормализатор RobustScaler\n",
    "r_scaler = preprocessing.RobustScaler()\n",
    "\n",
    "# кодируем исходный датасет\n",
    "X_train_scal = r_scaler.fit_transform(X_train)\n",
    "\n",
    "# Преобразуем промежуточный датасет в полноценный датафрейм для визуализации\n",
    "X_train_scal = pd.DataFrame(X_train_scal, columns=X_train.columns)\n",
    "X_test_scal = pd.DataFrame(r_scaler.transform(X_test), columns=X_test.columns)"
   ]
  },
  {
   "cell_type": "code",
   "execution_count": 140,
   "id": "ca7b9558",
   "metadata": {},
   "outputs": [
    {
     "data": {
      "text/plain": [
       "(244126, 55)"
      ]
     },
     "execution_count": 140,
     "metadata": {},
     "output_type": "execute_result"
    }
   ],
   "source": [
    "X_train_scal.shape"
   ]
  },
  {
   "cell_type": "markdown",
   "id": "2ece5768",
   "metadata": {},
   "source": [
    "## 3. МОДЕЛИРОВАНИЕ\n"
   ]
  },
  {
   "cell_type": "markdown",
   "id": "ed0752a1",
   "metadata": {},
   "source": [
    "**Линейная регрессия**"
   ]
  },
  {
   "cell_type": "markdown",
   "id": "11c9f540",
   "metadata": {},
   "source": [
    "Для начала сформируем базовую модели, которую будем улучшать. Базовая модель будет строиться на всех признаках(55), далее производим предсказание на тренировочных и тестовых данных и проверяем метрики.Будем использовать три метрики - MAE(используем для понимания в абсолютных величинах на сколько в среднем ошибается модель, данную величину легко сравнить с медианной стоимостью недвижимости), MSE и R2 для сравнения моделей между собой."
   ]
  },
  {
   "cell_type": "code",
   "execution_count": 141,
   "id": "ea934030",
   "metadata": {},
   "outputs": [],
   "source": [
    "def metrics_func(y_train, y_train_pred, y_test, y_test_predict):\n",
    "    \"\"\" Возвращает метрики MAE, MSE, R2 для тренировочной и тестовой выборок\n",
    "\n",
    "        y_train: истинные значения целевой переменной для тренировочной выборки\n",
    "        y_train_pred: предсказанные значения для тренировочной выборки\n",
    "        y_test: истинные значения целевой переменной для тестовой выборки\n",
    "        y_test_predict: предсказанные значения для тестовой выборки\n",
    "    \"\"\"\n",
    "    \n",
    "    print(f'MAE:')\n",
    "    print(f'For TRAIN = {round(metrics.mean_absolute_error(y_train, y_train_pred), 2)}')\n",
    "    print(f'For TEST = {round(metrics.mean_absolute_error(y_test, y_test_predict), 2)}')\n",
    "    print()\n",
    "    print(f'MSE:')\n",
    "    print(f'For TRAIN = {round(metrics.mean_squared_error(y_train, y_train_pred))}')\n",
    "    print(f'For TEST = {round(metrics.mean_squared_error(y_test, y_test_predict))}')\n",
    "    print()\n",
    "    print(f'R2:')\n",
    "    print(f'For TRAIN = {round(metrics.r2_score(y_train, y_train_pred), 2)}')\n",
    "    print(f'For TEST = {round(metrics.r2_score(y_test, y_test_predict), 2)}')"
   ]
  },
  {
   "cell_type": "code",
   "execution_count": 142,
   "id": "8b726107",
   "metadata": {},
   "outputs": [
    {
     "name": "stdout",
     "output_type": "stream",
     "text": [
      "MAE:\n",
      "For TRAIN = 258361.9\n",
      "For TEST = 256237.8\n",
      "\n",
      "MSE:\n",
      "For TRAIN = 160214501952\n",
      "For TEST = 156228215998\n",
      "\n",
      "R2:\n",
      "For TRAIN = 0.3\n",
      "For TEST = 0.3\n"
     ]
    }
   ],
   "source": [
    "model_base = LinearRegression()\n",
    "model_base.fit(X_train_scal, y_train)\n",
    "y_train_predict = model_base.predict(X_train_scal)\n",
    "y_test_predict = model_base.predict(X_test_scal)\n",
    "metrics_func(y_train, y_train_predict, y_test, y_test_predict)"
   ]
  },
  {
   "cell_type": "markdown",
   "id": "e873079f",
   "metadata": {},
   "source": [
    "Базовая модель показала не лучшие метрики - абсолютная ошибка в размере более $256000 величина сильно большая. Коэффицент детерминации неудовлетворительный, меньше 0.5. Поробуем обучить модель на 25 отобранных лучших признаках - для этого используем SelectKBest:"
   ]
  },
  {
   "cell_type": "code",
   "execution_count": 143,
   "id": "33411834",
   "metadata": {},
   "outputs": [
    {
     "data": {
      "text/plain": [
       "array(['baths', 'latitude', 'longitude', 'stories', 'beds', 'rating_mean',\n",
       "       'schools_count', 'status_foreclosure', 'status_new construction',\n",
       "       'status_other', 'status_pending', 'propertyType_land',\n",
       "       'propertyType_multi family', 'propertyType_townhouse',\n",
       "       'heating_electric', 'heating_forced air',\n",
       "       'cooling_central electric', 'cooling_central heating', 'parking_1',\n",
       "       'parking_3', 'parking_4', 'parking_5', 'parking_6',\n",
       "       'parking_carport', 'parking_other'], dtype=object)"
      ]
     },
     "execution_count": 143,
     "metadata": {},
     "output_type": "execute_result"
    }
   ],
   "source": [
    "selector = feature_selection.SelectKBest(feature_selection.f_regression, k=25)\n",
    "selector.fit(X_train_scal, y_train)\n",
    "best_features = selector.get_feature_names_out()\n",
    "best_features"
   ]
  },
  {
   "cell_type": "markdown",
   "id": "21f6b512",
   "metadata": {},
   "source": [
    "Интересно отметить, что в список топ-25 не вошли такие признаки, как sqft(площадь дома), который указывает на общий размер недвижимости и zipcode(индекс), который указывает на локацию недвижимости, а она влияет непостедственно на его цену. Без данных признаков модель скорее всего будет несостоятельна.\n",
    "Также стоит предположить, что данная проблема возникла из-за того, что в алгоритме SelectBest используется корреляция Пирсона, что в данной задаче недопустима из-за того, что целевой признак нераспеределён нормально и необходимо исследовать линейные связи между предикторами и целевой переменной опираясь на корреляцию Спирмена.\n",
    "\n",
    "По корреляции Спирмена между sqft и target_clear составляет 0.48(можно увидеть на графике корреляции выше), но как будет продемонстрировано ниже, если использовать корреляцию Пирсона, то значение будет близким к нулю -0.00039, поэтому он не отобран в ТОП-25. Что касаемо признака zipcode, то и корреляция Спирмена тоже близка к нулю -0.0082 - здесь дело в том, что данный предиктор хоть и представлен в числовом виде является категориальной переменной и необходимо её использовать именно в виде списка категорий индексов предварительно произведя их разбивку. Пока будем выполнять построение моделей согласно отобранным признакам."
   ]
  },
  {
   "cell_type": "code",
   "execution_count": 144,
   "id": "4cade286",
   "metadata": {},
   "outputs": [
    {
     "data": {
      "text/plain": [
       "array([[ 1.000000e+00, -3.865881e-04],\n",
       "       [-3.865881e-04,  1.000000e+00]])"
      ]
     },
     "execution_count": 144,
     "metadata": {},
     "output_type": "execute_result"
    }
   ],
   "source": [
    "# корреляция Пирсона между sqft/target_clear\n",
    "np.corrcoef(X_train_scal['sqft'], y_train)\n"
   ]
  },
  {
   "cell_type": "code",
   "execution_count": 145,
   "id": "e3378580",
   "metadata": {},
   "outputs": [
    {
     "data": {
      "text/plain": [
       "array([[ 1.        , -0.00816336],\n",
       "       [-0.00816336,  1.        ]])"
      ]
     },
     "execution_count": 145,
     "metadata": {},
     "output_type": "execute_result"
    }
   ],
   "source": [
    "# корреляция Пирсона между zipcode/target_clear\n",
    "np.corrcoef(X_train_scal['zipcode'], y_train)"
   ]
  },
  {
   "cell_type": "code",
   "execution_count": 146,
   "id": "a327097a",
   "metadata": {},
   "outputs": [
    {
     "name": "stdout",
     "output_type": "stream",
     "text": [
      "MAE:\n",
      "For TRAIN = 269573.17\n",
      "For TEST = 266976.98\n",
      "\n",
      "MSE:\n",
      "For TRAIN = 172948942378\n",
      "For TEST = 168415994699\n",
      "\n",
      "R2:\n",
      "For TRAIN = 0.24\n",
      "For TEST = 0.24\n"
     ]
    }
   ],
   "source": [
    "# построим линейную регрессию на 25 признаках\n",
    "model_1 = LinearRegression()\n",
    "model_1.fit(X_train_scal[best_features], y_train)\n",
    "y_train_predict = model_1.predict(X_train_scal[best_features])\n",
    "y_test_predict = model_1.predict(X_test_scal[best_features])\n",
    "metrics_func(y_train, y_train_predict, y_test, y_test_predict)"
   ]
  },
  {
   "cell_type": "markdown",
   "id": "5cedfc60",
   "metadata": {},
   "source": [
    "По всем метрикам модель оказалось хуже базовой. \n",
    "Попробуем отобрать линейную модель с лучшими признаками, используя метод пошаговой регрессии. Понадобится пакет dmba с импортированными функциями stepwise_selection и метрикой AIC_score. AIC(информационный критерий Акаике) - данная метрика штрафует добавление членов в модель. В нашем случае будем производить поиск оптимальной модели ориентируясь на самый низкий AIC, для этого начнём с построенной модели на константе, вычисляем метрику, далее добавляем один признак, снова расчитываем метрику, далее добавляется следующий и т.д. т.е выполняя таким образом пошаговую регрессию."
   ]
  },
  {
   "cell_type": "code",
   "execution_count": 147,
   "id": "3752b66c",
   "metadata": {},
   "outputs": [
    {
     "name": "stdout",
     "output_type": "stream",
     "text": [
      "Пересечение: 398891.487\n",
      "Коэффициенты:\n",
      "baths:191614.6222173001\n",
      "rating_mean:140939.627604715\n",
      "latitude:16882.624441169606\n",
      "age:54270.89565929017\n",
      "propertyType_single family:-113381.2554441941\n",
      "propertyType_townhouse:-175966.56370344857\n",
      "propertyType_land:-165861.69522221934\n",
      "stories:15971.565917068754\n",
      "status_for sale:-126675.80860605414\n",
      "status_foreclosure:-237327.78323373696\n",
      "heating_forced air:72258.333066426\n",
      "status_other:-140685.68962683115\n",
      "heating_central:91813.27227719146\n",
      "cooling_cooling:54395.66225943761\n",
      "longitude:-278931.59408080817\n",
      "zipcode:-369957.69449243095\n",
      "cooling_central gas:158613.16048931045\n",
      "propertyType_multi family:69181.09148695803\n",
      "heating_other:62038.09790024336\n",
      "schools_count:-2720.240532976808\n",
      "parking_4:-399679.7425151798\n",
      "propertyType_other:-64620.278878519195\n",
      "propertyType_traditional:-134265.0635186421\n",
      "status_pending:-100514.04446306202\n",
      "cooling_refrigeration:-209633.14624297968\n",
      "parking_carport:-558210.1541343716\n",
      "cooling_central air:-75845.5692080477\n",
      "cooling_other:-62544.790408541216\n",
      "status_new construction:-74810.80774766122\n",
      "cooling_cooling system:-89641.4018424077\n",
      "parking_5:-356087.5371126198\n",
      "heating_heat pump:-20035.984969878802\n",
      "cooling_central electric:-66219.80993564882\n",
      "cooling_central heating:-91244.77830335857\n",
      "parking_6:-383165.7171127775\n",
      "distance_mean:-2231.7289772524673\n",
      "beds:6121.899638490999\n",
      "parking_other:-463859.7527977789\n",
      "heating_wall:97917.86096311285\n",
      "cooling_wall:-49981.023640075146\n",
      "parking_detached:-531577.1316408317\n",
      "parking_electric:-594476.2851099188\n",
      "parking_assigned:-593205.1892548208\n",
      "parking_3:-478373.5126823018\n",
      "parking_parking:-458991.70297904673\n",
      "parking_off:-526156.8682144092\n",
      "parking_attached:-511401.2460050814\n",
      "parking_2:-515343.25652749283\n",
      "parking_1:-509207.7073013797\n",
      "parking_on:-500071.66063070734\n",
      "heating_gas:39988.69561571446\n",
      "heating_electric:39092.78817855319\n",
      "heating_central air:51522.86539600292\n"
     ]
    }
   ],
   "source": [
    "def train_model(variables):\n",
    "    \"\"\" Возращает подогнанную модель model для заданного множества переменных variables\n",
    "\n",
    "    \"\"\"\n",
    "    if len(variables) == 0:\n",
    "        return None\n",
    "    model = LinearRegression()\n",
    "    model.fit(X_train_scal[variables], y_train)\n",
    "    return model\n",
    "\n",
    "def score_model(model, variables):\n",
    "    \"\"\" Возвращает метрику AIC для данной модели model и множества переменных variables\n",
    "\n",
    "    \"\"\"\n",
    "    if len(variables) == 0:\n",
    "        return AIC_score(y_train, [y_train.mean()] * len(y_train), model, df=1)\n",
    "    return AIC_score(y_train, model.predict(X_train_scal[variables]), model)\n",
    "\n",
    "best_model, best_variables = stepwise_selection(X_train_scal.columns, train_model, score_model, verbose=False)\n",
    "\n",
    "print(f'Пересечение: {best_model.intercept_:.3f}')\n",
    "print('Коэффициенты:')\n",
    "for name, coef in zip(best_variables, best_model.coef_):\n",
    "    print(f'{name}:{coef}')"
   ]
  },
  {
   "cell_type": "code",
   "execution_count": 148,
   "id": "018dbfbf",
   "metadata": {},
   "outputs": [
    {
     "name": "stdout",
     "output_type": "stream",
     "text": [
      "53\n"
     ]
    }
   ],
   "source": [
    "print(len(best_variables))"
   ]
  },
  {
   "cell_type": "code",
   "execution_count": 149,
   "id": "6a44c564",
   "metadata": {},
   "outputs": [
    {
     "name": "stdout",
     "output_type": "stream",
     "text": [
      "MAE:\n",
      "For TRAIN = 258361.64\n",
      "For TEST = 256238.02\n",
      "\n",
      "MSE:\n",
      "For TRAIN = 160215274549\n",
      "For TEST = 156227318078\n",
      "\n",
      "R2:\n",
      "For TRAIN = 0.3\n",
      "For TEST = 0.3\n"
     ]
    }
   ],
   "source": [
    "# строим модель на лучших признаках подогнанных с помощью пошаговой регрессии\n",
    "model_2 = LinearRegression()\n",
    "model_2.fit(X_train_scal[best_variables], y_train)\n",
    "y_train_predict = model_2.predict(X_train_scal[best_variables])\n",
    "y_test_predict = model_2.predict(X_test_scal[best_variables])\n",
    "metrics_func(y_train, y_train_predict, y_test, y_test_predict)"
   ]
  },
  {
   "cell_type": "markdown",
   "id": "f281f412",
   "metadata": {},
   "source": [
    "Метрики совпали с базовой моделью, построенной на всех признаках. Можно сделать вывод об отсуствии явной линейной связи между предикторами и целевым признаком, попробуем усложнить модель добавив полиноминальные признаки."
   ]
  },
  {
   "cell_type": "markdown",
   "id": "140422ba",
   "metadata": {},
   "source": [
    "**Полиномиальная регрессия**"
   ]
  },
  {
   "cell_type": "code",
   "execution_count": 150,
   "id": "6f228b47",
   "metadata": {},
   "outputs": [
    {
     "name": "stdout",
     "output_type": "stream",
     "text": [
      "MAE:\n",
      "For TRAIN = 249417.95\n",
      "For TEST = 247996.21\n",
      "\n",
      "MSE:\n",
      "For TRAIN = 151829797220\n",
      "For TEST = 148807748504\n",
      "\n",
      "R2:\n",
      "For TRAIN = 0.33\n",
      "For TEST = 0.33\n"
     ]
    }
   ],
   "source": [
    "poly = preprocessing.PolynomialFeatures(degree=2, include_bias=True)\n",
    "\n",
    "poly.fit(X_train_scal[best_features])\n",
    "X_train_poly = poly.transform(X_train_scal[best_features])\n",
    "X_test_poly = poly.transform(X_test_scal[best_features])\n",
    "\n",
    "model_lin_poly = linear_model.LinearRegression()\n",
    "model_lin_poly.fit(X_train_poly, y_train)\n",
    "y_train_pred = model_lin_poly.predict(X_train_poly)\n",
    "y_test_pred = model_lin_poly.predict(X_test_poly)\n",
    "\n",
    "metrics_func(y_train, y_train_pred, y_test, y_test_pred)\n"
   ]
  },
  {
   "cell_type": "markdown",
   "id": "3888d9f3",
   "metadata": {},
   "source": [
    "При построении модели на полиноминальных признаках второй степени метрики улучшились R2 возросло до 0.33/0.33, но MAE по прежнему высоко - $249417, также на лицо улучшение метрик при уходе от линейной закономерности - связь более сложная."
   ]
  },
  {
   "cell_type": "markdown",
   "id": "28bf4c16",
   "metadata": {},
   "source": [
    " **Модель деревья решений**"
   ]
  },
  {
   "cell_type": "code",
   "execution_count": 151,
   "id": "32d43146",
   "metadata": {},
   "outputs": [
    {
     "name": "stdout",
     "output_type": "stream",
     "text": [
      "MAE:\n",
      "For TRAIN = 60892.33\n",
      "For TEST = 172367.61\n",
      "\n",
      "MSE:\n",
      "For TRAIN = 29138073229\n",
      "For TEST = 112099291680\n",
      "\n",
      "R2:\n",
      "For TRAIN = 0.87\n",
      "For TEST = 0.5\n"
     ]
    }
   ],
   "source": [
    "tree_model = tree.DecisionTreeRegressor(random_state=42)\n",
    "tree_model.fit(X_train_scal[best_features], y_train)\n",
    "\n",
    "y_train_pred = tree_model.predict(X_train_scal[best_features])\n",
    "y_test_pred = tree_model.predict(X_test_scal[best_features])\n",
    "\n",
    "metrics_func(y_train, y_train_pred, y_test, y_test_pred)"
   ]
  },
  {
   "cell_type": "markdown",
   "id": "e7c6b5f3",
   "metadata": {},
   "source": [
    "Построенная модель явно переобучена, поэтому подберём оптимальные параметры глубины дерева."
   ]
  },
  {
   "cell_type": "code",
   "execution_count": 152,
   "id": "19abcb09",
   "metadata": {},
   "outputs": [
    {
     "data": {
      "application/vnd.plotly.v1+json": {
       "config": {
        "plotlyServerURL": "https://plot.ly"
       },
       "data": [
        {
         "name": "Train",
         "type": "scatter",
         "x": [
          7,
          8,
          9,
          10,
          11,
          12,
          13,
          14,
          15,
          16,
          17,
          18,
          19
         ],
         "y": [
          0.53,
          0.58,
          0.61,
          0.64,
          0.68,
          0.71,
          0.75,
          0.78,
          0.81,
          0.84,
          0.86,
          0.88,
          0.9
         ]
        },
        {
         "name": "Test",
         "type": "scatter",
         "x": [
          7,
          8,
          9,
          10,
          11,
          12,
          13,
          14,
          15,
          16,
          17,
          18,
          19
         ],
         "y": [
          0.52,
          0.55,
          0.58,
          0.59,
          0.61,
          0.62,
          0.63,
          0.63,
          0.63,
          0.63,
          0.63,
          0.62,
          0.62
         ]
        }
       ],
       "layout": {
        "height": 600,
        "template": {
         "data": {
          "bar": [
           {
            "error_x": {
             "color": "#2a3f5f"
            },
            "error_y": {
             "color": "#2a3f5f"
            },
            "marker": {
             "line": {
              "color": "#E5ECF6",
              "width": 0.5
             },
             "pattern": {
              "fillmode": "overlay",
              "size": 10,
              "solidity": 0.2
             }
            },
            "type": "bar"
           }
          ],
          "barpolar": [
           {
            "marker": {
             "line": {
              "color": "#E5ECF6",
              "width": 0.5
             },
             "pattern": {
              "fillmode": "overlay",
              "size": 10,
              "solidity": 0.2
             }
            },
            "type": "barpolar"
           }
          ],
          "carpet": [
           {
            "aaxis": {
             "endlinecolor": "#2a3f5f",
             "gridcolor": "white",
             "linecolor": "white",
             "minorgridcolor": "white",
             "startlinecolor": "#2a3f5f"
            },
            "baxis": {
             "endlinecolor": "#2a3f5f",
             "gridcolor": "white",
             "linecolor": "white",
             "minorgridcolor": "white",
             "startlinecolor": "#2a3f5f"
            },
            "type": "carpet"
           }
          ],
          "choropleth": [
           {
            "colorbar": {
             "outlinewidth": 0,
             "ticks": ""
            },
            "type": "choropleth"
           }
          ],
          "contour": [
           {
            "colorbar": {
             "outlinewidth": 0,
             "ticks": ""
            },
            "colorscale": [
             [
              0,
              "#0d0887"
             ],
             [
              0.1111111111111111,
              "#46039f"
             ],
             [
              0.2222222222222222,
              "#7201a8"
             ],
             [
              0.3333333333333333,
              "#9c179e"
             ],
             [
              0.4444444444444444,
              "#bd3786"
             ],
             [
              0.5555555555555556,
              "#d8576b"
             ],
             [
              0.6666666666666666,
              "#ed7953"
             ],
             [
              0.7777777777777778,
              "#fb9f3a"
             ],
             [
              0.8888888888888888,
              "#fdca26"
             ],
             [
              1,
              "#f0f921"
             ]
            ],
            "type": "contour"
           }
          ],
          "contourcarpet": [
           {
            "colorbar": {
             "outlinewidth": 0,
             "ticks": ""
            },
            "type": "contourcarpet"
           }
          ],
          "heatmap": [
           {
            "colorbar": {
             "outlinewidth": 0,
             "ticks": ""
            },
            "colorscale": [
             [
              0,
              "#0d0887"
             ],
             [
              0.1111111111111111,
              "#46039f"
             ],
             [
              0.2222222222222222,
              "#7201a8"
             ],
             [
              0.3333333333333333,
              "#9c179e"
             ],
             [
              0.4444444444444444,
              "#bd3786"
             ],
             [
              0.5555555555555556,
              "#d8576b"
             ],
             [
              0.6666666666666666,
              "#ed7953"
             ],
             [
              0.7777777777777778,
              "#fb9f3a"
             ],
             [
              0.8888888888888888,
              "#fdca26"
             ],
             [
              1,
              "#f0f921"
             ]
            ],
            "type": "heatmap"
           }
          ],
          "heatmapgl": [
           {
            "colorbar": {
             "outlinewidth": 0,
             "ticks": ""
            },
            "colorscale": [
             [
              0,
              "#0d0887"
             ],
             [
              0.1111111111111111,
              "#46039f"
             ],
             [
              0.2222222222222222,
              "#7201a8"
             ],
             [
              0.3333333333333333,
              "#9c179e"
             ],
             [
              0.4444444444444444,
              "#bd3786"
             ],
             [
              0.5555555555555556,
              "#d8576b"
             ],
             [
              0.6666666666666666,
              "#ed7953"
             ],
             [
              0.7777777777777778,
              "#fb9f3a"
             ],
             [
              0.8888888888888888,
              "#fdca26"
             ],
             [
              1,
              "#f0f921"
             ]
            ],
            "type": "heatmapgl"
           }
          ],
          "histogram": [
           {
            "marker": {
             "pattern": {
              "fillmode": "overlay",
              "size": 10,
              "solidity": 0.2
             }
            },
            "type": "histogram"
           }
          ],
          "histogram2d": [
           {
            "colorbar": {
             "outlinewidth": 0,
             "ticks": ""
            },
            "colorscale": [
             [
              0,
              "#0d0887"
             ],
             [
              0.1111111111111111,
              "#46039f"
             ],
             [
              0.2222222222222222,
              "#7201a8"
             ],
             [
              0.3333333333333333,
              "#9c179e"
             ],
             [
              0.4444444444444444,
              "#bd3786"
             ],
             [
              0.5555555555555556,
              "#d8576b"
             ],
             [
              0.6666666666666666,
              "#ed7953"
             ],
             [
              0.7777777777777778,
              "#fb9f3a"
             ],
             [
              0.8888888888888888,
              "#fdca26"
             ],
             [
              1,
              "#f0f921"
             ]
            ],
            "type": "histogram2d"
           }
          ],
          "histogram2dcontour": [
           {
            "colorbar": {
             "outlinewidth": 0,
             "ticks": ""
            },
            "colorscale": [
             [
              0,
              "#0d0887"
             ],
             [
              0.1111111111111111,
              "#46039f"
             ],
             [
              0.2222222222222222,
              "#7201a8"
             ],
             [
              0.3333333333333333,
              "#9c179e"
             ],
             [
              0.4444444444444444,
              "#bd3786"
             ],
             [
              0.5555555555555556,
              "#d8576b"
             ],
             [
              0.6666666666666666,
              "#ed7953"
             ],
             [
              0.7777777777777778,
              "#fb9f3a"
             ],
             [
              0.8888888888888888,
              "#fdca26"
             ],
             [
              1,
              "#f0f921"
             ]
            ],
            "type": "histogram2dcontour"
           }
          ],
          "mesh3d": [
           {
            "colorbar": {
             "outlinewidth": 0,
             "ticks": ""
            },
            "type": "mesh3d"
           }
          ],
          "parcoords": [
           {
            "line": {
             "colorbar": {
              "outlinewidth": 0,
              "ticks": ""
             }
            },
            "type": "parcoords"
           }
          ],
          "pie": [
           {
            "automargin": true,
            "type": "pie"
           }
          ],
          "scatter": [
           {
            "fillpattern": {
             "fillmode": "overlay",
             "size": 10,
             "solidity": 0.2
            },
            "type": "scatter"
           }
          ],
          "scatter3d": [
           {
            "line": {
             "colorbar": {
              "outlinewidth": 0,
              "ticks": ""
             }
            },
            "marker": {
             "colorbar": {
              "outlinewidth": 0,
              "ticks": ""
             }
            },
            "type": "scatter3d"
           }
          ],
          "scattercarpet": [
           {
            "marker": {
             "colorbar": {
              "outlinewidth": 0,
              "ticks": ""
             }
            },
            "type": "scattercarpet"
           }
          ],
          "scattergeo": [
           {
            "marker": {
             "colorbar": {
              "outlinewidth": 0,
              "ticks": ""
             }
            },
            "type": "scattergeo"
           }
          ],
          "scattergl": [
           {
            "marker": {
             "colorbar": {
              "outlinewidth": 0,
              "ticks": ""
             }
            },
            "type": "scattergl"
           }
          ],
          "scattermapbox": [
           {
            "marker": {
             "colorbar": {
              "outlinewidth": 0,
              "ticks": ""
             }
            },
            "type": "scattermapbox"
           }
          ],
          "scatterpolar": [
           {
            "marker": {
             "colorbar": {
              "outlinewidth": 0,
              "ticks": ""
             }
            },
            "type": "scatterpolar"
           }
          ],
          "scatterpolargl": [
           {
            "marker": {
             "colorbar": {
              "outlinewidth": 0,
              "ticks": ""
             }
            },
            "type": "scatterpolargl"
           }
          ],
          "scatterternary": [
           {
            "marker": {
             "colorbar": {
              "outlinewidth": 0,
              "ticks": ""
             }
            },
            "type": "scatterternary"
           }
          ],
          "surface": [
           {
            "colorbar": {
             "outlinewidth": 0,
             "ticks": ""
            },
            "colorscale": [
             [
              0,
              "#0d0887"
             ],
             [
              0.1111111111111111,
              "#46039f"
             ],
             [
              0.2222222222222222,
              "#7201a8"
             ],
             [
              0.3333333333333333,
              "#9c179e"
             ],
             [
              0.4444444444444444,
              "#bd3786"
             ],
             [
              0.5555555555555556,
              "#d8576b"
             ],
             [
              0.6666666666666666,
              "#ed7953"
             ],
             [
              0.7777777777777778,
              "#fb9f3a"
             ],
             [
              0.8888888888888888,
              "#fdca26"
             ],
             [
              1,
              "#f0f921"
             ]
            ],
            "type": "surface"
           }
          ],
          "table": [
           {
            "cells": {
             "fill": {
              "color": "#EBF0F8"
             },
             "line": {
              "color": "white"
             }
            },
            "header": {
             "fill": {
              "color": "#C8D4E3"
             },
             "line": {
              "color": "white"
             }
            },
            "type": "table"
           }
          ]
         },
         "layout": {
          "annotationdefaults": {
           "arrowcolor": "#2a3f5f",
           "arrowhead": 0,
           "arrowwidth": 1
          },
          "autotypenumbers": "strict",
          "coloraxis": {
           "colorbar": {
            "outlinewidth": 0,
            "ticks": ""
           }
          },
          "colorscale": {
           "diverging": [
            [
             0,
             "#8e0152"
            ],
            [
             0.1,
             "#c51b7d"
            ],
            [
             0.2,
             "#de77ae"
            ],
            [
             0.3,
             "#f1b6da"
            ],
            [
             0.4,
             "#fde0ef"
            ],
            [
             0.5,
             "#f7f7f7"
            ],
            [
             0.6,
             "#e6f5d0"
            ],
            [
             0.7,
             "#b8e186"
            ],
            [
             0.8,
             "#7fbc41"
            ],
            [
             0.9,
             "#4d9221"
            ],
            [
             1,
             "#276419"
            ]
           ],
           "sequential": [
            [
             0,
             "#0d0887"
            ],
            [
             0.1111111111111111,
             "#46039f"
            ],
            [
             0.2222222222222222,
             "#7201a8"
            ],
            [
             0.3333333333333333,
             "#9c179e"
            ],
            [
             0.4444444444444444,
             "#bd3786"
            ],
            [
             0.5555555555555556,
             "#d8576b"
            ],
            [
             0.6666666666666666,
             "#ed7953"
            ],
            [
             0.7777777777777778,
             "#fb9f3a"
            ],
            [
             0.8888888888888888,
             "#fdca26"
            ],
            [
             1,
             "#f0f921"
            ]
           ],
           "sequentialminus": [
            [
             0,
             "#0d0887"
            ],
            [
             0.1111111111111111,
             "#46039f"
            ],
            [
             0.2222222222222222,
             "#7201a8"
            ],
            [
             0.3333333333333333,
             "#9c179e"
            ],
            [
             0.4444444444444444,
             "#bd3786"
            ],
            [
             0.5555555555555556,
             "#d8576b"
            ],
            [
             0.6666666666666666,
             "#ed7953"
            ],
            [
             0.7777777777777778,
             "#fb9f3a"
            ],
            [
             0.8888888888888888,
             "#fdca26"
            ],
            [
             1,
             "#f0f921"
            ]
           ]
          },
          "colorway": [
           "#636efa",
           "#EF553B",
           "#00cc96",
           "#ab63fa",
           "#FFA15A",
           "#19d3f3",
           "#FF6692",
           "#B6E880",
           "#FF97FF",
           "#FECB52"
          ],
          "font": {
           "color": "#2a3f5f"
          },
          "geo": {
           "bgcolor": "white",
           "lakecolor": "white",
           "landcolor": "#E5ECF6",
           "showlakes": true,
           "showland": true,
           "subunitcolor": "white"
          },
          "hoverlabel": {
           "align": "left"
          },
          "hovermode": "closest",
          "mapbox": {
           "style": "light"
          },
          "paper_bgcolor": "white",
          "plot_bgcolor": "#E5ECF6",
          "polar": {
           "angularaxis": {
            "gridcolor": "white",
            "linecolor": "white",
            "ticks": ""
           },
           "bgcolor": "#E5ECF6",
           "radialaxis": {
            "gridcolor": "white",
            "linecolor": "white",
            "ticks": ""
           }
          },
          "scene": {
           "xaxis": {
            "backgroundcolor": "#E5ECF6",
            "gridcolor": "white",
            "gridwidth": 2,
            "linecolor": "white",
            "showbackground": true,
            "ticks": "",
            "zerolinecolor": "white"
           },
           "yaxis": {
            "backgroundcolor": "#E5ECF6",
            "gridcolor": "white",
            "gridwidth": 2,
            "linecolor": "white",
            "showbackground": true,
            "ticks": "",
            "zerolinecolor": "white"
           },
           "zaxis": {
            "backgroundcolor": "#E5ECF6",
            "gridcolor": "white",
            "gridwidth": 2,
            "linecolor": "white",
            "showbackground": true,
            "ticks": "",
            "zerolinecolor": "white"
           }
          },
          "shapedefaults": {
           "line": {
            "color": "#2a3f5f"
           }
          },
          "ternary": {
           "aaxis": {
            "gridcolor": "white",
            "linecolor": "white",
            "ticks": ""
           },
           "baxis": {
            "gridcolor": "white",
            "linecolor": "white",
            "ticks": ""
           },
           "bgcolor": "#E5ECF6",
           "caxis": {
            "gridcolor": "white",
            "linecolor": "white",
            "ticks": ""
           }
          },
          "title": {
           "x": 0.05
          },
          "xaxis": {
           "automargin": true,
           "gridcolor": "white",
           "linecolor": "white",
           "ticks": "",
           "title": {
            "standoff": 15
           },
           "zerolinecolor": "white",
           "zerolinewidth": 2
          },
          "yaxis": {
           "automargin": true,
           "gridcolor": "white",
           "linecolor": "white",
           "ticks": "",
           "title": {
            "standoff": 15
           },
           "zerolinecolor": "white",
           "zerolinewidth": 2
          }
         }
        },
        "title": {
         "text": "Dependence of R_2 on the number of trees"
        },
        "width": 800,
        "xaxis": {
         "title": {
          "text": "Depth count"
         }
        },
        "yaxis": {
         "title": {
          "text": "R_2"
         }
        }
       }
      },
      "text/html": [
       "<div>                            <div id=\"ef35b943-e483-43fc-b193-fbad3b3d447c\" class=\"plotly-graph-div\" style=\"height:600px; width:800px;\"></div>            <script type=\"text/javascript\">                require([\"plotly\"], function(Plotly) {                    window.PLOTLYENV=window.PLOTLYENV || {};                                    if (document.getElementById(\"ef35b943-e483-43fc-b193-fbad3b3d447c\")) {                    Plotly.newPlot(                        \"ef35b943-e483-43fc-b193-fbad3b3d447c\",                        [{\"name\":\"Train\",\"x\":[7,8,9,10,11,12,13,14,15,16,17,18,19],\"y\":[0.53,0.58,0.61,0.64,0.68,0.71,0.75,0.78,0.81,0.84,0.86,0.88,0.9],\"type\":\"scatter\"},{\"name\":\"Test\",\"x\":[7,8,9,10,11,12,13,14,15,16,17,18,19],\"y\":[0.52,0.55,0.58,0.59,0.61,0.62,0.63,0.63,0.63,0.63,0.63,0.62,0.62],\"type\":\"scatter\"}],                        {\"template\":{\"data\":{\"histogram2dcontour\":[{\"type\":\"histogram2dcontour\",\"colorbar\":{\"outlinewidth\":0,\"ticks\":\"\"},\"colorscale\":[[0.0,\"#0d0887\"],[0.1111111111111111,\"#46039f\"],[0.2222222222222222,\"#7201a8\"],[0.3333333333333333,\"#9c179e\"],[0.4444444444444444,\"#bd3786\"],[0.5555555555555556,\"#d8576b\"],[0.6666666666666666,\"#ed7953\"],[0.7777777777777778,\"#fb9f3a\"],[0.8888888888888888,\"#fdca26\"],[1.0,\"#f0f921\"]]}],\"choropleth\":[{\"type\":\"choropleth\",\"colorbar\":{\"outlinewidth\":0,\"ticks\":\"\"}}],\"histogram2d\":[{\"type\":\"histogram2d\",\"colorbar\":{\"outlinewidth\":0,\"ticks\":\"\"},\"colorscale\":[[0.0,\"#0d0887\"],[0.1111111111111111,\"#46039f\"],[0.2222222222222222,\"#7201a8\"],[0.3333333333333333,\"#9c179e\"],[0.4444444444444444,\"#bd3786\"],[0.5555555555555556,\"#d8576b\"],[0.6666666666666666,\"#ed7953\"],[0.7777777777777778,\"#fb9f3a\"],[0.8888888888888888,\"#fdca26\"],[1.0,\"#f0f921\"]]}],\"heatmap\":[{\"type\":\"heatmap\",\"colorbar\":{\"outlinewidth\":0,\"ticks\":\"\"},\"colorscale\":[[0.0,\"#0d0887\"],[0.1111111111111111,\"#46039f\"],[0.2222222222222222,\"#7201a8\"],[0.3333333333333333,\"#9c179e\"],[0.4444444444444444,\"#bd3786\"],[0.5555555555555556,\"#d8576b\"],[0.6666666666666666,\"#ed7953\"],[0.7777777777777778,\"#fb9f3a\"],[0.8888888888888888,\"#fdca26\"],[1.0,\"#f0f921\"]]}],\"heatmapgl\":[{\"type\":\"heatmapgl\",\"colorbar\":{\"outlinewidth\":0,\"ticks\":\"\"},\"colorscale\":[[0.0,\"#0d0887\"],[0.1111111111111111,\"#46039f\"],[0.2222222222222222,\"#7201a8\"],[0.3333333333333333,\"#9c179e\"],[0.4444444444444444,\"#bd3786\"],[0.5555555555555556,\"#d8576b\"],[0.6666666666666666,\"#ed7953\"],[0.7777777777777778,\"#fb9f3a\"],[0.8888888888888888,\"#fdca26\"],[1.0,\"#f0f921\"]]}],\"contourcarpet\":[{\"type\":\"contourcarpet\",\"colorbar\":{\"outlinewidth\":0,\"ticks\":\"\"}}],\"contour\":[{\"type\":\"contour\",\"colorbar\":{\"outlinewidth\":0,\"ticks\":\"\"},\"colorscale\":[[0.0,\"#0d0887\"],[0.1111111111111111,\"#46039f\"],[0.2222222222222222,\"#7201a8\"],[0.3333333333333333,\"#9c179e\"],[0.4444444444444444,\"#bd3786\"],[0.5555555555555556,\"#d8576b\"],[0.6666666666666666,\"#ed7953\"],[0.7777777777777778,\"#fb9f3a\"],[0.8888888888888888,\"#fdca26\"],[1.0,\"#f0f921\"]]}],\"surface\":[{\"type\":\"surface\",\"colorbar\":{\"outlinewidth\":0,\"ticks\":\"\"},\"colorscale\":[[0.0,\"#0d0887\"],[0.1111111111111111,\"#46039f\"],[0.2222222222222222,\"#7201a8\"],[0.3333333333333333,\"#9c179e\"],[0.4444444444444444,\"#bd3786\"],[0.5555555555555556,\"#d8576b\"],[0.6666666666666666,\"#ed7953\"],[0.7777777777777778,\"#fb9f3a\"],[0.8888888888888888,\"#fdca26\"],[1.0,\"#f0f921\"]]}],\"mesh3d\":[{\"type\":\"mesh3d\",\"colorbar\":{\"outlinewidth\":0,\"ticks\":\"\"}}],\"scatter\":[{\"fillpattern\":{\"fillmode\":\"overlay\",\"size\":10,\"solidity\":0.2},\"type\":\"scatter\"}],\"parcoords\":[{\"type\":\"parcoords\",\"line\":{\"colorbar\":{\"outlinewidth\":0,\"ticks\":\"\"}}}],\"scatterpolargl\":[{\"type\":\"scatterpolargl\",\"marker\":{\"colorbar\":{\"outlinewidth\":0,\"ticks\":\"\"}}}],\"bar\":[{\"error_x\":{\"color\":\"#2a3f5f\"},\"error_y\":{\"color\":\"#2a3f5f\"},\"marker\":{\"line\":{\"color\":\"#E5ECF6\",\"width\":0.5},\"pattern\":{\"fillmode\":\"overlay\",\"size\":10,\"solidity\":0.2}},\"type\":\"bar\"}],\"scattergeo\":[{\"type\":\"scattergeo\",\"marker\":{\"colorbar\":{\"outlinewidth\":0,\"ticks\":\"\"}}}],\"scatterpolar\":[{\"type\":\"scatterpolar\",\"marker\":{\"colorbar\":{\"outlinewidth\":0,\"ticks\":\"\"}}}],\"histogram\":[{\"marker\":{\"pattern\":{\"fillmode\":\"overlay\",\"size\":10,\"solidity\":0.2}},\"type\":\"histogram\"}],\"scattergl\":[{\"type\":\"scattergl\",\"marker\":{\"colorbar\":{\"outlinewidth\":0,\"ticks\":\"\"}}}],\"scatter3d\":[{\"type\":\"scatter3d\",\"line\":{\"colorbar\":{\"outlinewidth\":0,\"ticks\":\"\"}},\"marker\":{\"colorbar\":{\"outlinewidth\":0,\"ticks\":\"\"}}}],\"scattermapbox\":[{\"type\":\"scattermapbox\",\"marker\":{\"colorbar\":{\"outlinewidth\":0,\"ticks\":\"\"}}}],\"scatterternary\":[{\"type\":\"scatterternary\",\"marker\":{\"colorbar\":{\"outlinewidth\":0,\"ticks\":\"\"}}}],\"scattercarpet\":[{\"type\":\"scattercarpet\",\"marker\":{\"colorbar\":{\"outlinewidth\":0,\"ticks\":\"\"}}}],\"carpet\":[{\"aaxis\":{\"endlinecolor\":\"#2a3f5f\",\"gridcolor\":\"white\",\"linecolor\":\"white\",\"minorgridcolor\":\"white\",\"startlinecolor\":\"#2a3f5f\"},\"baxis\":{\"endlinecolor\":\"#2a3f5f\",\"gridcolor\":\"white\",\"linecolor\":\"white\",\"minorgridcolor\":\"white\",\"startlinecolor\":\"#2a3f5f\"},\"type\":\"carpet\"}],\"table\":[{\"cells\":{\"fill\":{\"color\":\"#EBF0F8\"},\"line\":{\"color\":\"white\"}},\"header\":{\"fill\":{\"color\":\"#C8D4E3\"},\"line\":{\"color\":\"white\"}},\"type\":\"table\"}],\"barpolar\":[{\"marker\":{\"line\":{\"color\":\"#E5ECF6\",\"width\":0.5},\"pattern\":{\"fillmode\":\"overlay\",\"size\":10,\"solidity\":0.2}},\"type\":\"barpolar\"}],\"pie\":[{\"automargin\":true,\"type\":\"pie\"}]},\"layout\":{\"autotypenumbers\":\"strict\",\"colorway\":[\"#636efa\",\"#EF553B\",\"#00cc96\",\"#ab63fa\",\"#FFA15A\",\"#19d3f3\",\"#FF6692\",\"#B6E880\",\"#FF97FF\",\"#FECB52\"],\"font\":{\"color\":\"#2a3f5f\"},\"hovermode\":\"closest\",\"hoverlabel\":{\"align\":\"left\"},\"paper_bgcolor\":\"white\",\"plot_bgcolor\":\"#E5ECF6\",\"polar\":{\"bgcolor\":\"#E5ECF6\",\"angularaxis\":{\"gridcolor\":\"white\",\"linecolor\":\"white\",\"ticks\":\"\"},\"radialaxis\":{\"gridcolor\":\"white\",\"linecolor\":\"white\",\"ticks\":\"\"}},\"ternary\":{\"bgcolor\":\"#E5ECF6\",\"aaxis\":{\"gridcolor\":\"white\",\"linecolor\":\"white\",\"ticks\":\"\"},\"baxis\":{\"gridcolor\":\"white\",\"linecolor\":\"white\",\"ticks\":\"\"},\"caxis\":{\"gridcolor\":\"white\",\"linecolor\":\"white\",\"ticks\":\"\"}},\"coloraxis\":{\"colorbar\":{\"outlinewidth\":0,\"ticks\":\"\"}},\"colorscale\":{\"sequential\":[[0.0,\"#0d0887\"],[0.1111111111111111,\"#46039f\"],[0.2222222222222222,\"#7201a8\"],[0.3333333333333333,\"#9c179e\"],[0.4444444444444444,\"#bd3786\"],[0.5555555555555556,\"#d8576b\"],[0.6666666666666666,\"#ed7953\"],[0.7777777777777778,\"#fb9f3a\"],[0.8888888888888888,\"#fdca26\"],[1.0,\"#f0f921\"]],\"sequentialminus\":[[0.0,\"#0d0887\"],[0.1111111111111111,\"#46039f\"],[0.2222222222222222,\"#7201a8\"],[0.3333333333333333,\"#9c179e\"],[0.4444444444444444,\"#bd3786\"],[0.5555555555555556,\"#d8576b\"],[0.6666666666666666,\"#ed7953\"],[0.7777777777777778,\"#fb9f3a\"],[0.8888888888888888,\"#fdca26\"],[1.0,\"#f0f921\"]],\"diverging\":[[0,\"#8e0152\"],[0.1,\"#c51b7d\"],[0.2,\"#de77ae\"],[0.3,\"#f1b6da\"],[0.4,\"#fde0ef\"],[0.5,\"#f7f7f7\"],[0.6,\"#e6f5d0\"],[0.7,\"#b8e186\"],[0.8,\"#7fbc41\"],[0.9,\"#4d9221\"],[1,\"#276419\"]]},\"xaxis\":{\"gridcolor\":\"white\",\"linecolor\":\"white\",\"ticks\":\"\",\"title\":{\"standoff\":15},\"zerolinecolor\":\"white\",\"automargin\":true,\"zerolinewidth\":2},\"yaxis\":{\"gridcolor\":\"white\",\"linecolor\":\"white\",\"ticks\":\"\",\"title\":{\"standoff\":15},\"zerolinecolor\":\"white\",\"automargin\":true,\"zerolinewidth\":2},\"scene\":{\"xaxis\":{\"backgroundcolor\":\"#E5ECF6\",\"gridcolor\":\"white\",\"linecolor\":\"white\",\"showbackground\":true,\"ticks\":\"\",\"zerolinecolor\":\"white\",\"gridwidth\":2},\"yaxis\":{\"backgroundcolor\":\"#E5ECF6\",\"gridcolor\":\"white\",\"linecolor\":\"white\",\"showbackground\":true,\"ticks\":\"\",\"zerolinecolor\":\"white\",\"gridwidth\":2},\"zaxis\":{\"backgroundcolor\":\"#E5ECF6\",\"gridcolor\":\"white\",\"linecolor\":\"white\",\"showbackground\":true,\"ticks\":\"\",\"zerolinecolor\":\"white\",\"gridwidth\":2}},\"shapedefaults\":{\"line\":{\"color\":\"#2a3f5f\"}},\"annotationdefaults\":{\"arrowcolor\":\"#2a3f5f\",\"arrowhead\":0,\"arrowwidth\":1},\"geo\":{\"bgcolor\":\"white\",\"landcolor\":\"#E5ECF6\",\"subunitcolor\":\"white\",\"showland\":true,\"showlakes\":true,\"lakecolor\":\"white\"},\"title\":{\"x\":0.05},\"mapbox\":{\"style\":\"light\"}}},\"xaxis\":{\"title\":{\"text\":\"Depth count\"}},\"yaxis\":{\"title\":{\"text\":\"R_2\"}},\"title\":{\"text\":\"Dependence of R_2 on the number of trees\"},\"height\":600,\"width\":800},                        {\"responsive\": true}                    ).then(function(){\n",
       "                            \n",
       "var gd = document.getElementById('ef35b943-e483-43fc-b193-fbad3b3d447c');\n",
       "var x = new MutationObserver(function (mutations, observer) {{\n",
       "        var display = window.getComputedStyle(gd).display;\n",
       "        if (!display || display === 'none') {{\n",
       "            console.log([gd, 'removed!']);\n",
       "            Plotly.purge(gd);\n",
       "            observer.disconnect();\n",
       "        }}\n",
       "}});\n",
       "\n",
       "// Listen for the removal of the full notebook cells\n",
       "var notebookContainer = gd.closest('#notebook-container');\n",
       "if (notebookContainer) {{\n",
       "    x.observe(notebookContainer, {childList: true});\n",
       "}}\n",
       "\n",
       "// Listen for the clearing of the current output cell\n",
       "var outputEl = gd.closest('.output');\n",
       "if (outputEl) {{\n",
       "    x.observe(outputEl, {childList: true});\n",
       "}}\n",
       "\n",
       "                        })                };                });            </script>        </div>"
      ]
     },
     "metadata": {},
     "output_type": "display_data"
    }
   ],
   "source": [
    "max_depths = range(7, 20)\n",
    "\n",
    "def tree_depths(X_train, X_test, y_train, y_test):\n",
    "  R_2_train = []\n",
    "  R_2_test = []\n",
    "  for depth in max_depths:\n",
    "    tree_model = tree.DecisionTreeRegressor(max_depth=depth, random_state=42).fit(X_train, y_train)\n",
    "    y_train_pred = tree_model.predict(X_train)\n",
    "    y_test_pred = tree_model.predict(X_test)\n",
    "    R_2_tr = round(metrics.r2_score(y_train, y_train_pred), 2)\n",
    "    R_2_tes = round(metrics.r2_score(y_test, y_test_pred), 2)\n",
    "    R_2_train.append(R_2_tr)\n",
    "    R_2_test.append(R_2_tes)\n",
    "\n",
    "  fig = go.Figure()\n",
    "  fig.add_trace(go.Scatter(x=list(max_depths), y=R_2_train, name='Train'))\n",
    "  fig.add_trace(go.Scatter(x=list(max_depths), y=R_2_test, name='Test'))\n",
    "  fig.update_xaxes(title='Depth count')\n",
    "  fig.update_yaxes(title='R_2')\n",
    "  fig.update_layout(title='Dependence of R_2 on the number of trees', height=600, width=800)\n",
    "  return fig.show()\n",
    "\n",
    "tree_depths(X_train_scal, X_test_scal, y_train, y_test)"
   ]
  },
  {
   "cell_type": "markdown",
   "id": "9b8d3102",
   "metadata": {},
   "source": [
    "Выберем за оптимальную глубину - 13 деревьев и построим модель:"
   ]
  },
  {
   "cell_type": "code",
   "execution_count": 153,
   "id": "28a567cb",
   "metadata": {},
   "outputs": [
    {
     "name": "stdout",
     "output_type": "stream",
     "text": [
      "MAE:\n",
      "For TRAIN = 176066.33\n",
      "For TEST = 191249.41\n",
      "\n",
      "MSE:\n",
      "For TRAIN = 88535781990\n",
      "For TEST = 105813040728\n",
      "\n",
      "R2:\n",
      "For TRAIN = 0.61\n",
      "For TEST = 0.52\n"
     ]
    }
   ],
   "source": [
    "tree_model = tree.DecisionTreeRegressor(random_state=42, max_depth=13)\n",
    "tree_model.fit(X_train_scal[best_features], y_train)\n",
    "\n",
    "y_train_pred = tree_model.predict(X_train_scal[best_features])\n",
    "y_test_pred = tree_model.predict(X_test_scal[best_features])\n",
    "\n",
    "metrics_func(y_train, y_train_pred, y_test, y_test_pred)"
   ]
  },
  {
   "cell_type": "markdown",
   "id": "03163113",
   "metadata": {},
   "source": [
    "Метрики вновь улучшились, R2 - 0.61/0.52, но обратим внимание, что метрика на тринировочных данных лучше более, чем на 17%, что может говорить о переобучении модели и возможно необходимо снизить глубину."
   ]
  },
  {
   "cell_type": "markdown",
   "id": "68079d95",
   "metadata": {},
   "source": [
    "**Ансамблевые методы**"
   ]
  },
  {
   "cell_type": "markdown",
   "id": "5211d0b4",
   "metadata": {},
   "source": [
    "Первой ансамблевой моделью будет бэггинг и его разновидность - модель случайного леса."
   ]
  },
  {
   "cell_type": "code",
   "execution_count": 154,
   "id": "af2e961a",
   "metadata": {},
   "outputs": [
    {
     "name": "stdout",
     "output_type": "stream",
     "text": [
      "MAE:\n",
      "For TRAIN = 145113.84\n",
      "For TEST = 166686.53\n",
      "\n",
      "MSE:\n",
      "For TRAIN = 62694598690\n",
      "For TEST = 84813193832\n",
      "\n",
      "R2:\n",
      "For TRAIN = 0.72\n",
      "For TEST = 0.62\n"
     ]
    }
   ],
   "source": [
    "# бэггинг случайный лес\n",
    "random_forest = ensemble.RandomForestRegressor(n_estimators=200,\n",
    "                                               max_depth=16,                                               \n",
    "                                               criterion='squared_error',\n",
    "                                               random_state=42)\n",
    "\n",
    "random_forest.fit(X_train_scal[best_features], y_train)\n",
    "\n",
    "y_train_pred = random_forest.predict(X_train_scal[best_features])\n",
    "y_test_pred = random_forest.predict(X_test_scal[best_features])\n",
    "metrics_func(y_train, y_train_pred, y_test, y_test_pred)"
   ]
  },
  {
   "cell_type": "markdown",
   "id": "979bde3c",
   "metadata": {},
   "source": [
    "Вторая модель бустинг - AdaBoost."
   ]
  },
  {
   "cell_type": "code",
   "execution_count": 155,
   "id": "e260b5f2",
   "metadata": {},
   "outputs": [
    {
     "name": "stdout",
     "output_type": "stream",
     "text": [
      "MAE:\n",
      "For TRAIN = 262808.43\n",
      "For TEST = 261430.66\n",
      "\n",
      "MSE:\n",
      "For TRAIN = 161295972433\n",
      "For TEST = 158780919412\n",
      "\n",
      "R2:\n",
      "For TRAIN = 0.29\n",
      "For TEST = 0.29\n"
     ]
    }
   ],
   "source": [
    "# бустинг\n",
    "dt = tree.DecisionTreeRegressor(\n",
    "    max_depth=3, #максимальная глубина дерева\n",
    "    random_state=42 #датчик генератора случайных чисел\n",
    ")\n",
    "# Создаем объект класса AdaBoost\n",
    "ada = AdaBoostRegressor(\n",
    "    estimator=dt, #базовая модель\n",
    "    random_state=42, #датчик генератора случайных чисел\n",
    "    n_estimators=50, #количество моделей в ансамбле\n",
    "    learning_rate=0.01\n",
    ")\n",
    "# Обучаем модель\n",
    "ada.fit(X_train_scal[best_features], y_train)\n",
    "\n",
    "# Формируем предсказание для тестовой выборки\n",
    "y_train_pred  = ada.predict(X_train_scal[best_features])\n",
    "y_test_pred = ada.predict(X_test_scal[best_features])\n",
    "\n",
    "metrics_func(y_train, y_train_pred, y_test, y_test_pred)"
   ]
  },
  {
   "cell_type": "markdown",
   "id": "c44333b1",
   "metadata": {},
   "source": [
    "Третья модель градиентного бустинга."
   ]
  },
  {
   "cell_type": "code",
   "execution_count": 156,
   "id": "c7ac4eff",
   "metadata": {},
   "outputs": [
    {
     "name": "stdout",
     "output_type": "stream",
     "text": [
      "MAE:\n",
      "For TRAIN = 135136.99\n",
      "For TEST = 161223.32\n",
      "\n",
      "MSE:\n",
      "For TRAIN = 57003662848\n",
      "For TEST = 82080471585\n",
      "\n",
      "R2:\n",
      "For TRAIN = 0.75\n",
      "For TEST = 0.63\n"
     ]
    }
   ],
   "source": [
    "# градиентный бустинг\n",
    "\n",
    "# Создаем объект класса градиентный бустинг\n",
    "gb = GradientBoostingRegressor(\n",
    "    max_depth=13, #максимальная глубина дерева\n",
    "    n_estimators=500, #количество деревьев в ансамбле\n",
    "    random_state=42, #датчик генератора случайных чисел\n",
    "    learning_rate=0.01\n",
    ")\n",
    "\n",
    "# Обучаем модель\n",
    "gb.fit(X_train_scal[best_features], y_train)\n",
    "\n",
    "# Формируем предсказание для тестовой выборки\n",
    "\n",
    "y_train_pred  = gb.predict(X_train_scal[best_features])\n",
    "y_test_pred = gb.predict(X_test_scal[best_features])\n",
    "\n",
    "metrics_func(y_train, y_train_pred, y_test, y_test_pred)"
   ]
  },
  {
   "cell_type": "markdown",
   "id": "1583bcd2",
   "metadata": {},
   "source": [
    "Ещё одна модель бустинга CatBoost."
   ]
  },
  {
   "cell_type": "code",
   "execution_count": 157,
   "id": "3ce39577",
   "metadata": {},
   "outputs": [
    {
     "name": "stdout",
     "output_type": "stream",
     "text": [
      "MAE:\n",
      "For TRAIN = 171796.59\n",
      "For TEST = 173907.54\n",
      "\n",
      "MSE:\n",
      "For TRAIN = 86856948073\n",
      "For TEST = 89056266427\n",
      "\n",
      "R2:\n",
      "For TRAIN = 0.62\n",
      "For TEST = 0.6\n"
     ]
    }
   ],
   "source": [
    "catmodel = CatBoostRegressor(random_state=42, verbose=False)\n",
    "catmodel.fit(X_train_scal[best_features], y_train)\n",
    "\n",
    "y_train_pred  = catmodel.predict(X_train_scal[best_features])\n",
    "y_test_pred = catmodel.predict(X_test_scal[best_features])\n",
    "\n",
    "metrics_func(y_train, y_train_pred, y_test, y_test_pred)"
   ]
  },
  {
   "cell_type": "markdown",
   "id": "631b96ea",
   "metadata": {},
   "source": [
    "Наилучшие результаты показали модели - случайный лес(R2=0.72/0.62), градиентный бустинг(R2=0.75/0.63) и CatBoost(R2=0.62/0.6). Данные модели построены на 25 лучших предикторах, отобранных с помощью SelectBest. Как уже отмечалось ранее после отбора в топ-25 не вошёл такой признак как площадь недвижимости, который по логике должен напрямую влиять на стоимость недвижимости. Воспользуемся CatBoost для построения модели на всех признаках, а далее отберём топ-предикторы согласно их весам."
   ]
  },
  {
   "cell_type": "code",
   "execution_count": 158,
   "id": "da184ace",
   "metadata": {},
   "outputs": [
    {
     "name": "stdout",
     "output_type": "stream",
     "text": [
      "MAE:\n",
      "For TRAIN = 126496.7\n",
      "For TEST = 129577.71\n",
      "\n",
      "MSE:\n",
      "For TRAIN = 51648801250\n",
      "For TEST = 55217300040\n",
      "\n",
      "R2:\n",
      "For TRAIN = 0.77\n",
      "For TEST = 0.75\n"
     ]
    }
   ],
   "source": [
    "catmodel = CatBoostRegressor(random_state=42, verbose=False)\n",
    "catmodel.fit(X_train_scal, y_train)\n",
    "\n",
    "y_train_pred  = catmodel.predict(X_train_scal)\n",
    "y_test_pred = catmodel.predict(X_test_scal)\n",
    "\n",
    "metrics_func(y_train, y_train_pred, y_test, y_test_pred)"
   ]
  },
  {
   "cell_type": "code",
   "execution_count": 159,
   "id": "ba0d8590",
   "metadata": {},
   "outputs": [
    {
     "data": {
      "text/html": [
       "<div>\n",
       "<style scoped>\n",
       "    .dataframe tbody tr th:only-of-type {\n",
       "        vertical-align: middle;\n",
       "    }\n",
       "\n",
       "    .dataframe tbody tr th {\n",
       "        vertical-align: top;\n",
       "    }\n",
       "\n",
       "    .dataframe thead th {\n",
       "        text-align: right;\n",
       "    }\n",
       "</style>\n",
       "<table border=\"1\" class=\"dataframe\">\n",
       "  <thead>\n",
       "    <tr style=\"text-align: right;\">\n",
       "      <th></th>\n",
       "      <th>feature_importance</th>\n",
       "      <th>feature_names</th>\n",
       "    </tr>\n",
       "  </thead>\n",
       "  <tbody>\n",
       "    <tr>\n",
       "      <th>4</th>\n",
       "      <td>21.240447</td>\n",
       "      <td>sqft</td>\n",
       "    </tr>\n",
       "    <tr>\n",
       "      <th>3</th>\n",
       "      <td>18.830605</td>\n",
       "      <td>longitude</td>\n",
       "    </tr>\n",
       "    <tr>\n",
       "      <th>2</th>\n",
       "      <td>15.357914</td>\n",
       "      <td>latitude</td>\n",
       "    </tr>\n",
       "    <tr>\n",
       "      <th>1</th>\n",
       "      <td>15.070298</td>\n",
       "      <td>zipcode</td>\n",
       "    </tr>\n",
       "    <tr>\n",
       "      <th>0</th>\n",
       "      <td>6.594647</td>\n",
       "      <td>baths</td>\n",
       "    </tr>\n",
       "    <tr>\n",
       "      <th>8</th>\n",
       "      <td>4.642446</td>\n",
       "      <td>age</td>\n",
       "    </tr>\n",
       "    <tr>\n",
       "      <th>9</th>\n",
       "      <td>4.385562</td>\n",
       "      <td>rating_mean</td>\n",
       "    </tr>\n",
       "    <tr>\n",
       "      <th>7</th>\n",
       "      <td>3.794084</td>\n",
       "      <td>lotsize</td>\n",
       "    </tr>\n",
       "    <tr>\n",
       "      <th>5</th>\n",
       "      <td>1.727175</td>\n",
       "      <td>stories</td>\n",
       "    </tr>\n",
       "    <tr>\n",
       "      <th>10</th>\n",
       "      <td>1.538484</td>\n",
       "      <td>distance_mean</td>\n",
       "    </tr>\n",
       "    <tr>\n",
       "      <th>6</th>\n",
       "      <td>1.272382</td>\n",
       "      <td>beds</td>\n",
       "    </tr>\n",
       "  </tbody>\n",
       "</table>\n",
       "</div>"
      ],
      "text/plain": [
       "    feature_importance  feature_names\n",
       "4            21.240447           sqft\n",
       "3            18.830605      longitude\n",
       "2            15.357914       latitude\n",
       "1            15.070298        zipcode\n",
       "0             6.594647          baths\n",
       "8             4.642446            age\n",
       "9             4.385562    rating_mean\n",
       "7             3.794084        lotsize\n",
       "5             1.727175        stories\n",
       "10            1.538484  distance_mean\n",
       "6             1.272382           beds"
      ]
     },
     "execution_count": 159,
     "metadata": {},
     "output_type": "execute_result"
    }
   ],
   "source": [
    "# признаки и их веса вносимые в модель\n",
    "best_feature_cat = pd.DataFrame({'feature_importance': catmodel.get_feature_importance(), \n",
    "              'feature_names':X_train_scal.columns}).sort_values(by=['feature_importance'], \n",
    "                                                           ascending=False)\n",
    "# топ-11 признаков по весам\n",
    "new_best = best_feature_cat['feature_names'].iloc[:11]\n",
    "best_feature_cat[:11]"
   ]
  },
  {
   "cell_type": "markdown",
   "id": "3d479cc6",
   "metadata": {},
   "source": [
    "По степени значимости на первом месте площадь недвижимости(sqft). Далее построим отмеченные ранее модели на новых топ-11 признаках."
   ]
  },
  {
   "cell_type": "code",
   "execution_count": 160,
   "id": "a9b0843f",
   "metadata": {},
   "outputs": [
    {
     "name": "stdout",
     "output_type": "stream",
     "text": [
      "MAE:\n",
      "For TRAIN = 128732.57\n",
      "For TEST = 132010.29\n",
      "\n",
      "MSE:\n",
      "For TRAIN = 53349145563\n",
      "For TEST = 57058532357\n",
      "\n",
      "R2:\n",
      "For TRAIN = 0.77\n",
      "For TEST = 0.74\n"
     ]
    }
   ],
   "source": [
    "catmodel = CatBoostRegressor(random_state=42, verbose=False)\n",
    "catmodel.fit(X_train_scal[new_best], y_train)\n",
    "\n",
    "y_train_pred  = catmodel.predict(X_train_scal[new_best])\n",
    "y_test_pred = catmodel.predict(X_test_scal[new_best])\n",
    "\n",
    "metrics_func(y_train, y_train_pred, y_test, y_test_pred)\n"
   ]
  },
  {
   "cell_type": "code",
   "execution_count": 161,
   "id": "1bc2bcde",
   "metadata": {},
   "outputs": [
    {
     "name": "stdout",
     "output_type": "stream",
     "text": [
      "MAE:\n",
      "For TRAIN = 135492.95\n",
      "For TEST = 148711.68\n",
      "\n",
      "MSE:\n",
      "For TRAIN = 51482479888\n",
      "For TEST = 65688990747\n",
      "\n",
      "R2:\n",
      "For TRAIN = 0.77\n",
      "For TEST = 0.7\n"
     ]
    }
   ],
   "source": [
    "random_forest = ensemble.RandomForestRegressor(n_estimators=200,\n",
    "                                               max_depth=13,                                               \n",
    "                                               criterion='squared_error',\n",
    "                                               random_state=42)\n",
    "\n",
    "random_forest.fit(X_train_scal[new_best], y_train)\n",
    "\n",
    "y_train_pred = random_forest.predict(X_train_scal[new_best])\n",
    "y_test_pred = random_forest.predict(X_test_scal[new_best])\n",
    "metrics_func(y_train, y_train_pred, y_test, y_test_pred)"
   ]
  },
  {
   "cell_type": "code",
   "execution_count": 162,
   "id": "06647768",
   "metadata": {},
   "outputs": [
    {
     "data": {
      "application/vnd.plotly.v1+json": {
       "config": {
        "plotlyServerURL": "https://plot.ly"
       },
       "data": [
        {
         "alignmentgroup": "True",
         "hovertemplate": "feature_importances=%{x}<br>weight=%{y}<extra></extra>",
         "legendgroup": "",
         "marker": {
          "color": "#636efa",
          "pattern": {
           "shape": ""
          }
         },
         "name": "",
         "offsetgroup": "",
         "orientation": "v",
         "showlegend": false,
         "textposition": "auto",
         "texttemplate": "%{y}",
         "type": "bar",
         "x": [
          "sqft",
          "zipcode",
          "longitude",
          "latitude",
          "baths",
          "lotsize",
          "age",
          "rating_mean",
          "distance_mean",
          "stories",
          "beds"
         ],
         "xaxis": "x",
         "y": [
          0.35,
          0.19,
          0.12,
          0.12,
          0.06,
          0.04,
          0.03,
          0.03,
          0.02,
          0.02,
          0.01
         ],
         "yaxis": "y"
        }
       ],
       "layout": {
        "barmode": "relative",
        "height": 500,
        "legend": {
         "tracegroupgap": 0
        },
        "template": {
         "data": {
          "bar": [
           {
            "error_x": {
             "color": "#2a3f5f"
            },
            "error_y": {
             "color": "#2a3f5f"
            },
            "marker": {
             "line": {
              "color": "#E5ECF6",
              "width": 0.5
             },
             "pattern": {
              "fillmode": "overlay",
              "size": 10,
              "solidity": 0.2
             }
            },
            "type": "bar"
           }
          ],
          "barpolar": [
           {
            "marker": {
             "line": {
              "color": "#E5ECF6",
              "width": 0.5
             },
             "pattern": {
              "fillmode": "overlay",
              "size": 10,
              "solidity": 0.2
             }
            },
            "type": "barpolar"
           }
          ],
          "carpet": [
           {
            "aaxis": {
             "endlinecolor": "#2a3f5f",
             "gridcolor": "white",
             "linecolor": "white",
             "minorgridcolor": "white",
             "startlinecolor": "#2a3f5f"
            },
            "baxis": {
             "endlinecolor": "#2a3f5f",
             "gridcolor": "white",
             "linecolor": "white",
             "minorgridcolor": "white",
             "startlinecolor": "#2a3f5f"
            },
            "type": "carpet"
           }
          ],
          "choropleth": [
           {
            "colorbar": {
             "outlinewidth": 0,
             "ticks": ""
            },
            "type": "choropleth"
           }
          ],
          "contour": [
           {
            "colorbar": {
             "outlinewidth": 0,
             "ticks": ""
            },
            "colorscale": [
             [
              0,
              "#0d0887"
             ],
             [
              0.1111111111111111,
              "#46039f"
             ],
             [
              0.2222222222222222,
              "#7201a8"
             ],
             [
              0.3333333333333333,
              "#9c179e"
             ],
             [
              0.4444444444444444,
              "#bd3786"
             ],
             [
              0.5555555555555556,
              "#d8576b"
             ],
             [
              0.6666666666666666,
              "#ed7953"
             ],
             [
              0.7777777777777778,
              "#fb9f3a"
             ],
             [
              0.8888888888888888,
              "#fdca26"
             ],
             [
              1,
              "#f0f921"
             ]
            ],
            "type": "contour"
           }
          ],
          "contourcarpet": [
           {
            "colorbar": {
             "outlinewidth": 0,
             "ticks": ""
            },
            "type": "contourcarpet"
           }
          ],
          "heatmap": [
           {
            "colorbar": {
             "outlinewidth": 0,
             "ticks": ""
            },
            "colorscale": [
             [
              0,
              "#0d0887"
             ],
             [
              0.1111111111111111,
              "#46039f"
             ],
             [
              0.2222222222222222,
              "#7201a8"
             ],
             [
              0.3333333333333333,
              "#9c179e"
             ],
             [
              0.4444444444444444,
              "#bd3786"
             ],
             [
              0.5555555555555556,
              "#d8576b"
             ],
             [
              0.6666666666666666,
              "#ed7953"
             ],
             [
              0.7777777777777778,
              "#fb9f3a"
             ],
             [
              0.8888888888888888,
              "#fdca26"
             ],
             [
              1,
              "#f0f921"
             ]
            ],
            "type": "heatmap"
           }
          ],
          "heatmapgl": [
           {
            "colorbar": {
             "outlinewidth": 0,
             "ticks": ""
            },
            "colorscale": [
             [
              0,
              "#0d0887"
             ],
             [
              0.1111111111111111,
              "#46039f"
             ],
             [
              0.2222222222222222,
              "#7201a8"
             ],
             [
              0.3333333333333333,
              "#9c179e"
             ],
             [
              0.4444444444444444,
              "#bd3786"
             ],
             [
              0.5555555555555556,
              "#d8576b"
             ],
             [
              0.6666666666666666,
              "#ed7953"
             ],
             [
              0.7777777777777778,
              "#fb9f3a"
             ],
             [
              0.8888888888888888,
              "#fdca26"
             ],
             [
              1,
              "#f0f921"
             ]
            ],
            "type": "heatmapgl"
           }
          ],
          "histogram": [
           {
            "marker": {
             "pattern": {
              "fillmode": "overlay",
              "size": 10,
              "solidity": 0.2
             }
            },
            "type": "histogram"
           }
          ],
          "histogram2d": [
           {
            "colorbar": {
             "outlinewidth": 0,
             "ticks": ""
            },
            "colorscale": [
             [
              0,
              "#0d0887"
             ],
             [
              0.1111111111111111,
              "#46039f"
             ],
             [
              0.2222222222222222,
              "#7201a8"
             ],
             [
              0.3333333333333333,
              "#9c179e"
             ],
             [
              0.4444444444444444,
              "#bd3786"
             ],
             [
              0.5555555555555556,
              "#d8576b"
             ],
             [
              0.6666666666666666,
              "#ed7953"
             ],
             [
              0.7777777777777778,
              "#fb9f3a"
             ],
             [
              0.8888888888888888,
              "#fdca26"
             ],
             [
              1,
              "#f0f921"
             ]
            ],
            "type": "histogram2d"
           }
          ],
          "histogram2dcontour": [
           {
            "colorbar": {
             "outlinewidth": 0,
             "ticks": ""
            },
            "colorscale": [
             [
              0,
              "#0d0887"
             ],
             [
              0.1111111111111111,
              "#46039f"
             ],
             [
              0.2222222222222222,
              "#7201a8"
             ],
             [
              0.3333333333333333,
              "#9c179e"
             ],
             [
              0.4444444444444444,
              "#bd3786"
             ],
             [
              0.5555555555555556,
              "#d8576b"
             ],
             [
              0.6666666666666666,
              "#ed7953"
             ],
             [
              0.7777777777777778,
              "#fb9f3a"
             ],
             [
              0.8888888888888888,
              "#fdca26"
             ],
             [
              1,
              "#f0f921"
             ]
            ],
            "type": "histogram2dcontour"
           }
          ],
          "mesh3d": [
           {
            "colorbar": {
             "outlinewidth": 0,
             "ticks": ""
            },
            "type": "mesh3d"
           }
          ],
          "parcoords": [
           {
            "line": {
             "colorbar": {
              "outlinewidth": 0,
              "ticks": ""
             }
            },
            "type": "parcoords"
           }
          ],
          "pie": [
           {
            "automargin": true,
            "type": "pie"
           }
          ],
          "scatter": [
           {
            "fillpattern": {
             "fillmode": "overlay",
             "size": 10,
             "solidity": 0.2
            },
            "type": "scatter"
           }
          ],
          "scatter3d": [
           {
            "line": {
             "colorbar": {
              "outlinewidth": 0,
              "ticks": ""
             }
            },
            "marker": {
             "colorbar": {
              "outlinewidth": 0,
              "ticks": ""
             }
            },
            "type": "scatter3d"
           }
          ],
          "scattercarpet": [
           {
            "marker": {
             "colorbar": {
              "outlinewidth": 0,
              "ticks": ""
             }
            },
            "type": "scattercarpet"
           }
          ],
          "scattergeo": [
           {
            "marker": {
             "colorbar": {
              "outlinewidth": 0,
              "ticks": ""
             }
            },
            "type": "scattergeo"
           }
          ],
          "scattergl": [
           {
            "marker": {
             "colorbar": {
              "outlinewidth": 0,
              "ticks": ""
             }
            },
            "type": "scattergl"
           }
          ],
          "scattermapbox": [
           {
            "marker": {
             "colorbar": {
              "outlinewidth": 0,
              "ticks": ""
             }
            },
            "type": "scattermapbox"
           }
          ],
          "scatterpolar": [
           {
            "marker": {
             "colorbar": {
              "outlinewidth": 0,
              "ticks": ""
             }
            },
            "type": "scatterpolar"
           }
          ],
          "scatterpolargl": [
           {
            "marker": {
             "colorbar": {
              "outlinewidth": 0,
              "ticks": ""
             }
            },
            "type": "scatterpolargl"
           }
          ],
          "scatterternary": [
           {
            "marker": {
             "colorbar": {
              "outlinewidth": 0,
              "ticks": ""
             }
            },
            "type": "scatterternary"
           }
          ],
          "surface": [
           {
            "colorbar": {
             "outlinewidth": 0,
             "ticks": ""
            },
            "colorscale": [
             [
              0,
              "#0d0887"
             ],
             [
              0.1111111111111111,
              "#46039f"
             ],
             [
              0.2222222222222222,
              "#7201a8"
             ],
             [
              0.3333333333333333,
              "#9c179e"
             ],
             [
              0.4444444444444444,
              "#bd3786"
             ],
             [
              0.5555555555555556,
              "#d8576b"
             ],
             [
              0.6666666666666666,
              "#ed7953"
             ],
             [
              0.7777777777777778,
              "#fb9f3a"
             ],
             [
              0.8888888888888888,
              "#fdca26"
             ],
             [
              1,
              "#f0f921"
             ]
            ],
            "type": "surface"
           }
          ],
          "table": [
           {
            "cells": {
             "fill": {
              "color": "#EBF0F8"
             },
             "line": {
              "color": "white"
             }
            },
            "header": {
             "fill": {
              "color": "#C8D4E3"
             },
             "line": {
              "color": "white"
             }
            },
            "type": "table"
           }
          ]
         },
         "layout": {
          "annotationdefaults": {
           "arrowcolor": "#2a3f5f",
           "arrowhead": 0,
           "arrowwidth": 1
          },
          "autotypenumbers": "strict",
          "coloraxis": {
           "colorbar": {
            "outlinewidth": 0,
            "ticks": ""
           }
          },
          "colorscale": {
           "diverging": [
            [
             0,
             "#8e0152"
            ],
            [
             0.1,
             "#c51b7d"
            ],
            [
             0.2,
             "#de77ae"
            ],
            [
             0.3,
             "#f1b6da"
            ],
            [
             0.4,
             "#fde0ef"
            ],
            [
             0.5,
             "#f7f7f7"
            ],
            [
             0.6,
             "#e6f5d0"
            ],
            [
             0.7,
             "#b8e186"
            ],
            [
             0.8,
             "#7fbc41"
            ],
            [
             0.9,
             "#4d9221"
            ],
            [
             1,
             "#276419"
            ]
           ],
           "sequential": [
            [
             0,
             "#0d0887"
            ],
            [
             0.1111111111111111,
             "#46039f"
            ],
            [
             0.2222222222222222,
             "#7201a8"
            ],
            [
             0.3333333333333333,
             "#9c179e"
            ],
            [
             0.4444444444444444,
             "#bd3786"
            ],
            [
             0.5555555555555556,
             "#d8576b"
            ],
            [
             0.6666666666666666,
             "#ed7953"
            ],
            [
             0.7777777777777778,
             "#fb9f3a"
            ],
            [
             0.8888888888888888,
             "#fdca26"
            ],
            [
             1,
             "#f0f921"
            ]
           ],
           "sequentialminus": [
            [
             0,
             "#0d0887"
            ],
            [
             0.1111111111111111,
             "#46039f"
            ],
            [
             0.2222222222222222,
             "#7201a8"
            ],
            [
             0.3333333333333333,
             "#9c179e"
            ],
            [
             0.4444444444444444,
             "#bd3786"
            ],
            [
             0.5555555555555556,
             "#d8576b"
            ],
            [
             0.6666666666666666,
             "#ed7953"
            ],
            [
             0.7777777777777778,
             "#fb9f3a"
            ],
            [
             0.8888888888888888,
             "#fdca26"
            ],
            [
             1,
             "#f0f921"
            ]
           ]
          },
          "colorway": [
           "#636efa",
           "#EF553B",
           "#00cc96",
           "#ab63fa",
           "#FFA15A",
           "#19d3f3",
           "#FF6692",
           "#B6E880",
           "#FF97FF",
           "#FECB52"
          ],
          "font": {
           "color": "#2a3f5f"
          },
          "geo": {
           "bgcolor": "white",
           "lakecolor": "white",
           "landcolor": "#E5ECF6",
           "showlakes": true,
           "showland": true,
           "subunitcolor": "white"
          },
          "hoverlabel": {
           "align": "left"
          },
          "hovermode": "closest",
          "mapbox": {
           "style": "light"
          },
          "paper_bgcolor": "white",
          "plot_bgcolor": "#E5ECF6",
          "polar": {
           "angularaxis": {
            "gridcolor": "white",
            "linecolor": "white",
            "ticks": ""
           },
           "bgcolor": "#E5ECF6",
           "radialaxis": {
            "gridcolor": "white",
            "linecolor": "white",
            "ticks": ""
           }
          },
          "scene": {
           "xaxis": {
            "backgroundcolor": "#E5ECF6",
            "gridcolor": "white",
            "gridwidth": 2,
            "linecolor": "white",
            "showbackground": true,
            "ticks": "",
            "zerolinecolor": "white"
           },
           "yaxis": {
            "backgroundcolor": "#E5ECF6",
            "gridcolor": "white",
            "gridwidth": 2,
            "linecolor": "white",
            "showbackground": true,
            "ticks": "",
            "zerolinecolor": "white"
           },
           "zaxis": {
            "backgroundcolor": "#E5ECF6",
            "gridcolor": "white",
            "gridwidth": 2,
            "linecolor": "white",
            "showbackground": true,
            "ticks": "",
            "zerolinecolor": "white"
           }
          },
          "shapedefaults": {
           "line": {
            "color": "#2a3f5f"
           }
          },
          "ternary": {
           "aaxis": {
            "gridcolor": "white",
            "linecolor": "white",
            "ticks": ""
           },
           "baxis": {
            "gridcolor": "white",
            "linecolor": "white",
            "ticks": ""
           },
           "bgcolor": "#E5ECF6",
           "caxis": {
            "gridcolor": "white",
            "linecolor": "white",
            "ticks": ""
           }
          },
          "title": {
           "x": 0.05
          },
          "xaxis": {
           "automargin": true,
           "gridcolor": "white",
           "linecolor": "white",
           "ticks": "",
           "title": {
            "standoff": 15
           },
           "zerolinecolor": "white",
           "zerolinewidth": 2
          },
          "yaxis": {
           "automargin": true,
           "gridcolor": "white",
           "linecolor": "white",
           "ticks": "",
           "title": {
            "standoff": 15
           },
           "zerolinecolor": "white",
           "zerolinewidth": 2
          }
         }
        },
        "title": {
         "text": "ТОП-11 features for RandomForest"
        },
        "width": 1000,
        "xaxis": {
         "anchor": "y",
         "domain": [
          0,
          1
         ],
         "title": {
          "text": "feature_importances"
         }
        },
        "yaxis": {
         "anchor": "x",
         "domain": [
          0,
          1
         ],
         "title": {
          "text": "weight"
         }
        }
       }
      },
      "text/html": [
       "<div>                            <div id=\"c2e38b49-70fe-47dd-ab4c-1d633a572228\" class=\"plotly-graph-div\" style=\"height:500px; width:1000px;\"></div>            <script type=\"text/javascript\">                require([\"plotly\"], function(Plotly) {                    window.PLOTLYENV=window.PLOTLYENV || {};                                    if (document.getElementById(\"c2e38b49-70fe-47dd-ab4c-1d633a572228\")) {                    Plotly.newPlot(                        \"c2e38b49-70fe-47dd-ab4c-1d633a572228\",                        [{\"alignmentgroup\":\"True\",\"hovertemplate\":\"feature_importances=%{x}\\u003cbr\\u003eweight=%{y}\\u003cextra\\u003e\\u003c\\u002fextra\\u003e\",\"legendgroup\":\"\",\"marker\":{\"color\":\"#636efa\",\"pattern\":{\"shape\":\"\"}},\"name\":\"\",\"offsetgroup\":\"\",\"orientation\":\"v\",\"showlegend\":false,\"textposition\":\"auto\",\"texttemplate\":\"%{y}\",\"x\":[\"sqft\",\"zipcode\",\"longitude\",\"latitude\",\"baths\",\"lotsize\",\"age\",\"rating_mean\",\"distance_mean\",\"stories\",\"beds\"],\"xaxis\":\"x\",\"y\":[0.35,0.19,0.12,0.12,0.06,0.04,0.03,0.03,0.02,0.02,0.01],\"yaxis\":\"y\",\"type\":\"bar\"}],                        {\"template\":{\"data\":{\"histogram2dcontour\":[{\"type\":\"histogram2dcontour\",\"colorbar\":{\"outlinewidth\":0,\"ticks\":\"\"},\"colorscale\":[[0.0,\"#0d0887\"],[0.1111111111111111,\"#46039f\"],[0.2222222222222222,\"#7201a8\"],[0.3333333333333333,\"#9c179e\"],[0.4444444444444444,\"#bd3786\"],[0.5555555555555556,\"#d8576b\"],[0.6666666666666666,\"#ed7953\"],[0.7777777777777778,\"#fb9f3a\"],[0.8888888888888888,\"#fdca26\"],[1.0,\"#f0f921\"]]}],\"choropleth\":[{\"type\":\"choropleth\",\"colorbar\":{\"outlinewidth\":0,\"ticks\":\"\"}}],\"histogram2d\":[{\"type\":\"histogram2d\",\"colorbar\":{\"outlinewidth\":0,\"ticks\":\"\"},\"colorscale\":[[0.0,\"#0d0887\"],[0.1111111111111111,\"#46039f\"],[0.2222222222222222,\"#7201a8\"],[0.3333333333333333,\"#9c179e\"],[0.4444444444444444,\"#bd3786\"],[0.5555555555555556,\"#d8576b\"],[0.6666666666666666,\"#ed7953\"],[0.7777777777777778,\"#fb9f3a\"],[0.8888888888888888,\"#fdca26\"],[1.0,\"#f0f921\"]]}],\"heatmap\":[{\"type\":\"heatmap\",\"colorbar\":{\"outlinewidth\":0,\"ticks\":\"\"},\"colorscale\":[[0.0,\"#0d0887\"],[0.1111111111111111,\"#46039f\"],[0.2222222222222222,\"#7201a8\"],[0.3333333333333333,\"#9c179e\"],[0.4444444444444444,\"#bd3786\"],[0.5555555555555556,\"#d8576b\"],[0.6666666666666666,\"#ed7953\"],[0.7777777777777778,\"#fb9f3a\"],[0.8888888888888888,\"#fdca26\"],[1.0,\"#f0f921\"]]}],\"heatmapgl\":[{\"type\":\"heatmapgl\",\"colorbar\":{\"outlinewidth\":0,\"ticks\":\"\"},\"colorscale\":[[0.0,\"#0d0887\"],[0.1111111111111111,\"#46039f\"],[0.2222222222222222,\"#7201a8\"],[0.3333333333333333,\"#9c179e\"],[0.4444444444444444,\"#bd3786\"],[0.5555555555555556,\"#d8576b\"],[0.6666666666666666,\"#ed7953\"],[0.7777777777777778,\"#fb9f3a\"],[0.8888888888888888,\"#fdca26\"],[1.0,\"#f0f921\"]]}],\"contourcarpet\":[{\"type\":\"contourcarpet\",\"colorbar\":{\"outlinewidth\":0,\"ticks\":\"\"}}],\"contour\":[{\"type\":\"contour\",\"colorbar\":{\"outlinewidth\":0,\"ticks\":\"\"},\"colorscale\":[[0.0,\"#0d0887\"],[0.1111111111111111,\"#46039f\"],[0.2222222222222222,\"#7201a8\"],[0.3333333333333333,\"#9c179e\"],[0.4444444444444444,\"#bd3786\"],[0.5555555555555556,\"#d8576b\"],[0.6666666666666666,\"#ed7953\"],[0.7777777777777778,\"#fb9f3a\"],[0.8888888888888888,\"#fdca26\"],[1.0,\"#f0f921\"]]}],\"surface\":[{\"type\":\"surface\",\"colorbar\":{\"outlinewidth\":0,\"ticks\":\"\"},\"colorscale\":[[0.0,\"#0d0887\"],[0.1111111111111111,\"#46039f\"],[0.2222222222222222,\"#7201a8\"],[0.3333333333333333,\"#9c179e\"],[0.4444444444444444,\"#bd3786\"],[0.5555555555555556,\"#d8576b\"],[0.6666666666666666,\"#ed7953\"],[0.7777777777777778,\"#fb9f3a\"],[0.8888888888888888,\"#fdca26\"],[1.0,\"#f0f921\"]]}],\"mesh3d\":[{\"type\":\"mesh3d\",\"colorbar\":{\"outlinewidth\":0,\"ticks\":\"\"}}],\"scatter\":[{\"fillpattern\":{\"fillmode\":\"overlay\",\"size\":10,\"solidity\":0.2},\"type\":\"scatter\"}],\"parcoords\":[{\"type\":\"parcoords\",\"line\":{\"colorbar\":{\"outlinewidth\":0,\"ticks\":\"\"}}}],\"scatterpolargl\":[{\"type\":\"scatterpolargl\",\"marker\":{\"colorbar\":{\"outlinewidth\":0,\"ticks\":\"\"}}}],\"bar\":[{\"error_x\":{\"color\":\"#2a3f5f\"},\"error_y\":{\"color\":\"#2a3f5f\"},\"marker\":{\"line\":{\"color\":\"#E5ECF6\",\"width\":0.5},\"pattern\":{\"fillmode\":\"overlay\",\"size\":10,\"solidity\":0.2}},\"type\":\"bar\"}],\"scattergeo\":[{\"type\":\"scattergeo\",\"marker\":{\"colorbar\":{\"outlinewidth\":0,\"ticks\":\"\"}}}],\"scatterpolar\":[{\"type\":\"scatterpolar\",\"marker\":{\"colorbar\":{\"outlinewidth\":0,\"ticks\":\"\"}}}],\"histogram\":[{\"marker\":{\"pattern\":{\"fillmode\":\"overlay\",\"size\":10,\"solidity\":0.2}},\"type\":\"histogram\"}],\"scattergl\":[{\"type\":\"scattergl\",\"marker\":{\"colorbar\":{\"outlinewidth\":0,\"ticks\":\"\"}}}],\"scatter3d\":[{\"type\":\"scatter3d\",\"line\":{\"colorbar\":{\"outlinewidth\":0,\"ticks\":\"\"}},\"marker\":{\"colorbar\":{\"outlinewidth\":0,\"ticks\":\"\"}}}],\"scattermapbox\":[{\"type\":\"scattermapbox\",\"marker\":{\"colorbar\":{\"outlinewidth\":0,\"ticks\":\"\"}}}],\"scatterternary\":[{\"type\":\"scatterternary\",\"marker\":{\"colorbar\":{\"outlinewidth\":0,\"ticks\":\"\"}}}],\"scattercarpet\":[{\"type\":\"scattercarpet\",\"marker\":{\"colorbar\":{\"outlinewidth\":0,\"ticks\":\"\"}}}],\"carpet\":[{\"aaxis\":{\"endlinecolor\":\"#2a3f5f\",\"gridcolor\":\"white\",\"linecolor\":\"white\",\"minorgridcolor\":\"white\",\"startlinecolor\":\"#2a3f5f\"},\"baxis\":{\"endlinecolor\":\"#2a3f5f\",\"gridcolor\":\"white\",\"linecolor\":\"white\",\"minorgridcolor\":\"white\",\"startlinecolor\":\"#2a3f5f\"},\"type\":\"carpet\"}],\"table\":[{\"cells\":{\"fill\":{\"color\":\"#EBF0F8\"},\"line\":{\"color\":\"white\"}},\"header\":{\"fill\":{\"color\":\"#C8D4E3\"},\"line\":{\"color\":\"white\"}},\"type\":\"table\"}],\"barpolar\":[{\"marker\":{\"line\":{\"color\":\"#E5ECF6\",\"width\":0.5},\"pattern\":{\"fillmode\":\"overlay\",\"size\":10,\"solidity\":0.2}},\"type\":\"barpolar\"}],\"pie\":[{\"automargin\":true,\"type\":\"pie\"}]},\"layout\":{\"autotypenumbers\":\"strict\",\"colorway\":[\"#636efa\",\"#EF553B\",\"#00cc96\",\"#ab63fa\",\"#FFA15A\",\"#19d3f3\",\"#FF6692\",\"#B6E880\",\"#FF97FF\",\"#FECB52\"],\"font\":{\"color\":\"#2a3f5f\"},\"hovermode\":\"closest\",\"hoverlabel\":{\"align\":\"left\"},\"paper_bgcolor\":\"white\",\"plot_bgcolor\":\"#E5ECF6\",\"polar\":{\"bgcolor\":\"#E5ECF6\",\"angularaxis\":{\"gridcolor\":\"white\",\"linecolor\":\"white\",\"ticks\":\"\"},\"radialaxis\":{\"gridcolor\":\"white\",\"linecolor\":\"white\",\"ticks\":\"\"}},\"ternary\":{\"bgcolor\":\"#E5ECF6\",\"aaxis\":{\"gridcolor\":\"white\",\"linecolor\":\"white\",\"ticks\":\"\"},\"baxis\":{\"gridcolor\":\"white\",\"linecolor\":\"white\",\"ticks\":\"\"},\"caxis\":{\"gridcolor\":\"white\",\"linecolor\":\"white\",\"ticks\":\"\"}},\"coloraxis\":{\"colorbar\":{\"outlinewidth\":0,\"ticks\":\"\"}},\"colorscale\":{\"sequential\":[[0.0,\"#0d0887\"],[0.1111111111111111,\"#46039f\"],[0.2222222222222222,\"#7201a8\"],[0.3333333333333333,\"#9c179e\"],[0.4444444444444444,\"#bd3786\"],[0.5555555555555556,\"#d8576b\"],[0.6666666666666666,\"#ed7953\"],[0.7777777777777778,\"#fb9f3a\"],[0.8888888888888888,\"#fdca26\"],[1.0,\"#f0f921\"]],\"sequentialminus\":[[0.0,\"#0d0887\"],[0.1111111111111111,\"#46039f\"],[0.2222222222222222,\"#7201a8\"],[0.3333333333333333,\"#9c179e\"],[0.4444444444444444,\"#bd3786\"],[0.5555555555555556,\"#d8576b\"],[0.6666666666666666,\"#ed7953\"],[0.7777777777777778,\"#fb9f3a\"],[0.8888888888888888,\"#fdca26\"],[1.0,\"#f0f921\"]],\"diverging\":[[0,\"#8e0152\"],[0.1,\"#c51b7d\"],[0.2,\"#de77ae\"],[0.3,\"#f1b6da\"],[0.4,\"#fde0ef\"],[0.5,\"#f7f7f7\"],[0.6,\"#e6f5d0\"],[0.7,\"#b8e186\"],[0.8,\"#7fbc41\"],[0.9,\"#4d9221\"],[1,\"#276419\"]]},\"xaxis\":{\"gridcolor\":\"white\",\"linecolor\":\"white\",\"ticks\":\"\",\"title\":{\"standoff\":15},\"zerolinecolor\":\"white\",\"automargin\":true,\"zerolinewidth\":2},\"yaxis\":{\"gridcolor\":\"white\",\"linecolor\":\"white\",\"ticks\":\"\",\"title\":{\"standoff\":15},\"zerolinecolor\":\"white\",\"automargin\":true,\"zerolinewidth\":2},\"scene\":{\"xaxis\":{\"backgroundcolor\":\"#E5ECF6\",\"gridcolor\":\"white\",\"linecolor\":\"white\",\"showbackground\":true,\"ticks\":\"\",\"zerolinecolor\":\"white\",\"gridwidth\":2},\"yaxis\":{\"backgroundcolor\":\"#E5ECF6\",\"gridcolor\":\"white\",\"linecolor\":\"white\",\"showbackground\":true,\"ticks\":\"\",\"zerolinecolor\":\"white\",\"gridwidth\":2},\"zaxis\":{\"backgroundcolor\":\"#E5ECF6\",\"gridcolor\":\"white\",\"linecolor\":\"white\",\"showbackground\":true,\"ticks\":\"\",\"zerolinecolor\":\"white\",\"gridwidth\":2}},\"shapedefaults\":{\"line\":{\"color\":\"#2a3f5f\"}},\"annotationdefaults\":{\"arrowcolor\":\"#2a3f5f\",\"arrowhead\":0,\"arrowwidth\":1},\"geo\":{\"bgcolor\":\"white\",\"landcolor\":\"#E5ECF6\",\"subunitcolor\":\"white\",\"showland\":true,\"showlakes\":true,\"lakecolor\":\"white\"},\"title\":{\"x\":0.05},\"mapbox\":{\"style\":\"light\"}}},\"xaxis\":{\"anchor\":\"y\",\"domain\":[0.0,1.0],\"title\":{\"text\":\"feature_importances\"}},\"yaxis\":{\"anchor\":\"x\",\"domain\":[0.0,1.0],\"title\":{\"text\":\"weight\"}},\"legend\":{\"tracegroupgap\":0},\"title\":{\"text\":\"\\u0422\\u041e\\u041f-11 features for RandomForest\"},\"barmode\":\"relative\",\"height\":500,\"width\":1000},                        {\"responsive\": true}                    ).then(function(){\n",
       "                            \n",
       "var gd = document.getElementById('c2e38b49-70fe-47dd-ab4c-1d633a572228');\n",
       "var x = new MutationObserver(function (mutations, observer) {{\n",
       "        var display = window.getComputedStyle(gd).display;\n",
       "        if (!display || display === 'none') {{\n",
       "            console.log([gd, 'removed!']);\n",
       "            Plotly.purge(gd);\n",
       "            observer.disconnect();\n",
       "        }}\n",
       "}});\n",
       "\n",
       "// Listen for the removal of the full notebook cells\n",
       "var notebookContainer = gd.closest('#notebook-container');\n",
       "if (notebookContainer) {{\n",
       "    x.observe(notebookContainer, {childList: true});\n",
       "}}\n",
       "\n",
       "// Listen for the clearing of the current output cell\n",
       "var outputEl = gd.closest('.output');\n",
       "if (outputEl) {{\n",
       "    x.observe(outputEl, {childList: true});\n",
       "}}\n",
       "\n",
       "                        })                };                });            </script>        </div>"
      ]
     },
     "metadata": {},
     "output_type": "display_data"
    }
   ],
   "source": [
    "# визуализируем важные признаки в дереве решений\n",
    "oo = pd.DataFrame([random_forest.feature_importances_], columns=X_train_scal[new_best].columns)\n",
    "fig = px.bar( \n",
    "    x=list(oo.loc[0].sort_values(ascending=False).index),\n",
    "    y=round(oo.loc[0].sort_values(ascending=False), 2),\n",
    "    text_auto=True,\n",
    "    title='ТОП-11 features for RandomForest',\n",
    "    height=500, \n",
    "    width=1000,\n",
    "    labels={'x':'feature_importances', 'y':'weight'}\n",
    "       \n",
    ")\n",
    "fig.show()"
   ]
  },
  {
   "cell_type": "code",
   "execution_count": 163,
   "id": "434bbc63",
   "metadata": {},
   "outputs": [
    {
     "name": "stdout",
     "output_type": "stream",
     "text": [
      "MAE:\n",
      "For TRAIN = 123563.54\n",
      "For TEST = 132629.17\n",
      "\n",
      "MSE:\n",
      "For TRAIN = 46597215243\n",
      "For TEST = 56885521015\n",
      "\n",
      "R2:\n",
      "For TRAIN = 0.8\n",
      "For TEST = 0.74\n"
     ]
    }
   ],
   "source": [
    "# градиентный бустинг\n",
    "\n",
    "# Создаем объект класса градиентный бустинг\n",
    "gb = GradientBoostingRegressor(\n",
    "    max_depth=9, #максимальная глубина дерева\n",
    "    n_estimators=500, #количество деревьев в ансамбле\n",
    "    random_state=42, #датчик генератора случайных чисел\n",
    "    learning_rate=0.01\n",
    ")\n",
    "\n",
    "# Обучаем модель\n",
    "gb.fit(X_train_scal[new_best], y_train)\n",
    "\n",
    "# Формируем предсказание для тестовой выборки\n",
    "\n",
    "y_train_pred  = gb.predict(X_train_scal[new_best])\n",
    "y_test_pred = gb.predict(X_test_scal[new_best])\n",
    "\n",
    "metrics_func(y_train, y_train_pred, y_test, y_test_pred)"
   ]
  },
  {
   "cell_type": "code",
   "execution_count": 164,
   "id": "2fbc70ef",
   "metadata": {},
   "outputs": [
    {
     "data": {
      "application/vnd.plotly.v1+json": {
       "config": {
        "plotlyServerURL": "https://plot.ly"
       },
       "data": [
        {
         "alignmentgroup": "True",
         "hovertemplate": "feature_importances=%{x}<br>weight=%{y}<extra></extra>",
         "legendgroup": "",
         "marker": {
          "color": "#636efa",
          "pattern": {
           "shape": ""
          }
         },
         "name": "",
         "offsetgroup": "",
         "orientation": "v",
         "showlegend": false,
         "textposition": "auto",
         "texttemplate": "%{y}",
         "type": "bar",
         "x": [
          "sqft",
          "zipcode",
          "longitude",
          "latitude",
          "baths",
          "lotsize",
          "age",
          "rating_mean",
          "distance_mean",
          "stories",
          "beds"
         ],
         "xaxis": "x",
         "y": [
          0.33,
          0.19,
          0.14,
          0.12,
          0.07,
          0.04,
          0.04,
          0.04,
          0.02,
          0.02,
          0.01
         ],
         "yaxis": "y"
        }
       ],
       "layout": {
        "barmode": "relative",
        "height": 500,
        "legend": {
         "tracegroupgap": 0
        },
        "template": {
         "data": {
          "bar": [
           {
            "error_x": {
             "color": "#2a3f5f"
            },
            "error_y": {
             "color": "#2a3f5f"
            },
            "marker": {
             "line": {
              "color": "#E5ECF6",
              "width": 0.5
             },
             "pattern": {
              "fillmode": "overlay",
              "size": 10,
              "solidity": 0.2
             }
            },
            "type": "bar"
           }
          ],
          "barpolar": [
           {
            "marker": {
             "line": {
              "color": "#E5ECF6",
              "width": 0.5
             },
             "pattern": {
              "fillmode": "overlay",
              "size": 10,
              "solidity": 0.2
             }
            },
            "type": "barpolar"
           }
          ],
          "carpet": [
           {
            "aaxis": {
             "endlinecolor": "#2a3f5f",
             "gridcolor": "white",
             "linecolor": "white",
             "minorgridcolor": "white",
             "startlinecolor": "#2a3f5f"
            },
            "baxis": {
             "endlinecolor": "#2a3f5f",
             "gridcolor": "white",
             "linecolor": "white",
             "minorgridcolor": "white",
             "startlinecolor": "#2a3f5f"
            },
            "type": "carpet"
           }
          ],
          "choropleth": [
           {
            "colorbar": {
             "outlinewidth": 0,
             "ticks": ""
            },
            "type": "choropleth"
           }
          ],
          "contour": [
           {
            "colorbar": {
             "outlinewidth": 0,
             "ticks": ""
            },
            "colorscale": [
             [
              0,
              "#0d0887"
             ],
             [
              0.1111111111111111,
              "#46039f"
             ],
             [
              0.2222222222222222,
              "#7201a8"
             ],
             [
              0.3333333333333333,
              "#9c179e"
             ],
             [
              0.4444444444444444,
              "#bd3786"
             ],
             [
              0.5555555555555556,
              "#d8576b"
             ],
             [
              0.6666666666666666,
              "#ed7953"
             ],
             [
              0.7777777777777778,
              "#fb9f3a"
             ],
             [
              0.8888888888888888,
              "#fdca26"
             ],
             [
              1,
              "#f0f921"
             ]
            ],
            "type": "contour"
           }
          ],
          "contourcarpet": [
           {
            "colorbar": {
             "outlinewidth": 0,
             "ticks": ""
            },
            "type": "contourcarpet"
           }
          ],
          "heatmap": [
           {
            "colorbar": {
             "outlinewidth": 0,
             "ticks": ""
            },
            "colorscale": [
             [
              0,
              "#0d0887"
             ],
             [
              0.1111111111111111,
              "#46039f"
             ],
             [
              0.2222222222222222,
              "#7201a8"
             ],
             [
              0.3333333333333333,
              "#9c179e"
             ],
             [
              0.4444444444444444,
              "#bd3786"
             ],
             [
              0.5555555555555556,
              "#d8576b"
             ],
             [
              0.6666666666666666,
              "#ed7953"
             ],
             [
              0.7777777777777778,
              "#fb9f3a"
             ],
             [
              0.8888888888888888,
              "#fdca26"
             ],
             [
              1,
              "#f0f921"
             ]
            ],
            "type": "heatmap"
           }
          ],
          "heatmapgl": [
           {
            "colorbar": {
             "outlinewidth": 0,
             "ticks": ""
            },
            "colorscale": [
             [
              0,
              "#0d0887"
             ],
             [
              0.1111111111111111,
              "#46039f"
             ],
             [
              0.2222222222222222,
              "#7201a8"
             ],
             [
              0.3333333333333333,
              "#9c179e"
             ],
             [
              0.4444444444444444,
              "#bd3786"
             ],
             [
              0.5555555555555556,
              "#d8576b"
             ],
             [
              0.6666666666666666,
              "#ed7953"
             ],
             [
              0.7777777777777778,
              "#fb9f3a"
             ],
             [
              0.8888888888888888,
              "#fdca26"
             ],
             [
              1,
              "#f0f921"
             ]
            ],
            "type": "heatmapgl"
           }
          ],
          "histogram": [
           {
            "marker": {
             "pattern": {
              "fillmode": "overlay",
              "size": 10,
              "solidity": 0.2
             }
            },
            "type": "histogram"
           }
          ],
          "histogram2d": [
           {
            "colorbar": {
             "outlinewidth": 0,
             "ticks": ""
            },
            "colorscale": [
             [
              0,
              "#0d0887"
             ],
             [
              0.1111111111111111,
              "#46039f"
             ],
             [
              0.2222222222222222,
              "#7201a8"
             ],
             [
              0.3333333333333333,
              "#9c179e"
             ],
             [
              0.4444444444444444,
              "#bd3786"
             ],
             [
              0.5555555555555556,
              "#d8576b"
             ],
             [
              0.6666666666666666,
              "#ed7953"
             ],
             [
              0.7777777777777778,
              "#fb9f3a"
             ],
             [
              0.8888888888888888,
              "#fdca26"
             ],
             [
              1,
              "#f0f921"
             ]
            ],
            "type": "histogram2d"
           }
          ],
          "histogram2dcontour": [
           {
            "colorbar": {
             "outlinewidth": 0,
             "ticks": ""
            },
            "colorscale": [
             [
              0,
              "#0d0887"
             ],
             [
              0.1111111111111111,
              "#46039f"
             ],
             [
              0.2222222222222222,
              "#7201a8"
             ],
             [
              0.3333333333333333,
              "#9c179e"
             ],
             [
              0.4444444444444444,
              "#bd3786"
             ],
             [
              0.5555555555555556,
              "#d8576b"
             ],
             [
              0.6666666666666666,
              "#ed7953"
             ],
             [
              0.7777777777777778,
              "#fb9f3a"
             ],
             [
              0.8888888888888888,
              "#fdca26"
             ],
             [
              1,
              "#f0f921"
             ]
            ],
            "type": "histogram2dcontour"
           }
          ],
          "mesh3d": [
           {
            "colorbar": {
             "outlinewidth": 0,
             "ticks": ""
            },
            "type": "mesh3d"
           }
          ],
          "parcoords": [
           {
            "line": {
             "colorbar": {
              "outlinewidth": 0,
              "ticks": ""
             }
            },
            "type": "parcoords"
           }
          ],
          "pie": [
           {
            "automargin": true,
            "type": "pie"
           }
          ],
          "scatter": [
           {
            "fillpattern": {
             "fillmode": "overlay",
             "size": 10,
             "solidity": 0.2
            },
            "type": "scatter"
           }
          ],
          "scatter3d": [
           {
            "line": {
             "colorbar": {
              "outlinewidth": 0,
              "ticks": ""
             }
            },
            "marker": {
             "colorbar": {
              "outlinewidth": 0,
              "ticks": ""
             }
            },
            "type": "scatter3d"
           }
          ],
          "scattercarpet": [
           {
            "marker": {
             "colorbar": {
              "outlinewidth": 0,
              "ticks": ""
             }
            },
            "type": "scattercarpet"
           }
          ],
          "scattergeo": [
           {
            "marker": {
             "colorbar": {
              "outlinewidth": 0,
              "ticks": ""
             }
            },
            "type": "scattergeo"
           }
          ],
          "scattergl": [
           {
            "marker": {
             "colorbar": {
              "outlinewidth": 0,
              "ticks": ""
             }
            },
            "type": "scattergl"
           }
          ],
          "scattermapbox": [
           {
            "marker": {
             "colorbar": {
              "outlinewidth": 0,
              "ticks": ""
             }
            },
            "type": "scattermapbox"
           }
          ],
          "scatterpolar": [
           {
            "marker": {
             "colorbar": {
              "outlinewidth": 0,
              "ticks": ""
             }
            },
            "type": "scatterpolar"
           }
          ],
          "scatterpolargl": [
           {
            "marker": {
             "colorbar": {
              "outlinewidth": 0,
              "ticks": ""
             }
            },
            "type": "scatterpolargl"
           }
          ],
          "scatterternary": [
           {
            "marker": {
             "colorbar": {
              "outlinewidth": 0,
              "ticks": ""
             }
            },
            "type": "scatterternary"
           }
          ],
          "surface": [
           {
            "colorbar": {
             "outlinewidth": 0,
             "ticks": ""
            },
            "colorscale": [
             [
              0,
              "#0d0887"
             ],
             [
              0.1111111111111111,
              "#46039f"
             ],
             [
              0.2222222222222222,
              "#7201a8"
             ],
             [
              0.3333333333333333,
              "#9c179e"
             ],
             [
              0.4444444444444444,
              "#bd3786"
             ],
             [
              0.5555555555555556,
              "#d8576b"
             ],
             [
              0.6666666666666666,
              "#ed7953"
             ],
             [
              0.7777777777777778,
              "#fb9f3a"
             ],
             [
              0.8888888888888888,
              "#fdca26"
             ],
             [
              1,
              "#f0f921"
             ]
            ],
            "type": "surface"
           }
          ],
          "table": [
           {
            "cells": {
             "fill": {
              "color": "#EBF0F8"
             },
             "line": {
              "color": "white"
             }
            },
            "header": {
             "fill": {
              "color": "#C8D4E3"
             },
             "line": {
              "color": "white"
             }
            },
            "type": "table"
           }
          ]
         },
         "layout": {
          "annotationdefaults": {
           "arrowcolor": "#2a3f5f",
           "arrowhead": 0,
           "arrowwidth": 1
          },
          "autotypenumbers": "strict",
          "coloraxis": {
           "colorbar": {
            "outlinewidth": 0,
            "ticks": ""
           }
          },
          "colorscale": {
           "diverging": [
            [
             0,
             "#8e0152"
            ],
            [
             0.1,
             "#c51b7d"
            ],
            [
             0.2,
             "#de77ae"
            ],
            [
             0.3,
             "#f1b6da"
            ],
            [
             0.4,
             "#fde0ef"
            ],
            [
             0.5,
             "#f7f7f7"
            ],
            [
             0.6,
             "#e6f5d0"
            ],
            [
             0.7,
             "#b8e186"
            ],
            [
             0.8,
             "#7fbc41"
            ],
            [
             0.9,
             "#4d9221"
            ],
            [
             1,
             "#276419"
            ]
           ],
           "sequential": [
            [
             0,
             "#0d0887"
            ],
            [
             0.1111111111111111,
             "#46039f"
            ],
            [
             0.2222222222222222,
             "#7201a8"
            ],
            [
             0.3333333333333333,
             "#9c179e"
            ],
            [
             0.4444444444444444,
             "#bd3786"
            ],
            [
             0.5555555555555556,
             "#d8576b"
            ],
            [
             0.6666666666666666,
             "#ed7953"
            ],
            [
             0.7777777777777778,
             "#fb9f3a"
            ],
            [
             0.8888888888888888,
             "#fdca26"
            ],
            [
             1,
             "#f0f921"
            ]
           ],
           "sequentialminus": [
            [
             0,
             "#0d0887"
            ],
            [
             0.1111111111111111,
             "#46039f"
            ],
            [
             0.2222222222222222,
             "#7201a8"
            ],
            [
             0.3333333333333333,
             "#9c179e"
            ],
            [
             0.4444444444444444,
             "#bd3786"
            ],
            [
             0.5555555555555556,
             "#d8576b"
            ],
            [
             0.6666666666666666,
             "#ed7953"
            ],
            [
             0.7777777777777778,
             "#fb9f3a"
            ],
            [
             0.8888888888888888,
             "#fdca26"
            ],
            [
             1,
             "#f0f921"
            ]
           ]
          },
          "colorway": [
           "#636efa",
           "#EF553B",
           "#00cc96",
           "#ab63fa",
           "#FFA15A",
           "#19d3f3",
           "#FF6692",
           "#B6E880",
           "#FF97FF",
           "#FECB52"
          ],
          "font": {
           "color": "#2a3f5f"
          },
          "geo": {
           "bgcolor": "white",
           "lakecolor": "white",
           "landcolor": "#E5ECF6",
           "showlakes": true,
           "showland": true,
           "subunitcolor": "white"
          },
          "hoverlabel": {
           "align": "left"
          },
          "hovermode": "closest",
          "mapbox": {
           "style": "light"
          },
          "paper_bgcolor": "white",
          "plot_bgcolor": "#E5ECF6",
          "polar": {
           "angularaxis": {
            "gridcolor": "white",
            "linecolor": "white",
            "ticks": ""
           },
           "bgcolor": "#E5ECF6",
           "radialaxis": {
            "gridcolor": "white",
            "linecolor": "white",
            "ticks": ""
           }
          },
          "scene": {
           "xaxis": {
            "backgroundcolor": "#E5ECF6",
            "gridcolor": "white",
            "gridwidth": 2,
            "linecolor": "white",
            "showbackground": true,
            "ticks": "",
            "zerolinecolor": "white"
           },
           "yaxis": {
            "backgroundcolor": "#E5ECF6",
            "gridcolor": "white",
            "gridwidth": 2,
            "linecolor": "white",
            "showbackground": true,
            "ticks": "",
            "zerolinecolor": "white"
           },
           "zaxis": {
            "backgroundcolor": "#E5ECF6",
            "gridcolor": "white",
            "gridwidth": 2,
            "linecolor": "white",
            "showbackground": true,
            "ticks": "",
            "zerolinecolor": "white"
           }
          },
          "shapedefaults": {
           "line": {
            "color": "#2a3f5f"
           }
          },
          "ternary": {
           "aaxis": {
            "gridcolor": "white",
            "linecolor": "white",
            "ticks": ""
           },
           "baxis": {
            "gridcolor": "white",
            "linecolor": "white",
            "ticks": ""
           },
           "bgcolor": "#E5ECF6",
           "caxis": {
            "gridcolor": "white",
            "linecolor": "white",
            "ticks": ""
           }
          },
          "title": {
           "x": 0.05
          },
          "xaxis": {
           "automargin": true,
           "gridcolor": "white",
           "linecolor": "white",
           "ticks": "",
           "title": {
            "standoff": 15
           },
           "zerolinecolor": "white",
           "zerolinewidth": 2
          },
          "yaxis": {
           "automargin": true,
           "gridcolor": "white",
           "linecolor": "white",
           "ticks": "",
           "title": {
            "standoff": 15
           },
           "zerolinecolor": "white",
           "zerolinewidth": 2
          }
         }
        },
        "title": {
         "text": "ТОП-11 features for GradientBoosting"
        },
        "width": 1000,
        "xaxis": {
         "anchor": "y",
         "domain": [
          0,
          1
         ],
         "title": {
          "text": "feature_importances"
         }
        },
        "yaxis": {
         "anchor": "x",
         "domain": [
          0,
          1
         ],
         "title": {
          "text": "weight"
         }
        }
       }
      },
      "text/html": [
       "<div>                            <div id=\"7ebf12f2-2c64-4ce4-a614-485818b761c9\" class=\"plotly-graph-div\" style=\"height:500px; width:1000px;\"></div>            <script type=\"text/javascript\">                require([\"plotly\"], function(Plotly) {                    window.PLOTLYENV=window.PLOTLYENV || {};                                    if (document.getElementById(\"7ebf12f2-2c64-4ce4-a614-485818b761c9\")) {                    Plotly.newPlot(                        \"7ebf12f2-2c64-4ce4-a614-485818b761c9\",                        [{\"alignmentgroup\":\"True\",\"hovertemplate\":\"feature_importances=%{x}\\u003cbr\\u003eweight=%{y}\\u003cextra\\u003e\\u003c\\u002fextra\\u003e\",\"legendgroup\":\"\",\"marker\":{\"color\":\"#636efa\",\"pattern\":{\"shape\":\"\"}},\"name\":\"\",\"offsetgroup\":\"\",\"orientation\":\"v\",\"showlegend\":false,\"textposition\":\"auto\",\"texttemplate\":\"%{y}\",\"x\":[\"sqft\",\"zipcode\",\"longitude\",\"latitude\",\"baths\",\"lotsize\",\"age\",\"rating_mean\",\"distance_mean\",\"stories\",\"beds\"],\"xaxis\":\"x\",\"y\":[0.33,0.19,0.14,0.12,0.07,0.04,0.04,0.04,0.02,0.02,0.01],\"yaxis\":\"y\",\"type\":\"bar\"}],                        {\"template\":{\"data\":{\"histogram2dcontour\":[{\"type\":\"histogram2dcontour\",\"colorbar\":{\"outlinewidth\":0,\"ticks\":\"\"},\"colorscale\":[[0.0,\"#0d0887\"],[0.1111111111111111,\"#46039f\"],[0.2222222222222222,\"#7201a8\"],[0.3333333333333333,\"#9c179e\"],[0.4444444444444444,\"#bd3786\"],[0.5555555555555556,\"#d8576b\"],[0.6666666666666666,\"#ed7953\"],[0.7777777777777778,\"#fb9f3a\"],[0.8888888888888888,\"#fdca26\"],[1.0,\"#f0f921\"]]}],\"choropleth\":[{\"type\":\"choropleth\",\"colorbar\":{\"outlinewidth\":0,\"ticks\":\"\"}}],\"histogram2d\":[{\"type\":\"histogram2d\",\"colorbar\":{\"outlinewidth\":0,\"ticks\":\"\"},\"colorscale\":[[0.0,\"#0d0887\"],[0.1111111111111111,\"#46039f\"],[0.2222222222222222,\"#7201a8\"],[0.3333333333333333,\"#9c179e\"],[0.4444444444444444,\"#bd3786\"],[0.5555555555555556,\"#d8576b\"],[0.6666666666666666,\"#ed7953\"],[0.7777777777777778,\"#fb9f3a\"],[0.8888888888888888,\"#fdca26\"],[1.0,\"#f0f921\"]]}],\"heatmap\":[{\"type\":\"heatmap\",\"colorbar\":{\"outlinewidth\":0,\"ticks\":\"\"},\"colorscale\":[[0.0,\"#0d0887\"],[0.1111111111111111,\"#46039f\"],[0.2222222222222222,\"#7201a8\"],[0.3333333333333333,\"#9c179e\"],[0.4444444444444444,\"#bd3786\"],[0.5555555555555556,\"#d8576b\"],[0.6666666666666666,\"#ed7953\"],[0.7777777777777778,\"#fb9f3a\"],[0.8888888888888888,\"#fdca26\"],[1.0,\"#f0f921\"]]}],\"heatmapgl\":[{\"type\":\"heatmapgl\",\"colorbar\":{\"outlinewidth\":0,\"ticks\":\"\"},\"colorscale\":[[0.0,\"#0d0887\"],[0.1111111111111111,\"#46039f\"],[0.2222222222222222,\"#7201a8\"],[0.3333333333333333,\"#9c179e\"],[0.4444444444444444,\"#bd3786\"],[0.5555555555555556,\"#d8576b\"],[0.6666666666666666,\"#ed7953\"],[0.7777777777777778,\"#fb9f3a\"],[0.8888888888888888,\"#fdca26\"],[1.0,\"#f0f921\"]]}],\"contourcarpet\":[{\"type\":\"contourcarpet\",\"colorbar\":{\"outlinewidth\":0,\"ticks\":\"\"}}],\"contour\":[{\"type\":\"contour\",\"colorbar\":{\"outlinewidth\":0,\"ticks\":\"\"},\"colorscale\":[[0.0,\"#0d0887\"],[0.1111111111111111,\"#46039f\"],[0.2222222222222222,\"#7201a8\"],[0.3333333333333333,\"#9c179e\"],[0.4444444444444444,\"#bd3786\"],[0.5555555555555556,\"#d8576b\"],[0.6666666666666666,\"#ed7953\"],[0.7777777777777778,\"#fb9f3a\"],[0.8888888888888888,\"#fdca26\"],[1.0,\"#f0f921\"]]}],\"surface\":[{\"type\":\"surface\",\"colorbar\":{\"outlinewidth\":0,\"ticks\":\"\"},\"colorscale\":[[0.0,\"#0d0887\"],[0.1111111111111111,\"#46039f\"],[0.2222222222222222,\"#7201a8\"],[0.3333333333333333,\"#9c179e\"],[0.4444444444444444,\"#bd3786\"],[0.5555555555555556,\"#d8576b\"],[0.6666666666666666,\"#ed7953\"],[0.7777777777777778,\"#fb9f3a\"],[0.8888888888888888,\"#fdca26\"],[1.0,\"#f0f921\"]]}],\"mesh3d\":[{\"type\":\"mesh3d\",\"colorbar\":{\"outlinewidth\":0,\"ticks\":\"\"}}],\"scatter\":[{\"fillpattern\":{\"fillmode\":\"overlay\",\"size\":10,\"solidity\":0.2},\"type\":\"scatter\"}],\"parcoords\":[{\"type\":\"parcoords\",\"line\":{\"colorbar\":{\"outlinewidth\":0,\"ticks\":\"\"}}}],\"scatterpolargl\":[{\"type\":\"scatterpolargl\",\"marker\":{\"colorbar\":{\"outlinewidth\":0,\"ticks\":\"\"}}}],\"bar\":[{\"error_x\":{\"color\":\"#2a3f5f\"},\"error_y\":{\"color\":\"#2a3f5f\"},\"marker\":{\"line\":{\"color\":\"#E5ECF6\",\"width\":0.5},\"pattern\":{\"fillmode\":\"overlay\",\"size\":10,\"solidity\":0.2}},\"type\":\"bar\"}],\"scattergeo\":[{\"type\":\"scattergeo\",\"marker\":{\"colorbar\":{\"outlinewidth\":0,\"ticks\":\"\"}}}],\"scatterpolar\":[{\"type\":\"scatterpolar\",\"marker\":{\"colorbar\":{\"outlinewidth\":0,\"ticks\":\"\"}}}],\"histogram\":[{\"marker\":{\"pattern\":{\"fillmode\":\"overlay\",\"size\":10,\"solidity\":0.2}},\"type\":\"histogram\"}],\"scattergl\":[{\"type\":\"scattergl\",\"marker\":{\"colorbar\":{\"outlinewidth\":0,\"ticks\":\"\"}}}],\"scatter3d\":[{\"type\":\"scatter3d\",\"line\":{\"colorbar\":{\"outlinewidth\":0,\"ticks\":\"\"}},\"marker\":{\"colorbar\":{\"outlinewidth\":0,\"ticks\":\"\"}}}],\"scattermapbox\":[{\"type\":\"scattermapbox\",\"marker\":{\"colorbar\":{\"outlinewidth\":0,\"ticks\":\"\"}}}],\"scatterternary\":[{\"type\":\"scatterternary\",\"marker\":{\"colorbar\":{\"outlinewidth\":0,\"ticks\":\"\"}}}],\"scattercarpet\":[{\"type\":\"scattercarpet\",\"marker\":{\"colorbar\":{\"outlinewidth\":0,\"ticks\":\"\"}}}],\"carpet\":[{\"aaxis\":{\"endlinecolor\":\"#2a3f5f\",\"gridcolor\":\"white\",\"linecolor\":\"white\",\"minorgridcolor\":\"white\",\"startlinecolor\":\"#2a3f5f\"},\"baxis\":{\"endlinecolor\":\"#2a3f5f\",\"gridcolor\":\"white\",\"linecolor\":\"white\",\"minorgridcolor\":\"white\",\"startlinecolor\":\"#2a3f5f\"},\"type\":\"carpet\"}],\"table\":[{\"cells\":{\"fill\":{\"color\":\"#EBF0F8\"},\"line\":{\"color\":\"white\"}},\"header\":{\"fill\":{\"color\":\"#C8D4E3\"},\"line\":{\"color\":\"white\"}},\"type\":\"table\"}],\"barpolar\":[{\"marker\":{\"line\":{\"color\":\"#E5ECF6\",\"width\":0.5},\"pattern\":{\"fillmode\":\"overlay\",\"size\":10,\"solidity\":0.2}},\"type\":\"barpolar\"}],\"pie\":[{\"automargin\":true,\"type\":\"pie\"}]},\"layout\":{\"autotypenumbers\":\"strict\",\"colorway\":[\"#636efa\",\"#EF553B\",\"#00cc96\",\"#ab63fa\",\"#FFA15A\",\"#19d3f3\",\"#FF6692\",\"#B6E880\",\"#FF97FF\",\"#FECB52\"],\"font\":{\"color\":\"#2a3f5f\"},\"hovermode\":\"closest\",\"hoverlabel\":{\"align\":\"left\"},\"paper_bgcolor\":\"white\",\"plot_bgcolor\":\"#E5ECF6\",\"polar\":{\"bgcolor\":\"#E5ECF6\",\"angularaxis\":{\"gridcolor\":\"white\",\"linecolor\":\"white\",\"ticks\":\"\"},\"radialaxis\":{\"gridcolor\":\"white\",\"linecolor\":\"white\",\"ticks\":\"\"}},\"ternary\":{\"bgcolor\":\"#E5ECF6\",\"aaxis\":{\"gridcolor\":\"white\",\"linecolor\":\"white\",\"ticks\":\"\"},\"baxis\":{\"gridcolor\":\"white\",\"linecolor\":\"white\",\"ticks\":\"\"},\"caxis\":{\"gridcolor\":\"white\",\"linecolor\":\"white\",\"ticks\":\"\"}},\"coloraxis\":{\"colorbar\":{\"outlinewidth\":0,\"ticks\":\"\"}},\"colorscale\":{\"sequential\":[[0.0,\"#0d0887\"],[0.1111111111111111,\"#46039f\"],[0.2222222222222222,\"#7201a8\"],[0.3333333333333333,\"#9c179e\"],[0.4444444444444444,\"#bd3786\"],[0.5555555555555556,\"#d8576b\"],[0.6666666666666666,\"#ed7953\"],[0.7777777777777778,\"#fb9f3a\"],[0.8888888888888888,\"#fdca26\"],[1.0,\"#f0f921\"]],\"sequentialminus\":[[0.0,\"#0d0887\"],[0.1111111111111111,\"#46039f\"],[0.2222222222222222,\"#7201a8\"],[0.3333333333333333,\"#9c179e\"],[0.4444444444444444,\"#bd3786\"],[0.5555555555555556,\"#d8576b\"],[0.6666666666666666,\"#ed7953\"],[0.7777777777777778,\"#fb9f3a\"],[0.8888888888888888,\"#fdca26\"],[1.0,\"#f0f921\"]],\"diverging\":[[0,\"#8e0152\"],[0.1,\"#c51b7d\"],[0.2,\"#de77ae\"],[0.3,\"#f1b6da\"],[0.4,\"#fde0ef\"],[0.5,\"#f7f7f7\"],[0.6,\"#e6f5d0\"],[0.7,\"#b8e186\"],[0.8,\"#7fbc41\"],[0.9,\"#4d9221\"],[1,\"#276419\"]]},\"xaxis\":{\"gridcolor\":\"white\",\"linecolor\":\"white\",\"ticks\":\"\",\"title\":{\"standoff\":15},\"zerolinecolor\":\"white\",\"automargin\":true,\"zerolinewidth\":2},\"yaxis\":{\"gridcolor\":\"white\",\"linecolor\":\"white\",\"ticks\":\"\",\"title\":{\"standoff\":15},\"zerolinecolor\":\"white\",\"automargin\":true,\"zerolinewidth\":2},\"scene\":{\"xaxis\":{\"backgroundcolor\":\"#E5ECF6\",\"gridcolor\":\"white\",\"linecolor\":\"white\",\"showbackground\":true,\"ticks\":\"\",\"zerolinecolor\":\"white\",\"gridwidth\":2},\"yaxis\":{\"backgroundcolor\":\"#E5ECF6\",\"gridcolor\":\"white\",\"linecolor\":\"white\",\"showbackground\":true,\"ticks\":\"\",\"zerolinecolor\":\"white\",\"gridwidth\":2},\"zaxis\":{\"backgroundcolor\":\"#E5ECF6\",\"gridcolor\":\"white\",\"linecolor\":\"white\",\"showbackground\":true,\"ticks\":\"\",\"zerolinecolor\":\"white\",\"gridwidth\":2}},\"shapedefaults\":{\"line\":{\"color\":\"#2a3f5f\"}},\"annotationdefaults\":{\"arrowcolor\":\"#2a3f5f\",\"arrowhead\":0,\"arrowwidth\":1},\"geo\":{\"bgcolor\":\"white\",\"landcolor\":\"#E5ECF6\",\"subunitcolor\":\"white\",\"showland\":true,\"showlakes\":true,\"lakecolor\":\"white\"},\"title\":{\"x\":0.05},\"mapbox\":{\"style\":\"light\"}}},\"xaxis\":{\"anchor\":\"y\",\"domain\":[0.0,1.0],\"title\":{\"text\":\"feature_importances\"}},\"yaxis\":{\"anchor\":\"x\",\"domain\":[0.0,1.0],\"title\":{\"text\":\"weight\"}},\"legend\":{\"tracegroupgap\":0},\"title\":{\"text\":\"\\u0422\\u041e\\u041f-11 features for GradientBoosting\"},\"barmode\":\"relative\",\"height\":500,\"width\":1000},                        {\"responsive\": true}                    ).then(function(){\n",
       "                            \n",
       "var gd = document.getElementById('7ebf12f2-2c64-4ce4-a614-485818b761c9');\n",
       "var x = new MutationObserver(function (mutations, observer) {{\n",
       "        var display = window.getComputedStyle(gd).display;\n",
       "        if (!display || display === 'none') {{\n",
       "            console.log([gd, 'removed!']);\n",
       "            Plotly.purge(gd);\n",
       "            observer.disconnect();\n",
       "        }}\n",
       "}});\n",
       "\n",
       "// Listen for the removal of the full notebook cells\n",
       "var notebookContainer = gd.closest('#notebook-container');\n",
       "if (notebookContainer) {{\n",
       "    x.observe(notebookContainer, {childList: true});\n",
       "}}\n",
       "\n",
       "// Listen for the clearing of the current output cell\n",
       "var outputEl = gd.closest('.output');\n",
       "if (outputEl) {{\n",
       "    x.observe(outputEl, {childList: true});\n",
       "}}\n",
       "\n",
       "                        })                };                });            </script>        </div>"
      ]
     },
     "metadata": {},
     "output_type": "display_data"
    }
   ],
   "source": [
    "# визуализируем важные признаки в градинетном бустинге\n",
    "aa = pd.DataFrame([gb.feature_importances_], columns=X_train_scal[new_best].columns)\n",
    "fig = px.bar( \n",
    "    x=list(aa.loc[0].sort_values(ascending=False).index),\n",
    "    y=round(aa.loc[0].sort_values(ascending=False), 2),\n",
    "    text_auto=True,\n",
    "    title='ТОП-11 features for GradientBoosting',\n",
    "    height=500, \n",
    "    width=1000,\n",
    "    labels={'x':'feature_importances', 'y':'weight'}\n",
    "       \n",
    ")\n",
    "fig.show()"
   ]
  },
  {
   "cell_type": "code",
   "execution_count": 165,
   "id": "95be27d0",
   "metadata": {},
   "outputs": [
    {
     "name": "stdout",
     "output_type": "stream",
     "text": [
      "['sqft', 'longitude', 'latitude', 'zipcode', 'baths', 'age', 'rating_mean', 'lotsize', 'stories', 'distance_mean', 'beds']\n",
      "4              sqft\n",
      "3         longitude\n",
      "2          latitude\n",
      "1           zipcode\n",
      "0             baths\n",
      "8               age\n",
      "9       rating_mean\n",
      "7           lotsize\n",
      "5           stories\n",
      "10    distance_mean\n",
      "6              beds\n",
      "Name: feature_names, dtype: object\n"
     ]
    }
   ],
   "source": [
    "#X_train_scal[new_best].columns\n",
    "missing = set(new_best) - set(X_train_scal.columns)\n",
    "if missing:\n",
    "    print(f\"Отсутствующие колонки: {missing}\")\n",
    "# Убедитесь, что new_best содержит допустимые имена колонок\n",
    "valid_columns = [col for col in new_best if col in X_train_scal.columns]\n",
    "print(valid_columns)\n",
    "print(new_best)\n"
   ]
  },
  {
   "cell_type": "code",
   "execution_count": 166,
   "id": "51eb264e",
   "metadata": {},
   "outputs": [
    {
     "name": "stdout",
     "output_type": "stream",
     "text": [
      "[0]\ttrain-rmse:455414.03076\tvalid-rmse:449595.52497\n",
      "[10]\ttrain-rmse:344313.87057\tvalid-rmse:341031.41517\n",
      "[20]\ttrain-rmse:309832.12599\tvalid-rmse:308447.01423\n",
      "[30]\ttrain-rmse:293666.16678\tvalid-rmse:293220.24417\n",
      "[40]\ttrain-rmse:283152.85261\tvalid-rmse:283432.54566\n",
      "[50]\ttrain-rmse:276106.89104\tvalid-rmse:276908.62876\n",
      "[60]\ttrain-rmse:270635.28411\tvalid-rmse:271984.56675\n",
      "[70]\ttrain-rmse:267320.79038\tvalid-rmse:269158.09267\n",
      "[80]\ttrain-rmse:262858.61968\tvalid-rmse:265260.48034\n",
      "[90]\ttrain-rmse:260441.77812\tvalid-rmse:263243.64839\n",
      "[100]\ttrain-rmse:256958.08260\tvalid-rmse:260265.85041\n",
      "[110]\ttrain-rmse:253871.94002\tvalid-rmse:257576.85345\n",
      "[120]\ttrain-rmse:251643.66168\tvalid-rmse:255767.23426\n",
      "[130]\ttrain-rmse:249197.32004\tvalid-rmse:253800.73263\n",
      "[140]\ttrain-rmse:246943.72964\tvalid-rmse:251958.91872\n",
      "[150]\ttrain-rmse:245436.21120\tvalid-rmse:250828.06710\n",
      "[160]\ttrain-rmse:244161.95875\tvalid-rmse:249940.69000\n",
      "[170]\ttrain-rmse:242488.25115\tvalid-rmse:248572.62899\n",
      "[180]\ttrain-rmse:241173.25861\tvalid-rmse:247568.29537\n",
      "[190]\ttrain-rmse:239999.08647\tvalid-rmse:246698.03029\n",
      "[200]\ttrain-rmse:238641.78644\tvalid-rmse:245669.67991\n",
      "[210]\ttrain-rmse:237328.93211\tvalid-rmse:244783.19472\n",
      "[220]\ttrain-rmse:236127.01302\tvalid-rmse:243996.71552\n",
      "[230]\ttrain-rmse:235108.26865\tvalid-rmse:243324.67196\n",
      "[240]\ttrain-rmse:234189.77380\tvalid-rmse:242731.72006\n",
      "[250]\ttrain-rmse:233231.84066\tvalid-rmse:242108.72712\n",
      "[260]\ttrain-rmse:232274.15016\tvalid-rmse:241497.01566\n",
      "[270]\ttrain-rmse:231289.81907\tvalid-rmse:240845.33040\n",
      "[280]\ttrain-rmse:230262.55850\tvalid-rmse:240172.55768\n",
      "[290]\ttrain-rmse:229282.33055\tvalid-rmse:239531.42929\n",
      "[299]\ttrain-rmse:228570.43321\tvalid-rmse:239123.04167\n",
      "MAE:\n",
      "For TRAIN = 126935.96\n",
      "For TEST = 131779.97\n",
      "\n",
      "MSE:\n",
      "For TRAIN = 52244442908\n",
      "For TEST = 57179829086\n",
      "\n",
      "R2:\n",
      "For TRAIN = 0.77\n",
      "For TEST = 0.74\n"
     ]
    }
   ],
   "source": [
    "# Создание матриц наблюдений в формате DMatrix\n",
    "valid_columns = [col for col in new_best if col in X_train_scal.columns]\n",
    "dtrain = xgb.DMatrix(X_train_scal[new_best], label=y_train, feature_names=valid_columns)\n",
    "dtest = xgb.DMatrix(X_test_scal[new_best], label=y_test, feature_names=valid_columns)\n",
    "\n",
    "# Гиперпараметры модели\n",
    "xgb_pars = {'min_child_weight': 20, 'eta': 0.1, 'colsample_bytree': 0.9, \n",
    "            'max_depth': 6, 'subsample': 0.9, 'lambda': 1, 'nthread': -1, \n",
    "            'booster' : 'gbtree', 'eval_metric': 'rmse', 'objective': 'reg:squarederror'\n",
    "           }\n",
    "# Тренировочная и валидационная выборка\n",
    "watchlist = [(dtrain, 'train'), (dtest, 'valid')]\n",
    "# Обучаем модель XGBoost\n",
    "model_xgb = xgb.train(\n",
    "    params=xgb_pars, #гиперпараметры модели\n",
    "    dtrain=dtrain, #обучающая выборка\n",
    "    num_boost_round=300, #количество моделей в ансамбле\n",
    "    evals=watchlist, #выборки, на которых считается матрица\n",
    "    early_stopping_rounds=20, #ранняя остановка\n",
    "    maximize=False, #смена поиска максимума на минимум\n",
    "    verbose_eval=10 #шаг, через который происходит отображение метрик\n",
    ")\n",
    "\n",
    "y_train_predict = model_xgb.predict(dtrain)\n",
    "y_test_predict = model_xgb.predict(dtest)\n",
    "\n",
    "metrics_func(y_train, y_train_predict, y_test, y_test_predict)"
   ]
  },
  {
   "cell_type": "code",
   "execution_count": 167,
   "id": "60deb599",
   "metadata": {},
   "outputs": [
    {
     "data": {
      "text/plain": [
       "<AxesSubplot:title={'center':'Feature importance'}, xlabel='F score', ylabel='Features'>"
      ]
     },
     "execution_count": 167,
     "metadata": {},
     "output_type": "execute_result"
    },
    {
     "data": {
      "image/jpeg": "[encoded data removed]",
      "text/plain": [
       "<Figure size 648x648 with 1 Axes>"
      ]
     },
     "metadata": {
      "needs_background": "light"
     },
     "output_type": "display_data"
    }
   ],
   "source": [
    "fig, ax = plt.subplots(figsize = (9,9))\n",
    "xgb.plot_importance(model_xgb, ax = ax, height=0.5)"
   ]
  },
  {
   "cell_type": "markdown",
   "id": "5b55158e",
   "metadata": {},
   "source": [
    "## 4. Оценка Модели"
   ]
  },
  {
   "cell_type": "markdown",
   "id": "f0fff6cd",
   "metadata": {},
   "source": [
    "Создадим таблицу со сводными данными по построенным моделям, выделив шрифтом модели с лучшими результатами. Принципиально по метрикам практическая разница несущественна, поэтому для дальнейшего развёртывания выберем модель RandomForestRegressor TOP-11 - у неё есть преимущества - нет необходимости производить нормализацию признаков, допускает параллельные  вычисления, нет склонности к переобучению.\n",
    "\n",
    "<font color='green'>**Модель/Метрика**</font>       |<font  color='green'>**R2**   </font>|<font color='green'>**MSE**</font>\n",
    ":------|:-------:|:-\n",
    "**Baseline** |    0.30/0.30|  160214 501952/156228 215998\n",
    "**LinearRegression TOP-25** |    0.24/0.24|  172948 942378/168415 994699\n",
    "**LinearRegression best_variables** |    0.30/0.30|  160215 274549/156227 318078\n",
    "**PolinominalFeature** |    0.33/0.33|  151829 797220/148807 748504\n",
    "**DecisiontreeRegressor TOP-25** |    0.61/0.52|  88535 781990/105813 040728\n",
    "**RandomForestRegressor TOP-25** |    0.72/0.62|  62694 598690/84813 193832\n",
    "**AdaBoost TOP-25** |    0.29/0.29|  161295 972433/158780 919412\n",
    "**GradientBoostingRegressor TOP-25** |    0.75/0.63|  57003 662848/82080 471585\n",
    "**CatBoost TOP-25** |    0.62/0.60|  86856 948073/89056 266427\n",
    "**CatBoost TOP-11** |   **0.77/0.74**|  **53349 145563/57058 532357**\n",
    "**RandomForestRegressor TOP-11** |    **0.77/0.70**|  **51482 479888/65688 990747**\n",
    "**GradientBoostingRegressor TOP-11** |    **0.80/0.74**|  **46597 215243/56885 521015**\n",
    "**XGB TOP-11** |    **0.77/0.74**|  **52244 442908/57179 829086**\n"
   ]
  },
  {
   "cell_type": "markdown",
   "id": "c2db30c8",
   "metadata": {},
   "source": [
    "В итоге нам удалось повысить качество моделирования по сравнению с базовой моделью. Мы выбрали модель, оценили ей качество, приняли решение о внедрении, но в дальнейшем данную модель возможно усовершенствовать и улучшить, так, например:\n",
    "1. Вернуться к признакам и провести дополнительные проверки на логическую непротиворечивость между собой, для признака площадь дома(sqft), играющего большую роль в модели, оценить необходимость удаления выбросов, и т.п.\n",
    "2. В моделировании попробовать стекинг с импользованием разных базовых моделей.\n",
    "3. Разделить датасет на несколько выборок(по целевому признаку), и построить для каждой свою модель, определить метрики.\n",
    "4. Дополнить в дальнейшем dataset дополнительными признаками, которые очевидно влияют на стоимость недвижимости: необходимость ремонта/нет, угловая квартира/нет, выполнен дизайнерский ремонт/нет и т.п."
   ]
  },
  {
   "cell_type": "markdown",
   "id": "f7ee3e06",
   "metadata": {},
   "source": [
    "## 5. Внедрение"
   ]
  },
  {
   "cell_type": "markdown",
   "id": "44d49dcb",
   "metadata": {},
   "source": [
    "При подготовке модели к внедрению напишем веб-сервер(server.py) на Flask, реализующий модель RandomForestRegressor с 11 признаками, а также клиентский сервис(client.py) для проверки. \n",
    "Для начала переобучим нашу модель на ненормализованных данных так как в модель будем подавать именно их, и сериализуем модель в файл:"
   ]
  },
  {
   "cell_type": "code",
   "execution_count": 168,
   "id": "09392be0",
   "metadata": {},
   "outputs": [
    {
     "name": "stdout",
     "output_type": "stream",
     "text": [
      "MAE:\n",
      "For TRAIN = 135492.26\n",
      "For TEST = 148708.42\n",
      "\n",
      "MSE:\n",
      "For TRAIN = 51481392433\n",
      "For TEST = 65685120312\n",
      "\n",
      "R2:\n",
      "For TRAIN = 0.77\n",
      "For TEST = 0.7\n"
     ]
    }
   ],
   "source": [
    "random_forest_noscal = ensemble.RandomForestRegressor(n_estimators=200,\n",
    "                                               max_depth=13,                                               \n",
    "                                               criterion='squared_error',\n",
    "                                               random_state=42)\n",
    "\n",
    "random_forest_noscal.fit(X_train[new_best], y_train)\n",
    "\n",
    "y_train_pred = random_forest_noscal.predict(X_train[new_best])\n",
    "y_test_pred = random_forest_noscal.predict(X_test[new_best])\n",
    "metrics_func(y_train, y_train_pred, y_test, y_test_pred)"
   ]
  },
  {
   "cell_type": "code",
   "execution_count": 169,
   "id": "b88d4131",
   "metadata": {},
   "outputs": [],
   "source": [
    "# сериализация модели\n",
    "with open('model.pkl', 'wb') as output:\n",
    "    pickle.dump(random_forest_noscal, output)"
   ]
  },
  {
   "cell_type": "markdown",
   "id": "81599353",
   "metadata": {},
   "source": [
    "Тестирование веб-сервера заключалось в проверке совпадения предсказаний из ответа веб-сервера и модели в блокноте jupyter на отдельных записях из X_train и X_test, вводимых вручную в приложении client.py. Результаты тестирования подтвердили правильность функционирования веб-сервера. "
   ]
  }
 ],
 "metadata": {
  "kernelspec": {
   "display_name": "Python 3 (ipykernel)",
   "language": "python",
   "name": "python3"
  },
  "language_info": {
   "codemirror_mode": {
    "name": "ipython",
    "version": 3
   },
   "file_extension": ".py",
   "mimetype": "text/x-python",
   "name": "python",
   "nbconvert_exporter": "python",
   "pygments_lexer": "ipython3",
   "version": "3.8.10"
  }
 },
 "nbformat": 4,
 "nbformat_minor": 5
}
